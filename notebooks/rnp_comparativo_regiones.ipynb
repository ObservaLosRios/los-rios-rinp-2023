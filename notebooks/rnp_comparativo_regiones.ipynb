{
 "cells": [
  {
   "cell_type": "markdown",
   "id": "f1c01054",
   "metadata": {},
   "source": [
    "# Comparativo nacional y regiones foco RNP 2023\n",
    "\n",
    "\n",
    "\n",
    "Notebook dedicado a contrastar el panorama nacional del sistema RNP 2023 con las regiones foco: Los Ríos, Biobío, Metropolitana de Santiago, Los Lagos y Araucanía."
   ]
  },
  {
   "cell_type": "markdown",
   "id": "a097d713",
   "metadata": {},
   "source": [
    "## 1. Set Up Environment\n",
    "\n",
    "\n",
    "\n",
    "Configuramos librerías base, opciones de visualización y constantes para asegurar reproducibilidad y estilo consistente."
   ]
  },
  {
   "cell_type": "code",
   "execution_count": 1,
   "id": "35f22305",
   "metadata": {},
   "outputs": [],
   "source": [
    "from __future__ import annotations\n",
    "\n",
    "from pathlib import Path\n",
    "from typing import Dict, Iterable\n",
    "\n",
    "import math\n",
    "\n",
    "import pandas as pd\n",
    "import plotly.express as px\n",
    "import plotly.graph_objects as go\n",
    "from IPython.display import Markdown\n",
    "\n",
    "pd.set_option(\"display.max_rows\", 20)\n",
    "pd.set_option(\"display.max_columns\", 40)\n",
    "pd.set_option(\"display.float_format\", \"{:,.2f}\".format)\n",
    "\n",
    "PROJECT_ROOT = Path.cwd()\n",
    "while PROJECT_ROOT != PROJECT_ROOT.parent:\n",
    "    if (PROJECT_ROOT / \"data\").is_dir() and (PROJECT_ROOT / \"src\").is_dir():\n",
    "        break\n",
    "    PROJECT_ROOT = PROJECT_ROOT.parent\n",
    "else:\n",
    "    raise FileNotFoundError(\"No se encontró la raíz del proyecto con carpetas 'data' y 'src'.\")\n",
    "\n",
    "PROCESSED_DIR = PROJECT_ROOT / \"data\" / \"processed\"\n",
    "\n",
    "ECONOMIST_COLORS = [\n",
    "    \"#005f73\",\n",
    "    \"#0a9396\",\n",
    "    \"#94d2bd\",\n",
    "    \"#ee9b00\",\n",
    "    \"#ca6702\",\n",
    "    \"#bb3e03\",\n",
    "    \"#ae2012\",\n",
    "    \"#001219\",\n",
    "]\n",
    "\n",
    "FOCUS_REGIONS = [\n",
    "    \"Los Ríos\",\n",
    "    \"Biobío\",\n",
    "    \"Metropolitana De Santiago\",\n",
    "    \"Los Lagos\",\n",
    "    \"Araucanía\",\n",
    "]"
   ]
  },
  {
   "cell_type": "markdown",
   "id": "d234bda7",
   "metadata": {},
   "source": [
    "## 2. Define Utility Functions\n",
    "\n",
    "\n",
    "\n",
    "Funciones auxiliares para estilizar gráficos, formatear toneladas y construir tablas comparativas."
   ]
  },
  {
   "cell_type": "code",
   "execution_count": 2,
   "id": "e16b3302",
   "metadata": {},
   "outputs": [],
   "source": [
    "def apply_economist_style(\n",
    "\n",
    "    fig: go.Figure,\n",
    "\n",
    "    *,\n",
    "\n",
    "    font_family: str = \"Georgia, serif\",\n",
    "\n",
    "    base_color: str = \"#355070\",\n",
    "\n",
    "    highlight_color: str = \"#d62828\",\n",
    "\n",
    "    background_color: str = \"#f7f2ea\",\n",
    "\n",
    "    grid_color: str = \"#d9d3c5\",\n",
    "\n",
    "    underline: bool = True,\n",
    "\n",
    "    auto_marker_line: bool = True,\n",
    "\n",
    ") -> go.Figure:\n",
    "\n",
    "    text_color = \"#1e1b18\"\n",
    "\n",
    "    fig.update_layout(\n",
    "\n",
    "        template=\"plotly_white\",\n",
    "\n",
    "        font=dict(family=font_family, color=text_color, size=15),\n",
    "\n",
    "        title=dict(font=dict(family=font_family, size=22, color=text_color), x=0.0, y=0.96),\n",
    "\n",
    "        xaxis=dict(\n",
    "\n",
    "            title=dict(font=dict(family=font_family, color=text_color, size=14)),\n",
    "\n",
    "            tickfont=dict(family=font_family, color=text_color, size=12),\n",
    "\n",
    "            showgrid=True,\n",
    "\n",
    "            gridcolor=grid_color,\n",
    "\n",
    "            griddash=\"dot\",\n",
    "\n",
    "            zeroline=False,\n",
    "\n",
    "            linecolor=grid_color,\n",
    "\n",
    "        ),\n",
    "\n",
    "        yaxis=dict(\n",
    "\n",
    "            title=dict(font=dict(family=font_family, color=text_color, size=14)),\n",
    "\n",
    "            tickfont=dict(family=font_family, color=text_color, size=12),\n",
    "\n",
    "            showgrid=False,\n",
    "\n",
    "            zeroline=False,\n",
    "\n",
    "            linecolor=grid_color,\n",
    "\n",
    "        ),\n",
    "\n",
    "        legend=dict(font=dict(family=font_family, color=text_color, size=12)),\n",
    "\n",
    "        hoverlabel=dict(bgcolor=\"#ffffff\", font=dict(family=font_family, color=text_color)),\n",
    "\n",
    "        bargap=0.28,\n",
    "\n",
    "        plot_bgcolor=background_color,\n",
    "\n",
    "        paper_bgcolor=background_color,\n",
    "\n",
    "        margin=dict(l=90, r=40, t=95, b=70),\n",
    "\n",
    "        colorway=[base_color],\n",
    "\n",
    "    )\n",
    "\n",
    "\n",
    "\n",
    "    if underline:\n",
    "\n",
    "        underline_shape = dict(\n",
    "\n",
    "            type=\"line\",\n",
    "\n",
    "            x0=0.0,\n",
    "\n",
    "            x1=0.22,\n",
    "\n",
    "            y0=1.09,\n",
    "\n",
    "            y1=1.09,\n",
    "\n",
    "            xref=\"paper\",\n",
    "\n",
    "            yref=\"paper\",\n",
    "\n",
    "            line=dict(color=highlight_color, width=4),\n",
    "\n",
    "        )\n",
    "\n",
    "        existing_shapes = list(fig.layout.shapes) if fig.layout.shapes else []\n",
    "\n",
    "        fig.update_layout(shapes=[underline_shape, *existing_shapes])\n",
    "\n",
    "    else:\n",
    "\n",
    "        fig.update_layout(shapes=[])\n",
    "\n",
    "\n",
    "\n",
    "    if auto_marker_line:\n",
    "\n",
    "        fig.update_traces(\n",
    "\n",
    "            marker_line_color=highlight_color,\n",
    "\n",
    "            marker_line_width=0.7,\n",
    "\n",
    "            selector=dict(type=\"bar\"),\n",
    "\n",
    "        )\n",
    "\n",
    "\n",
    "\n",
    "    for ann in fig.layout.annotations or []:\n",
    "\n",
    "        ann.font = dict(family=font_family, color=\"#4a4338\", size=12)\n",
    "\n",
    "\n",
    "\n",
    "    return fig\n",
    "\n",
    "\n",
    "\n",
    "\n",
    "\n",
    "def humanize_tonnes(value: float) -> str:\n",
    "\n",
    "    if value >= 1_000_000:\n",
    "\n",
    "        return f\"{value / 1_000_000:.1f} millones t\"\n",
    "\n",
    "    if value >= 1_000:\n",
    "\n",
    "        return f\"{value / 1_000:.1f} mil t\"\n",
    "\n",
    "    return f\"{value:,.0f} t\"\n",
    "\n",
    "\n",
    "\n",
    "\n",
    "\n",
    "def format_share(value: float) -> str:\n",
    "\n",
    "    return f\"{value * 100:.1f}%\""
   ]
  },
  {
   "cell_type": "markdown",
   "id": "b1406fe9",
   "metadata": {},
   "source": [
    "## 3. Run Core Computations\n",
    "\n",
    "Cargamos los datasets depurados, elaboramos métricas nacionales y construimos cuadros comparativos para las regiones foco.\n",
    "\n",
    "> **Nota de estilo**: Para las visualizaciones clave adoptaremos la línea gráfica de [Our World in Data](https://github.com/owid/owid-grapher): tipografía sans-serif, fondos claros y acentos mínimos que destaquen comparaciones relevantes."
   ]
  },
  {
   "cell_type": "code",
   "execution_count": 3,
   "id": "1aa94111",
   "metadata": {},
   "outputs": [
    {
     "data": {
      "text/html": [
       "<div>\n",
       "<style scoped>\n",
       "    .dataframe tbody tr th:only-of-type {\n",
       "        vertical-align: middle;\n",
       "    }\n",
       "\n",
       "    .dataframe tbody tr th {\n",
       "        vertical-align: top;\n",
       "    }\n",
       "\n",
       "    .dataframe thead th {\n",
       "        text-align: right;\n",
       "    }\n",
       "</style>\n",
       "<table border=\"1\" class=\"dataframe\">\n",
       "  <thead>\n",
       "    <tr style=\"text-align: right;\">\n",
       "      <th></th>\n",
       "      <th>Indicador</th>\n",
       "      <th>Valor</th>\n",
       "    </tr>\n",
       "  </thead>\n",
       "  <tbody>\n",
       "    <tr>\n",
       "      <th>0</th>\n",
       "      <td>Residuos totales registrados</td>\n",
       "      <td>10.4 millones t</td>\n",
       "    </tr>\n",
       "    <tr>\n",
       "      <th>1</th>\n",
       "      <td>Regiones con reportes</td>\n",
       "      <td>16</td>\n",
       "    </tr>\n",
       "    <tr>\n",
       "      <th>2</th>\n",
       "      <td>Establecimientos únicos</td>\n",
       "      <td>8411</td>\n",
       "    </tr>\n",
       "    <tr>\n",
       "      <th>3</th>\n",
       "      <td>Tratamiento predominante</td>\n",
       "      <td>Eliminación</td>\n",
       "    </tr>\n",
       "  </tbody>\n",
       "</table>\n",
       "</div>"
      ],
      "text/plain": [
       "                      Indicador            Valor\n",
       "0  Residuos totales registrados  10.4 millones t\n",
       "1         Regiones con reportes               16\n",
       "2       Establecimientos únicos             8411\n",
       "3      Tratamiento predominante      Eliminación"
      ]
     },
     "execution_count": 3,
     "metadata": {},
     "output_type": "execute_result"
    }
   ],
   "source": [
    "clean_df = pd.read_parquet(PROCESSED_DIR / \"rinp_generacion_2023_cl_clean.parquet\")\n",
    "\n",
    "\n",
    "\n",
    "region_df = pd.read_csv(PROCESSED_DIR / \"region_summary.csv\", sep=\";\")\n",
    "\n",
    "region_df.columns = [\"region\", \"toneladas_sum\", \"toneladas_promedio\", \"registros\"]\n",
    "\n",
    "region_df[\"toneladas_sum\"] = pd.to_numeric(region_df[\"toneladas_sum\"], errors=\"coerce\")\n",
    "\n",
    "region_df[\"registros\"] = pd.to_numeric(region_df[\"registros\"], errors=\"coerce\", downcast=\"integer\")\n",
    "\n",
    "region_df = region_df.sort_values(\"toneladas_sum\", ascending=False).reset_index(drop=True)\n",
    "\n",
    "\n",
    "\n",
    "treatment_df = pd.read_csv(PROCESSED_DIR / \"region_treatment.csv\", sep=\";\")\n",
    "\n",
    "treatment_df.columns = [\"region\", \"tratamiento_nivel_1\", \"toneladas\"]\n",
    "\n",
    "treatment_df[\"toneladas\"] = pd.to_numeric(treatment_df[\"toneladas\"], errors=\"coerce\")\n",
    "\n",
    "\n",
    "\n",
    "focus_region_df = region_df[region_df[\"region\"].isin(FOCUS_REGIONS)].copy()\n",
    "\n",
    "focus_region_df[\"region\"] = pd.Categorical(focus_region_df[\"region\"], categories=FOCUS_REGIONS, ordered=True)\n",
    "\n",
    "focus_region_df = focus_region_df.sort_values(\"toneladas_sum\", ascending=False).reset_index(drop=True)\n",
    "\n",
    "\n",
    "\n",
    "overall_mix = (\n",
    "\n",
    "    treatment_df.groupby(\"tratamiento_nivel_1\", as_index=False)[\"toneladas\"].sum()\n",
    "\n",
    "    .sort_values(\"toneladas\", ascending=False)\n",
    "\n",
    "    .reset_index(drop=True)\n",
    "\n",
    ")\n",
    "\n",
    "overall_mix[\"share\"] = overall_mix[\"toneladas\"] / overall_mix[\"toneladas\"].sum()\n",
    "\n",
    "\n",
    "\n",
    "focus_treatment_share_df = treatment_df[treatment_df[\"region\"].isin(FOCUS_REGIONS)].copy()\n",
    "\n",
    "focus_treatment_share_df[\"share\"] = focus_treatment_share_df[\"toneladas\"] / focus_treatment_share_df.groupby(\"region\")[\"toneladas\"].transform(\"sum\")\n",
    "\n",
    "focus_treatment_share_df[\"region\"] = pd.Categorical(focus_treatment_share_df[\"region\"], categories=FOCUS_REGIONS, ordered=True)\n",
    "\n",
    "\n",
    "\n",
    "los_rios_total = focus_region_df.loc[focus_region_df[\"region\"] == \"Los Ríos\", \"toneladas_sum\"].sum()\n",
    "\n",
    "los_rios_share = los_rios_total / region_df[\"toneladas_sum\"].sum()\n",
    "\n",
    "\n",
    "\n",
    "headline_metrics = pd.DataFrame(\n",
    "\n",
    "    {\n",
    "\n",
    "        \"Indicador\": [\n",
    "\n",
    "            \"Residuos totales registrados\",\n",
    "\n",
    "            \"Regiones con reportes\",\n",
    "\n",
    "            \"Establecimientos únicos\",\n",
    "\n",
    "            \"Tratamiento predominante\",\n",
    "\n",
    "        ],\n",
    "\n",
    "        \"Valor\": [\n",
    "\n",
    "            humanize_tonnes(clean_df[\"cantidad_toneladas\"].sum()),\n",
    "\n",
    "            clean_df[\"region\"].nunique(),\n",
    "\n",
    "            clean_df[\"nombre_establecimiento\"].nunique(),\n",
    "\n",
    "            overall_mix.iloc[0][\"tratamiento_nivel_1\"],\n",
    "\n",
    "        ],\n",
    "\n",
    "    }\n",
    "\n",
    ")\n",
    "\n",
    "\n",
    "\n",
    "headline_metrics"
   ]
  },
  {
   "cell_type": "markdown",
   "id": "945d9b63",
   "metadata": {},
   "source": [
    "## 4. Validate Outputs\n",
    "\n",
    "\n",
    "\n",
    "Verificamos resultados mediante tablas resumidas, visualizaciones y aserciones ligeras que confirmen consistencia de los datos."
   ]
  },
  {
   "cell_type": "markdown",
   "id": "0e30bd4a",
   "metadata": {},
   "source": [
    "#### Diferencias entre regiones foco\n",
    "\n",
    "Complementamos el panorama nacional con un zoom en la canasta de regiones que nos pidió el equipo técnico."
   ]
  },
  {
   "cell_type": "code",
   "execution_count": 4,
   "id": "ea126a1d",
   "metadata": {},
   "outputs": [
    {
     "data": {
      "application/vnd.plotly.v1+json": {
       "config": {
        "plotlyServerURL": "https://plot.ly"
       },
       "data": [
        {
         "cells": {
          "align": "left",
          "fill": {
           "color": [
            [
             "#faf6f0",
             "#f1e7db",
             "#faf6f0",
             "#f1e7db"
            ]
           ]
          },
          "font": {
           "color": "#1e1b18",
           "family": "Georgia, serif",
           "size": 14
          },
          "height": 32,
          "values": [
           [
            "Residuos totales registrados",
            "Regiones con reportes",
            "Establecimientos únicos",
            "Tratamiento predominante"
           ],
           [
            "10.4 millones t",
            16,
            8411,
            "Eliminación"
           ]
          ]
         },
         "columnorder": [
          1,
          2
         ],
         "header": {
          "align": "left",
          "fill": {
           "color": "#1e293b"
          },
          "font": {
           "color": "#ffffff",
           "family": "Georgia, serif",
           "size": 16
          },
          "height": 38,
          "values": [
           "Indicador",
           "Valor"
          ]
         },
         "type": "table"
        }
       ],
       "layout": {
        "annotations": [
         {
          "font": {
           "color": "#6e6252",
           "family": "Georgia, serif",
           "size": 11
          },
          "showarrow": false,
          "text": "Fuente: RNP 2023",
          "x": 0,
          "xref": "paper",
          "y": -0.15,
          "yref": "paper"
         }
        ],
        "height": 250,
        "margin": {
         "b": 0,
         "l": 0,
         "r": 0,
         "t": 10
        },
        "paper_bgcolor": "#f7f2ea",
        "shapes": [
         {
          "line": {
           "color": "#d62828",
           "width": 4
          },
          "type": "line",
          "x0": 0,
          "x1": 0.22,
          "xref": "paper",
          "y0": 1.08,
          "y1": 1.08,
          "yref": "paper"
         }
        ],
        "template": {
         "data": {
          "bar": [
           {
            "error_x": {
             "color": "#2a3f5f"
            },
            "error_y": {
             "color": "#2a3f5f"
            },
            "marker": {
             "line": {
              "color": "#E5ECF6",
              "width": 0.5
             },
             "pattern": {
              "fillmode": "overlay",
              "size": 10,
              "solidity": 0.2
             }
            },
            "type": "bar"
           }
          ],
          "barpolar": [
           {
            "marker": {
             "line": {
              "color": "#E5ECF6",
              "width": 0.5
             },
             "pattern": {
              "fillmode": "overlay",
              "size": 10,
              "solidity": 0.2
             }
            },
            "type": "barpolar"
           }
          ],
          "carpet": [
           {
            "aaxis": {
             "endlinecolor": "#2a3f5f",
             "gridcolor": "white",
             "linecolor": "white",
             "minorgridcolor": "white",
             "startlinecolor": "#2a3f5f"
            },
            "baxis": {
             "endlinecolor": "#2a3f5f",
             "gridcolor": "white",
             "linecolor": "white",
             "minorgridcolor": "white",
             "startlinecolor": "#2a3f5f"
            },
            "type": "carpet"
           }
          ],
          "choropleth": [
           {
            "colorbar": {
             "outlinewidth": 0,
             "ticks": ""
            },
            "type": "choropleth"
           }
          ],
          "contour": [
           {
            "colorbar": {
             "outlinewidth": 0,
             "ticks": ""
            },
            "colorscale": [
             [
              0,
              "#0d0887"
             ],
             [
              0.1111111111111111,
              "#46039f"
             ],
             [
              0.2222222222222222,
              "#7201a8"
             ],
             [
              0.3333333333333333,
              "#9c179e"
             ],
             [
              0.4444444444444444,
              "#bd3786"
             ],
             [
              0.5555555555555556,
              "#d8576b"
             ],
             [
              0.6666666666666666,
              "#ed7953"
             ],
             [
              0.7777777777777778,
              "#fb9f3a"
             ],
             [
              0.8888888888888888,
              "#fdca26"
             ],
             [
              1,
              "#f0f921"
             ]
            ],
            "type": "contour"
           }
          ],
          "contourcarpet": [
           {
            "colorbar": {
             "outlinewidth": 0,
             "ticks": ""
            },
            "type": "contourcarpet"
           }
          ],
          "heatmap": [
           {
            "colorbar": {
             "outlinewidth": 0,
             "ticks": ""
            },
            "colorscale": [
             [
              0,
              "#0d0887"
             ],
             [
              0.1111111111111111,
              "#46039f"
             ],
             [
              0.2222222222222222,
              "#7201a8"
             ],
             [
              0.3333333333333333,
              "#9c179e"
             ],
             [
              0.4444444444444444,
              "#bd3786"
             ],
             [
              0.5555555555555556,
              "#d8576b"
             ],
             [
              0.6666666666666666,
              "#ed7953"
             ],
             [
              0.7777777777777778,
              "#fb9f3a"
             ],
             [
              0.8888888888888888,
              "#fdca26"
             ],
             [
              1,
              "#f0f921"
             ]
            ],
            "type": "heatmap"
           }
          ],
          "histogram": [
           {
            "marker": {
             "pattern": {
              "fillmode": "overlay",
              "size": 10,
              "solidity": 0.2
             }
            },
            "type": "histogram"
           }
          ],
          "histogram2d": [
           {
            "colorbar": {
             "outlinewidth": 0,
             "ticks": ""
            },
            "colorscale": [
             [
              0,
              "#0d0887"
             ],
             [
              0.1111111111111111,
              "#46039f"
             ],
             [
              0.2222222222222222,
              "#7201a8"
             ],
             [
              0.3333333333333333,
              "#9c179e"
             ],
             [
              0.4444444444444444,
              "#bd3786"
             ],
             [
              0.5555555555555556,
              "#d8576b"
             ],
             [
              0.6666666666666666,
              "#ed7953"
             ],
             [
              0.7777777777777778,
              "#fb9f3a"
             ],
             [
              0.8888888888888888,
              "#fdca26"
             ],
             [
              1,
              "#f0f921"
             ]
            ],
            "type": "histogram2d"
           }
          ],
          "histogram2dcontour": [
           {
            "colorbar": {
             "outlinewidth": 0,
             "ticks": ""
            },
            "colorscale": [
             [
              0,
              "#0d0887"
             ],
             [
              0.1111111111111111,
              "#46039f"
             ],
             [
              0.2222222222222222,
              "#7201a8"
             ],
             [
              0.3333333333333333,
              "#9c179e"
             ],
             [
              0.4444444444444444,
              "#bd3786"
             ],
             [
              0.5555555555555556,
              "#d8576b"
             ],
             [
              0.6666666666666666,
              "#ed7953"
             ],
             [
              0.7777777777777778,
              "#fb9f3a"
             ],
             [
              0.8888888888888888,
              "#fdca26"
             ],
             [
              1,
              "#f0f921"
             ]
            ],
            "type": "histogram2dcontour"
           }
          ],
          "mesh3d": [
           {
            "colorbar": {
             "outlinewidth": 0,
             "ticks": ""
            },
            "type": "mesh3d"
           }
          ],
          "parcoords": [
           {
            "line": {
             "colorbar": {
              "outlinewidth": 0,
              "ticks": ""
             }
            },
            "type": "parcoords"
           }
          ],
          "pie": [
           {
            "automargin": true,
            "type": "pie"
           }
          ],
          "scatter": [
           {
            "fillpattern": {
             "fillmode": "overlay",
             "size": 10,
             "solidity": 0.2
            },
            "type": "scatter"
           }
          ],
          "scatter3d": [
           {
            "line": {
             "colorbar": {
              "outlinewidth": 0,
              "ticks": ""
             }
            },
            "marker": {
             "colorbar": {
              "outlinewidth": 0,
              "ticks": ""
             }
            },
            "type": "scatter3d"
           }
          ],
          "scattercarpet": [
           {
            "marker": {
             "colorbar": {
              "outlinewidth": 0,
              "ticks": ""
             }
            },
            "type": "scattercarpet"
           }
          ],
          "scattergeo": [
           {
            "marker": {
             "colorbar": {
              "outlinewidth": 0,
              "ticks": ""
             }
            },
            "type": "scattergeo"
           }
          ],
          "scattergl": [
           {
            "marker": {
             "colorbar": {
              "outlinewidth": 0,
              "ticks": ""
             }
            },
            "type": "scattergl"
           }
          ],
          "scattermap": [
           {
            "marker": {
             "colorbar": {
              "outlinewidth": 0,
              "ticks": ""
             }
            },
            "type": "scattermap"
           }
          ],
          "scattermapbox": [
           {
            "marker": {
             "colorbar": {
              "outlinewidth": 0,
              "ticks": ""
             }
            },
            "type": "scattermapbox"
           }
          ],
          "scatterpolar": [
           {
            "marker": {
             "colorbar": {
              "outlinewidth": 0,
              "ticks": ""
             }
            },
            "type": "scatterpolar"
           }
          ],
          "scatterpolargl": [
           {
            "marker": {
             "colorbar": {
              "outlinewidth": 0,
              "ticks": ""
             }
            },
            "type": "scatterpolargl"
           }
          ],
          "scatterternary": [
           {
            "marker": {
             "colorbar": {
              "outlinewidth": 0,
              "ticks": ""
             }
            },
            "type": "scatterternary"
           }
          ],
          "surface": [
           {
            "colorbar": {
             "outlinewidth": 0,
             "ticks": ""
            },
            "colorscale": [
             [
              0,
              "#0d0887"
             ],
             [
              0.1111111111111111,
              "#46039f"
             ],
             [
              0.2222222222222222,
              "#7201a8"
             ],
             [
              0.3333333333333333,
              "#9c179e"
             ],
             [
              0.4444444444444444,
              "#bd3786"
             ],
             [
              0.5555555555555556,
              "#d8576b"
             ],
             [
              0.6666666666666666,
              "#ed7953"
             ],
             [
              0.7777777777777778,
              "#fb9f3a"
             ],
             [
              0.8888888888888888,
              "#fdca26"
             ],
             [
              1,
              "#f0f921"
             ]
            ],
            "type": "surface"
           }
          ],
          "table": [
           {
            "cells": {
             "fill": {
              "color": "#EBF0F8"
             },
             "line": {
              "color": "white"
             }
            },
            "header": {
             "fill": {
              "color": "#C8D4E3"
             },
             "line": {
              "color": "white"
             }
            },
            "type": "table"
           }
          ]
         },
         "layout": {
          "annotationdefaults": {
           "arrowcolor": "#2a3f5f",
           "arrowhead": 0,
           "arrowwidth": 1
          },
          "autotypenumbers": "strict",
          "coloraxis": {
           "colorbar": {
            "outlinewidth": 0,
            "ticks": ""
           }
          },
          "colorscale": {
           "diverging": [
            [
             0,
             "#8e0152"
            ],
            [
             0.1,
             "#c51b7d"
            ],
            [
             0.2,
             "#de77ae"
            ],
            [
             0.3,
             "#f1b6da"
            ],
            [
             0.4,
             "#fde0ef"
            ],
            [
             0.5,
             "#f7f7f7"
            ],
            [
             0.6,
             "#e6f5d0"
            ],
            [
             0.7,
             "#b8e186"
            ],
            [
             0.8,
             "#7fbc41"
            ],
            [
             0.9,
             "#4d9221"
            ],
            [
             1,
             "#276419"
            ]
           ],
           "sequential": [
            [
             0,
             "#0d0887"
            ],
            [
             0.1111111111111111,
             "#46039f"
            ],
            [
             0.2222222222222222,
             "#7201a8"
            ],
            [
             0.3333333333333333,
             "#9c179e"
            ],
            [
             0.4444444444444444,
             "#bd3786"
            ],
            [
             0.5555555555555556,
             "#d8576b"
            ],
            [
             0.6666666666666666,
             "#ed7953"
            ],
            [
             0.7777777777777778,
             "#fb9f3a"
            ],
            [
             0.8888888888888888,
             "#fdca26"
            ],
            [
             1,
             "#f0f921"
            ]
           ],
           "sequentialminus": [
            [
             0,
             "#0d0887"
            ],
            [
             0.1111111111111111,
             "#46039f"
            ],
            [
             0.2222222222222222,
             "#7201a8"
            ],
            [
             0.3333333333333333,
             "#9c179e"
            ],
            [
             0.4444444444444444,
             "#bd3786"
            ],
            [
             0.5555555555555556,
             "#d8576b"
            ],
            [
             0.6666666666666666,
             "#ed7953"
            ],
            [
             0.7777777777777778,
             "#fb9f3a"
            ],
            [
             0.8888888888888888,
             "#fdca26"
            ],
            [
             1,
             "#f0f921"
            ]
           ]
          },
          "colorway": [
           "#636efa",
           "#EF553B",
           "#00cc96",
           "#ab63fa",
           "#FFA15A",
           "#19d3f3",
           "#FF6692",
           "#B6E880",
           "#FF97FF",
           "#FECB52"
          ],
          "font": {
           "color": "#2a3f5f"
          },
          "geo": {
           "bgcolor": "white",
           "lakecolor": "white",
           "landcolor": "#E5ECF6",
           "showlakes": true,
           "showland": true,
           "subunitcolor": "white"
          },
          "hoverlabel": {
           "align": "left"
          },
          "hovermode": "closest",
          "mapbox": {
           "style": "light"
          },
          "paper_bgcolor": "white",
          "plot_bgcolor": "#E5ECF6",
          "polar": {
           "angularaxis": {
            "gridcolor": "white",
            "linecolor": "white",
            "ticks": ""
           },
           "bgcolor": "#E5ECF6",
           "radialaxis": {
            "gridcolor": "white",
            "linecolor": "white",
            "ticks": ""
           }
          },
          "scene": {
           "xaxis": {
            "backgroundcolor": "#E5ECF6",
            "gridcolor": "white",
            "gridwidth": 2,
            "linecolor": "white",
            "showbackground": true,
            "ticks": "",
            "zerolinecolor": "white"
           },
           "yaxis": {
            "backgroundcolor": "#E5ECF6",
            "gridcolor": "white",
            "gridwidth": 2,
            "linecolor": "white",
            "showbackground": true,
            "ticks": "",
            "zerolinecolor": "white"
           },
           "zaxis": {
            "backgroundcolor": "#E5ECF6",
            "gridcolor": "white",
            "gridwidth": 2,
            "linecolor": "white",
            "showbackground": true,
            "ticks": "",
            "zerolinecolor": "white"
           }
          },
          "shapedefaults": {
           "line": {
            "color": "#2a3f5f"
           }
          },
          "ternary": {
           "aaxis": {
            "gridcolor": "white",
            "linecolor": "white",
            "ticks": ""
           },
           "baxis": {
            "gridcolor": "white",
            "linecolor": "white",
            "ticks": ""
           },
           "bgcolor": "#E5ECF6",
           "caxis": {
            "gridcolor": "white",
            "linecolor": "white",
            "ticks": ""
           }
          },
          "title": {
           "x": 0.05
          },
          "xaxis": {
           "automargin": true,
           "gridcolor": "white",
           "linecolor": "white",
           "ticks": "",
           "title": {
            "standoff": 15
           },
           "zerolinecolor": "white",
           "zerolinewidth": 2
          },
          "yaxis": {
           "automargin": true,
           "gridcolor": "white",
           "linecolor": "white",
           "ticks": "",
           "title": {
            "standoff": 15
           },
           "zerolinecolor": "white",
           "zerolinewidth": 2
          }
         }
        }
       }
      }
     },
     "metadata": {},
     "output_type": "display_data"
    }
   ],
   "source": [
    "assert not clean_df.empty, \"El dataset limpio no puede estar vacío\"\n",
    "\n",
    "assert set(FOCUS_REGIONS).issubset(set(region_df[\"region\"])), \"Faltan regiones foco en el resumen\"\n",
    "\n",
    "\n",
    "\n",
    "headline_table = go.Figure(\n",
    "\n",
    "    data=[\n",
    "\n",
    "        go.Table(\n",
    "\n",
    "            columnorder=[1, 2],\n",
    "\n",
    "            header=dict(\n",
    "\n",
    "                values=[\"Indicador\", \"Valor\"],\n",
    "\n",
    "                fill_color=\"#1e293b\",\n",
    "\n",
    "                font=dict(color=\"#ffffff\", family=\"Georgia, serif\", size=16),\n",
    "\n",
    "                align=\"left\",\n",
    "\n",
    "                height=38,\n",
    "\n",
    "            ),\n",
    "\n",
    "            cells=dict(\n",
    "\n",
    "                values=[headline_metrics[\"Indicador\"].tolist(), headline_metrics[\"Valor\"].tolist()],\n",
    "\n",
    "                fill_color=[[\"#faf6f0\", \"#f1e7db\"] * 2],\n",
    "\n",
    "                font=dict(color=\"#1e1b18\", family=\"Georgia, serif\", size=14),\n",
    "\n",
    "                align=\"left\",\n",
    "\n",
    "                height=32,\n",
    "\n",
    "            ),\n",
    "\n",
    "        )\n",
    "\n",
    "    ]\n",
    "\n",
    ")\n",
    "\n",
    "headline_table.update_layout(\n",
    "\n",
    "    margin=dict(l=0, r=0, t=10, b=0),\n",
    "\n",
    "    height=250,\n",
    "\n",
    "    paper_bgcolor=\"#f7f2ea\",\n",
    "\n",
    "    annotations=[\n",
    "\n",
    "        dict(\n",
    "\n",
    "            text=\"Fuente: RNP 2023\",\n",
    "\n",
    "            x=0,\n",
    "\n",
    "            y=-0.15,\n",
    "\n",
    "            xref=\"paper\",\n",
    "\n",
    "            yref=\"paper\",\n",
    "\n",
    "            showarrow=False,\n",
    "\n",
    "            font=dict(family=\"Georgia, serif\", size=11, color=\"#6e6252\"),\n",
    "\n",
    "        )\n",
    "\n",
    "    ],\n",
    "\n",
    ")\n",
    "\n",
    "headline_table.add_shape(\n",
    "\n",
    "    type=\"line\",\n",
    "\n",
    "    x0=0.0,\n",
    "\n",
    "    x1=0.22,\n",
    "\n",
    "    y0=1.08,\n",
    "\n",
    "    y1=1.08,\n",
    "\n",
    "    xref=\"paper\",\n",
    "\n",
    "    yref=\"paper\",\n",
    "\n",
    "    line=dict(color=\"#d62828\", width=4),\n",
    "\n",
    ")\n",
    "\n",
    "headline_table"
   ]
  },
  {
   "cell_type": "code",
   "execution_count": 5,
   "id": "dc154ff7",
   "metadata": {},
   "outputs": [
    {
     "data": {
      "application/vnd.plotly.v1+json": {
       "config": {
        "plotlyServerURL": "https://plot.ly"
       },
       "data": [
        {
         "customdata": [
          [
           "Metropolitana De Santiago",
           2945986.601587146,
           0.28406608856703713
          ],
          [
           "Antofagasta",
           1708948.31545536,
           0.164784952950259
          ],
          [
           "Biobío",
           1272967.67979,
           0.1227456192351271
          ],
          [
           "Libertador Gral. Bernardo O'Higgins",
           788716.049854,
           0.07605176586728696
          ],
          [
           "Los Lagos",
           747730.01708301,
           0.07209969697163653
          ],
          [
           "Araucanía",
           615331.380841,
           0.05933318856028956
          ],
          [
           "Valparaíso",
           436916.481247,
           0.04212957241266567
          ],
          [
           "Maule",
           423147.5632019,
           0.040801907619226196
          ],
          [
           "Atacama",
           334056.545019,
           0.03221132643734415
          ],
          [
           "Arica Y Parinacota",
           273386.05124999996,
           0.026361187863358233
          ],
          [
           "Los Ríos",
           241895.6876,
           0.023324736704758327
          ],
          [
           "Ñuble",
           226883.152421,
           0.021877156411801102
          ],
          [
           "Coquimbo",
           99040.56568,
           0.009549964038202737
          ],
          [
           "Magallanes Y De La Antártica Chilena",
           93966.3574693,
           0.009060684664626586
          ],
          [
           "Tarapacá",
           89206.803686,
           0.0086017457727056
          ],
          [
           "Aysén Del Gral. Carlos Ibañez Del Campo",
           72599.662145,
           0.007000405923675238
          ]
         ],
         "hovertemplate": "<b>%{customdata[0]}</b><br>Toneladas: %{customdata[1]:,.0f}<br>Participación nacional: %{customdata[2]:.1%}<extra></extra>",
         "marker": {
          "color": [
           "#b5b8bf",
           "#b5b8bf",
           "#b5b8bf",
           "#b5b8bf",
           "#b5b8bf",
           "#b5b8bf",
           "#b5b8bf",
           "#b5b8bf",
           "#b5b8bf",
           "#b5b8bf",
           "#d62828",
           "#b5b8bf",
           "#b5b8bf",
           "#b5b8bf",
           "#b5b8bf",
           "#b5b8bf"
          ],
          "line": {
           "color": "rgba(0,0,0,0)",
           "width": 0
          }
         },
         "orientation": "h",
         "showlegend": false,
         "text": [
          "2,9 M t · 28,4%",
          "1,7 M t · 16,5%",
          "1,3 M t · 12,3%",
          "0,8 M t · 7,6%",
          "0,7 M t · 7,2%",
          "0,6 M t · 5,9%",
          "0,4 M t · 4,2%",
          "0,4 M t · 4,1%",
          "0,3 M t · 3,2%",
          "0,3 M t · 2,6%",
          "0,2 M t · 2,3%",
          "0,2 M t · 2,2%",
          "0,1 M t · 1,0%",
          "0,1 M t · 0,9%",
          "0,1 M t · 0,9%",
          "0,1 M t · 0,7%"
         ],
         "textfont": {
          "color": "#1e1b18",
          "family": "Georgia, serif",
          "size": 12
         },
         "textposition": "outside",
         "type": "bar",
         "x": {
          "bdata": "9CpibGGRB0AF9lYw2lf7P0ECmVsTXvQ/6ID+cCk96T9VfTOAZ+3nP4lEnW/LsOM/RoOCi3D22z9pZFWE2RTbP0/E97MuYdU//UhTNSh/0T8PiaQZcPbOP5mu1NOBCs0/MqyS9rhauT9lQEHgLQ64P+l8adBB1rY/XgmdNuSVsj8=",
          "dtype": "f8"
         },
         "y": [
          "Metropolitana\nde Santiago",
          "Antofagasta",
          "Biobío",
          "Libertador Gral. Bernardo O'Higgins",
          "Los Lagos",
          "Araucanía",
          "Valparaíso",
          "Maule",
          "Atacama",
          "Arica Y Parinacota",
          "Los Ríos",
          "Ñuble",
          "Coquimbo",
          "Magallanes Y De La Antártica Chilena",
          "Tarapacá",
          "Aysén Del Gral. Carlos Ibañez Del Campo"
         ]
        }
       ],
       "layout": {
        "annotations": [
         {
          "font": {
           "color": "#4a4338",
           "family": "Georgia, serif",
           "size": 14
          },
          "showarrow": false,
          "text": "Chile, RNP 2023",
          "x": 0,
          "xref": "paper",
          "y": 1.05,
          "yref": "paper"
         },
         {
          "font": {
           "color": "#6e6252",
           "family": "Georgia, serif",
           "size": 11
          },
          "showarrow": false,
          "text": "Fuente: Registro Nacional de Emisiones y Transferencias de Residuos (RNP) 2023",
          "x": 0,
          "xref": "paper",
          "y": -0.18,
          "yref": "paper"
         }
        ],
        "bargap": 0.28,
        "colorway": [
         "#b5b8bf"
        ],
        "font": {
         "color": "#1e1b18",
         "family": "Georgia, serif",
         "size": 15
        },
        "height": 720,
        "hoverlabel": {
         "bgcolor": "#ffffff",
         "font": {
          "color": "#1e1b18",
          "family": "Georgia, serif"
         }
        },
        "legend": {
         "font": {
          "color": "#1e1b18",
          "family": "Georgia, serif",
          "size": 12
         }
        },
        "margin": {
         "b": 100,
         "l": 220,
         "r": 120,
         "t": 140
        },
        "paper_bgcolor": "#f7f2ea",
        "plot_bgcolor": "#f7f2ea",
        "template": {
         "data": {
          "bar": [
           {
            "error_x": {
             "color": "#2a3f5f"
            },
            "error_y": {
             "color": "#2a3f5f"
            },
            "marker": {
             "line": {
              "color": "white",
              "width": 0.5
             },
             "pattern": {
              "fillmode": "overlay",
              "size": 10,
              "solidity": 0.2
             }
            },
            "type": "bar"
           }
          ],
          "barpolar": [
           {
            "marker": {
             "line": {
              "color": "white",
              "width": 0.5
             },
             "pattern": {
              "fillmode": "overlay",
              "size": 10,
              "solidity": 0.2
             }
            },
            "type": "barpolar"
           }
          ],
          "carpet": [
           {
            "aaxis": {
             "endlinecolor": "#2a3f5f",
             "gridcolor": "#C8D4E3",
             "linecolor": "#C8D4E3",
             "minorgridcolor": "#C8D4E3",
             "startlinecolor": "#2a3f5f"
            },
            "baxis": {
             "endlinecolor": "#2a3f5f",
             "gridcolor": "#C8D4E3",
             "linecolor": "#C8D4E3",
             "minorgridcolor": "#C8D4E3",
             "startlinecolor": "#2a3f5f"
            },
            "type": "carpet"
           }
          ],
          "choropleth": [
           {
            "colorbar": {
             "outlinewidth": 0,
             "ticks": ""
            },
            "type": "choropleth"
           }
          ],
          "contour": [
           {
            "colorbar": {
             "outlinewidth": 0,
             "ticks": ""
            },
            "colorscale": [
             [
              0,
              "#0d0887"
             ],
             [
              0.1111111111111111,
              "#46039f"
             ],
             [
              0.2222222222222222,
              "#7201a8"
             ],
             [
              0.3333333333333333,
              "#9c179e"
             ],
             [
              0.4444444444444444,
              "#bd3786"
             ],
             [
              0.5555555555555556,
              "#d8576b"
             ],
             [
              0.6666666666666666,
              "#ed7953"
             ],
             [
              0.7777777777777778,
              "#fb9f3a"
             ],
             [
              0.8888888888888888,
              "#fdca26"
             ],
             [
              1,
              "#f0f921"
             ]
            ],
            "type": "contour"
           }
          ],
          "contourcarpet": [
           {
            "colorbar": {
             "outlinewidth": 0,
             "ticks": ""
            },
            "type": "contourcarpet"
           }
          ],
          "heatmap": [
           {
            "colorbar": {
             "outlinewidth": 0,
             "ticks": ""
            },
            "colorscale": [
             [
              0,
              "#0d0887"
             ],
             [
              0.1111111111111111,
              "#46039f"
             ],
             [
              0.2222222222222222,
              "#7201a8"
             ],
             [
              0.3333333333333333,
              "#9c179e"
             ],
             [
              0.4444444444444444,
              "#bd3786"
             ],
             [
              0.5555555555555556,
              "#d8576b"
             ],
             [
              0.6666666666666666,
              "#ed7953"
             ],
             [
              0.7777777777777778,
              "#fb9f3a"
             ],
             [
              0.8888888888888888,
              "#fdca26"
             ],
             [
              1,
              "#f0f921"
             ]
            ],
            "type": "heatmap"
           }
          ],
          "histogram": [
           {
            "marker": {
             "pattern": {
              "fillmode": "overlay",
              "size": 10,
              "solidity": 0.2
             }
            },
            "type": "histogram"
           }
          ],
          "histogram2d": [
           {
            "colorbar": {
             "outlinewidth": 0,
             "ticks": ""
            },
            "colorscale": [
             [
              0,
              "#0d0887"
             ],
             [
              0.1111111111111111,
              "#46039f"
             ],
             [
              0.2222222222222222,
              "#7201a8"
             ],
             [
              0.3333333333333333,
              "#9c179e"
             ],
             [
              0.4444444444444444,
              "#bd3786"
             ],
             [
              0.5555555555555556,
              "#d8576b"
             ],
             [
              0.6666666666666666,
              "#ed7953"
             ],
             [
              0.7777777777777778,
              "#fb9f3a"
             ],
             [
              0.8888888888888888,
              "#fdca26"
             ],
             [
              1,
              "#f0f921"
             ]
            ],
            "type": "histogram2d"
           }
          ],
          "histogram2dcontour": [
           {
            "colorbar": {
             "outlinewidth": 0,
             "ticks": ""
            },
            "colorscale": [
             [
              0,
              "#0d0887"
             ],
             [
              0.1111111111111111,
              "#46039f"
             ],
             [
              0.2222222222222222,
              "#7201a8"
             ],
             [
              0.3333333333333333,
              "#9c179e"
             ],
             [
              0.4444444444444444,
              "#bd3786"
             ],
             [
              0.5555555555555556,
              "#d8576b"
             ],
             [
              0.6666666666666666,
              "#ed7953"
             ],
             [
              0.7777777777777778,
              "#fb9f3a"
             ],
             [
              0.8888888888888888,
              "#fdca26"
             ],
             [
              1,
              "#f0f921"
             ]
            ],
            "type": "histogram2dcontour"
           }
          ],
          "mesh3d": [
           {
            "colorbar": {
             "outlinewidth": 0,
             "ticks": ""
            },
            "type": "mesh3d"
           }
          ],
          "parcoords": [
           {
            "line": {
             "colorbar": {
              "outlinewidth": 0,
              "ticks": ""
             }
            },
            "type": "parcoords"
           }
          ],
          "pie": [
           {
            "automargin": true,
            "type": "pie"
           }
          ],
          "scatter": [
           {
            "fillpattern": {
             "fillmode": "overlay",
             "size": 10,
             "solidity": 0.2
            },
            "type": "scatter"
           }
          ],
          "scatter3d": [
           {
            "line": {
             "colorbar": {
              "outlinewidth": 0,
              "ticks": ""
             }
            },
            "marker": {
             "colorbar": {
              "outlinewidth": 0,
              "ticks": ""
             }
            },
            "type": "scatter3d"
           }
          ],
          "scattercarpet": [
           {
            "marker": {
             "colorbar": {
              "outlinewidth": 0,
              "ticks": ""
             }
            },
            "type": "scattercarpet"
           }
          ],
          "scattergeo": [
           {
            "marker": {
             "colorbar": {
              "outlinewidth": 0,
              "ticks": ""
             }
            },
            "type": "scattergeo"
           }
          ],
          "scattergl": [
           {
            "marker": {
             "colorbar": {
              "outlinewidth": 0,
              "ticks": ""
             }
            },
            "type": "scattergl"
           }
          ],
          "scattermap": [
           {
            "marker": {
             "colorbar": {
              "outlinewidth": 0,
              "ticks": ""
             }
            },
            "type": "scattermap"
           }
          ],
          "scattermapbox": [
           {
            "marker": {
             "colorbar": {
              "outlinewidth": 0,
              "ticks": ""
             }
            },
            "type": "scattermapbox"
           }
          ],
          "scatterpolar": [
           {
            "marker": {
             "colorbar": {
              "outlinewidth": 0,
              "ticks": ""
             }
            },
            "type": "scatterpolar"
           }
          ],
          "scatterpolargl": [
           {
            "marker": {
             "colorbar": {
              "outlinewidth": 0,
              "ticks": ""
             }
            },
            "type": "scatterpolargl"
           }
          ],
          "scatterternary": [
           {
            "marker": {
             "colorbar": {
              "outlinewidth": 0,
              "ticks": ""
             }
            },
            "type": "scatterternary"
           }
          ],
          "surface": [
           {
            "colorbar": {
             "outlinewidth": 0,
             "ticks": ""
            },
            "colorscale": [
             [
              0,
              "#0d0887"
             ],
             [
              0.1111111111111111,
              "#46039f"
             ],
             [
              0.2222222222222222,
              "#7201a8"
             ],
             [
              0.3333333333333333,
              "#9c179e"
             ],
             [
              0.4444444444444444,
              "#bd3786"
             ],
             [
              0.5555555555555556,
              "#d8576b"
             ],
             [
              0.6666666666666666,
              "#ed7953"
             ],
             [
              0.7777777777777778,
              "#fb9f3a"
             ],
             [
              0.8888888888888888,
              "#fdca26"
             ],
             [
              1,
              "#f0f921"
             ]
            ],
            "type": "surface"
           }
          ],
          "table": [
           {
            "cells": {
             "fill": {
              "color": "#EBF0F8"
             },
             "line": {
              "color": "white"
             }
            },
            "header": {
             "fill": {
              "color": "#C8D4E3"
             },
             "line": {
              "color": "white"
             }
            },
            "type": "table"
           }
          ]
         },
         "layout": {
          "annotationdefaults": {
           "arrowcolor": "#2a3f5f",
           "arrowhead": 0,
           "arrowwidth": 1
          },
          "autotypenumbers": "strict",
          "coloraxis": {
           "colorbar": {
            "outlinewidth": 0,
            "ticks": ""
           }
          },
          "colorscale": {
           "diverging": [
            [
             0,
             "#8e0152"
            ],
            [
             0.1,
             "#c51b7d"
            ],
            [
             0.2,
             "#de77ae"
            ],
            [
             0.3,
             "#f1b6da"
            ],
            [
             0.4,
             "#fde0ef"
            ],
            [
             0.5,
             "#f7f7f7"
            ],
            [
             0.6,
             "#e6f5d0"
            ],
            [
             0.7,
             "#b8e186"
            ],
            [
             0.8,
             "#7fbc41"
            ],
            [
             0.9,
             "#4d9221"
            ],
            [
             1,
             "#276419"
            ]
           ],
           "sequential": [
            [
             0,
             "#0d0887"
            ],
            [
             0.1111111111111111,
             "#46039f"
            ],
            [
             0.2222222222222222,
             "#7201a8"
            ],
            [
             0.3333333333333333,
             "#9c179e"
            ],
            [
             0.4444444444444444,
             "#bd3786"
            ],
            [
             0.5555555555555556,
             "#d8576b"
            ],
            [
             0.6666666666666666,
             "#ed7953"
            ],
            [
             0.7777777777777778,
             "#fb9f3a"
            ],
            [
             0.8888888888888888,
             "#fdca26"
            ],
            [
             1,
             "#f0f921"
            ]
           ],
           "sequentialminus": [
            [
             0,
             "#0d0887"
            ],
            [
             0.1111111111111111,
             "#46039f"
            ],
            [
             0.2222222222222222,
             "#7201a8"
            ],
            [
             0.3333333333333333,
             "#9c179e"
            ],
            [
             0.4444444444444444,
             "#bd3786"
            ],
            [
             0.5555555555555556,
             "#d8576b"
            ],
            [
             0.6666666666666666,
             "#ed7953"
            ],
            [
             0.7777777777777778,
             "#fb9f3a"
            ],
            [
             0.8888888888888888,
             "#fdca26"
            ],
            [
             1,
             "#f0f921"
            ]
           ]
          },
          "colorway": [
           "#636efa",
           "#EF553B",
           "#00cc96",
           "#ab63fa",
           "#FFA15A",
           "#19d3f3",
           "#FF6692",
           "#B6E880",
           "#FF97FF",
           "#FECB52"
          ],
          "font": {
           "color": "#2a3f5f"
          },
          "geo": {
           "bgcolor": "white",
           "lakecolor": "white",
           "landcolor": "white",
           "showlakes": true,
           "showland": true,
           "subunitcolor": "#C8D4E3"
          },
          "hoverlabel": {
           "align": "left"
          },
          "hovermode": "closest",
          "mapbox": {
           "style": "light"
          },
          "paper_bgcolor": "white",
          "plot_bgcolor": "white",
          "polar": {
           "angularaxis": {
            "gridcolor": "#EBF0F8",
            "linecolor": "#EBF0F8",
            "ticks": ""
           },
           "bgcolor": "white",
           "radialaxis": {
            "gridcolor": "#EBF0F8",
            "linecolor": "#EBF0F8",
            "ticks": ""
           }
          },
          "scene": {
           "xaxis": {
            "backgroundcolor": "white",
            "gridcolor": "#DFE8F3",
            "gridwidth": 2,
            "linecolor": "#EBF0F8",
            "showbackground": true,
            "ticks": "",
            "zerolinecolor": "#EBF0F8"
           },
           "yaxis": {
            "backgroundcolor": "white",
            "gridcolor": "#DFE8F3",
            "gridwidth": 2,
            "linecolor": "#EBF0F8",
            "showbackground": true,
            "ticks": "",
            "zerolinecolor": "#EBF0F8"
           },
           "zaxis": {
            "backgroundcolor": "white",
            "gridcolor": "#DFE8F3",
            "gridwidth": 2,
            "linecolor": "#EBF0F8",
            "showbackground": true,
            "ticks": "",
            "zerolinecolor": "#EBF0F8"
           }
          },
          "shapedefaults": {
           "line": {
            "color": "#2a3f5f"
           }
          },
          "ternary": {
           "aaxis": {
            "gridcolor": "#DFE8F3",
            "linecolor": "#A2B1C6",
            "ticks": ""
           },
           "baxis": {
            "gridcolor": "#DFE8F3",
            "linecolor": "#A2B1C6",
            "ticks": ""
           },
           "bgcolor": "white",
           "caxis": {
            "gridcolor": "#DFE8F3",
            "linecolor": "#A2B1C6",
            "ticks": ""
           }
          },
          "title": {
           "x": 0.05
          },
          "xaxis": {
           "automargin": true,
           "gridcolor": "#EBF0F8",
           "linecolor": "#EBF0F8",
           "ticks": "",
           "title": {
            "standoff": 15
           },
           "zerolinecolor": "#EBF0F8",
           "zerolinewidth": 2
          },
          "yaxis": {
           "automargin": true,
           "gridcolor": "#EBF0F8",
           "linecolor": "#EBF0F8",
           "ticks": "",
           "title": {
            "standoff": 15
           },
           "zerolinecolor": "#EBF0F8",
           "zerolinewidth": 2
          }
         }
        },
        "title": {
         "text": "Toneladas declaradas por región"
        },
        "width": 1280,
        "xaxis": {
         "dtick": 0.5,
         "gridcolor": "#d9d3c5",
         "griddash": "dot",
         "linecolor": "#d9d3c5",
         "range": [
          0,
          3
         ],
         "showgrid": true,
         "tickfont": {
          "color": "#1e1b18",
          "family": "Georgia, serif",
          "size": 12
         },
         "ticktext": [
          "0,0 M",
          "0,5 M",
          "1,0 M",
          "1,5 M",
          "2,0 M",
          "2,5 M",
          "3,0 M"
         ],
         "tickvals": [
          0,
          0.5,
          1,
          1.5,
          2,
          2.5,
          3
         ],
         "title": {
          "text": "Toneladas"
         },
         "zeroline": false
        },
        "yaxis": {
         "categoryarray": [
          "Metropolitana\nde Santiago",
          "Antofagasta",
          "Biobío",
          "Libertador Gral. Bernardo O'Higgins",
          "Los Lagos",
          "Araucanía",
          "Valparaíso",
          "Maule",
          "Atacama",
          "Arica Y Parinacota",
          "Los Ríos",
          "Ñuble",
          "Coquimbo",
          "Magallanes Y De La Antártica Chilena",
          "Tarapacá",
          "Aysén Del Gral. Carlos Ibañez Del Campo"
         ],
         "categoryorder": "array",
         "linecolor": "#d9d3c5",
         "showgrid": false,
         "tickfont": {
          "color": "#1e1b18",
          "family": "Georgia, serif",
          "size": 12
         },
         "title": {
          "text": ""
         },
         "zeroline": false
        }
       }
      }
     },
     "metadata": {},
     "output_type": "display_data"
    }
   ],
   "source": [
    "national_bar_df = (\n",
    "\n",
    "    region_df[[\"region\", \"toneladas_sum\"]]\n",
    "\n",
    "    .dropna()\n",
    "\n",
    "    .sort_values(\"toneladas_sum\", ascending=False)\n",
    "\n",
    "    .reset_index(drop=True)\n",
    "\n",
    ")\n",
    "\n",
    "\n",
    "\n",
    "region_wrap_map = {\n",
    "\n",
    "    \"Metropolitana De Santiago\": \"Metropolitana\\nde Santiago\",\n",
    "\n",
    "    \"Los Lagos\": \"Los Lagos\",\n",
    "\n",
    "    \"Los Ríos\": \"Los Ríos\",\n",
    "\n",
    "}\n",
    "\n",
    "national_bar_df[\"region_display\"] = (\n",
    "\n",
    "    national_bar_df[\"region\"].astype(str).map(region_wrap_map).fillna(national_bar_df[\"region\"].astype(str))\n",
    "\n",
    ")\n",
    "\n",
    "\n",
    "\n",
    "total_tonnes = national_bar_df[\"toneladas_sum\"].sum()\n",
    "\n",
    "national_bar_df[\"tonnes_millions\"] = national_bar_df[\"toneladas_sum\"] / 1_000_000\n",
    "\n",
    "national_bar_df[\"share\"] = national_bar_df[\"toneladas_sum\"] / total_tonnes\n",
    "\n",
    "\n",
    "\n",
    "def format_spanish_number(number: float) -> str:\n",
    "\n",
    "    formatted = f\"{number:,.1f}\"\n",
    "\n",
    "    return formatted.replace(\",\", \"X\").replace(\".\", \",\").replace(\"X\", \".\")\n",
    "\n",
    "\n",
    "\n",
    "national_bar_df[\"label\"] = national_bar_df.apply(\n",
    "\n",
    "    lambda row: f\"{format_spanish_number(row['tonnes_millions'])} M t · {format_spanish_number(row['share'] * 100)}%\",\n",
    "\n",
    "    axis=1,\n",
    "\n",
    ")\n",
    "\n",
    "\n",
    "\n",
    "highlight_color = \"#d62828\"\n",
    "\n",
    "neutral_color = \"#b5b8bf\"\n",
    "\n",
    "bar_colors = [highlight_color if region == \"Los Ríos\" else neutral_color for region in national_bar_df[\"region\"]]\n",
    "\n",
    "\n",
    "\n",
    "national_fig = go.Figure(\n",
    "\n",
    "    go.Bar(\n",
    "\n",
    "        x=national_bar_df[\"tonnes_millions\"],\n",
    "\n",
    "        y=national_bar_df[\"region_display\"],\n",
    "\n",
    "        orientation=\"h\",\n",
    "\n",
    "        marker=dict(color=bar_colors, line=dict(color=\"rgba(0,0,0,0)\", width=0)),\n",
    "\n",
    "        text=national_bar_df[\"label\"],\n",
    "\n",
    "        textposition=\"outside\",\n",
    "\n",
    "        textfont=dict(family=\"Georgia, serif\", color=\"#1e1b18\", size=12),\n",
    "\n",
    "        hovertemplate=\"<b>%{customdata[0]}</b><br>Toneladas: %{customdata[1]:,.0f}<br>Participación nacional: %{customdata[2]:.1%}<extra></extra>\",\n",
    "\n",
    "        customdata=national_bar_df[[\"region\", \"toneladas_sum\", \"share\"]].to_numpy(),\n",
    "\n",
    "        showlegend=False,\n",
    "\n",
    "    )\n",
    "\n",
    ")\n",
    "\n",
    "\n",
    "\n",
    "max_millions = national_bar_df[\"tonnes_millions\"].max()\n",
    "\n",
    "tick_max = math.ceil((max_millions + 0.01) / 0.5) * 0.5\n",
    "\n",
    "xaxis_range = [0, tick_max]\n",
    "\n",
    "\n",
    "\n",
    "national_fig = apply_economist_style(\n",
    "\n",
    "    national_fig,\n",
    "\n",
    "    base_color=neutral_color,\n",
    "\n",
    "    underline=False,\n",
    "\n",
    "    auto_marker_line=False,\n",
    "\n",
    ")\n",
    "\n",
    "\n",
    "\n",
    "tick_vals = [round(0.5 * i, 1) for i in range(int(tick_max / 0.5) + 1)]\n",
    "\n",
    "tick_text = [f\"{format_spanish_number(val)} M\" for val in tick_vals]\n",
    "\n",
    "\n",
    "\n",
    "national_fig.update_traces(marker_line_color=\"rgba(0,0,0,0)\")\n",
    "\n",
    "\n",
    "\n",
    "national_fig.update_layout(\n",
    "\n",
    "    title=\"Toneladas declaradas por región\",\n",
    "\n",
    "    xaxis_title=\"Toneladas\",\n",
    "\n",
    "    yaxis_title=\"\",\n",
    "\n",
    "    xaxis=dict(tickvals=tick_vals, ticktext=tick_text, range=xaxis_range, dtick=0.5),\n",
    "\n",
    "    yaxis=dict(categoryorder=\"array\", categoryarray=national_bar_df[\"region_display\"].tolist()),\n",
    "\n",
    "    width=1280,\n",
    "\n",
    "    height=720,\n",
    "\n",
    "    margin=dict(l=220, r=120, t=140, b=100),\n",
    "\n",
    "    annotations=[\n",
    "\n",
    "        dict(\n",
    "\n",
    "            text=\"Chile, RNP 2023\",\n",
    "\n",
    "            x=0,\n",
    "\n",
    "            y=1.05,\n",
    "\n",
    "            xref=\"paper\",\n",
    "\n",
    "            yref=\"paper\",\n",
    "\n",
    "            showarrow=False,\n",
    "\n",
    "            font=dict(family=\"Georgia, serif\", size=14, color=\"#4a4338\"),\n",
    "\n",
    "        ),\n",
    "\n",
    "        dict(\n",
    "\n",
    "            text=\"Fuente: Registro Nacional de Emisiones y Transferencias de Residuos (RNP) 2023\",\n",
    "\n",
    "            x=0,\n",
    "\n",
    "            y=-0.18,\n",
    "\n",
    "            xref=\"paper\",\n",
    "\n",
    "            yref=\"paper\",\n",
    "\n",
    "            showarrow=False,\n",
    "\n",
    "            font=dict(family=\"Georgia, serif\", size=11, color=\"#6e6252\"),\n",
    "\n",
    "        ),\n",
    "\n",
    "    ],\n",
    "\n",
    ")\n",
    "\n",
    "\n",
    "\n",
    "national_fig"
   ]
  },
  {
   "cell_type": "markdown",
   "id": "ba239b1d",
   "metadata": {},
   "source": [
    "#### Lollipop regional\n",
    "\n",
    "Exploramos la distribución con un lollipop horizontal que facilita comparar órdenes y magnitudes en millones de toneladas."
   ]
  },
  {
   "cell_type": "code",
   "execution_count": 6,
   "id": "3fa76b48",
   "metadata": {},
   "outputs": [
    {
     "data": {
      "application/vnd.plotly.v1+json": {
       "config": {
        "plotlyServerURL": "https://plot.ly"
       },
       "data": [
        {
         "hoverinfo": "skip",
         "line": {
          "color": "#9ca3af",
          "width": 3
         },
         "mode": "lines",
         "showlegend": false,
         "textfont": {
          "family": "Georgia, serif",
          "size": 12
         },
         "type": "scatter",
         "x": [
          0,
          2.945986601587146
         ],
         "y": [
          "Metropolitana\nde Santiago",
          "Metropolitana\nde Santiago"
         ]
        },
        {
         "customdata": [
          [
           "Metropolitana De Santiago",
           2945986.601587146,
           0.28406608856703713
          ]
         ],
         "hovertemplate": "<b>%{customdata[0]}</b><br>Toneladas: %{customdata[1]:,.0f}<br>Participación nacional: %{customdata[2]:.1%}<extra></extra>",
         "marker": {
          "color": "#9ca3af",
          "line": {
           "color": "#ffffff",
           "width": 1.5
          },
          "size": 14
         },
         "mode": "markers+text",
         "showlegend": false,
         "text": [
          "2,9 M t · 28,4%"
         ],
         "textfont": {
          "color": "#1e1b18",
          "family": "Georgia, serif",
          "size": 12
         },
         "textposition": "middle right",
         "type": "scatter",
         "x": [
          2.945986601587146
         ],
         "y": [
          "Metropolitana\nde Santiago"
         ]
        },
        {
         "hoverinfo": "skip",
         "line": {
          "color": "#9ca3af",
          "width": 3
         },
         "mode": "lines",
         "showlegend": false,
         "textfont": {
          "family": "Georgia, serif",
          "size": 12
         },
         "type": "scatter",
         "x": [
          0,
          1.7089483154553602
         ],
         "y": [
          "Antofagasta",
          "Antofagasta"
         ]
        },
        {
         "customdata": [
          [
           "Antofagasta",
           1708948.31545536,
           0.164784952950259
          ]
         ],
         "hovertemplate": "<b>%{customdata[0]}</b><br>Toneladas: %{customdata[1]:,.0f}<br>Participación nacional: %{customdata[2]:.1%}<extra></extra>",
         "marker": {
          "color": "#9ca3af",
          "line": {
           "color": "#ffffff",
           "width": 1.5
          },
          "size": 14
         },
         "mode": "markers+text",
         "showlegend": false,
         "text": [
          "1,7 M t · 16,5%"
         ],
         "textfont": {
          "color": "#1e1b18",
          "family": "Georgia, serif",
          "size": 12
         },
         "textposition": "middle right",
         "type": "scatter",
         "x": [
          1.7089483154553602
         ],
         "y": [
          "Antofagasta"
         ]
        },
        {
         "hoverinfo": "skip",
         "line": {
          "color": "#9ca3af",
          "width": 3
         },
         "mode": "lines",
         "showlegend": false,
         "textfont": {
          "family": "Georgia, serif",
          "size": 12
         },
         "type": "scatter",
         "x": [
          0,
          1.27296767979
         ],
         "y": [
          "Biobío",
          "Biobío"
         ]
        },
        {
         "customdata": [
          [
           "Biobío",
           1272967.67979,
           0.1227456192351271
          ]
         ],
         "hovertemplate": "<b>%{customdata[0]}</b><br>Toneladas: %{customdata[1]:,.0f}<br>Participación nacional: %{customdata[2]:.1%}<extra></extra>",
         "marker": {
          "color": "#9ca3af",
          "line": {
           "color": "#ffffff",
           "width": 1.5
          },
          "size": 14
         },
         "mode": "markers+text",
         "showlegend": false,
         "text": [
          "1,3 M t · 12,3%"
         ],
         "textfont": {
          "color": "#1e1b18",
          "family": "Georgia, serif",
          "size": 12
         },
         "textposition": "middle right",
         "type": "scatter",
         "x": [
          1.27296767979
         ],
         "y": [
          "Biobío"
         ]
        },
        {
         "hoverinfo": "skip",
         "line": {
          "color": "#9ca3af",
          "width": 3
         },
         "mode": "lines",
         "showlegend": false,
         "textfont": {
          "family": "Georgia, serif",
          "size": 12
         },
         "type": "scatter",
         "x": [
          0,
          0.788716049854
         ],
         "y": [
          "Libertador Gral. Bernardo O'Higgins",
          "Libertador Gral. Bernardo O'Higgins"
         ]
        },
        {
         "customdata": [
          [
           "Libertador Gral. Bernardo O'Higgins",
           788716.049854,
           0.07605176586728696
          ]
         ],
         "hovertemplate": "<b>%{customdata[0]}</b><br>Toneladas: %{customdata[1]:,.0f}<br>Participación nacional: %{customdata[2]:.1%}<extra></extra>",
         "marker": {
          "color": "#9ca3af",
          "line": {
           "color": "#ffffff",
           "width": 1.5
          },
          "size": 14
         },
         "mode": "markers+text",
         "showlegend": false,
         "text": [
          "0,8 M t · 7,6%"
         ],
         "textfont": {
          "color": "#1e1b18",
          "family": "Georgia, serif",
          "size": 12
         },
         "textposition": "middle right",
         "type": "scatter",
         "x": [
          0.788716049854
         ],
         "y": [
          "Libertador Gral. Bernardo O'Higgins"
         ]
        },
        {
         "hoverinfo": "skip",
         "line": {
          "color": "#9ca3af",
          "width": 3
         },
         "mode": "lines",
         "showlegend": false,
         "textfont": {
          "family": "Georgia, serif",
          "size": 12
         },
         "type": "scatter",
         "x": [
          0,
          0.74773001708301
         ],
         "y": [
          "Los Lagos",
          "Los Lagos"
         ]
        },
        {
         "customdata": [
          [
           "Los Lagos",
           747730.01708301,
           0.07209969697163653
          ]
         ],
         "hovertemplate": "<b>%{customdata[0]}</b><br>Toneladas: %{customdata[1]:,.0f}<br>Participación nacional: %{customdata[2]:.1%}<extra></extra>",
         "marker": {
          "color": "#9ca3af",
          "line": {
           "color": "#ffffff",
           "width": 1.5
          },
          "size": 14
         },
         "mode": "markers+text",
         "showlegend": false,
         "text": [
          "0,7 M t · 7,2%"
         ],
         "textfont": {
          "color": "#1e1b18",
          "family": "Georgia, serif",
          "size": 12
         },
         "textposition": "middle right",
         "type": "scatter",
         "x": [
          0.74773001708301
         ],
         "y": [
          "Los Lagos"
         ]
        },
        {
         "hoverinfo": "skip",
         "line": {
          "color": "#9ca3af",
          "width": 3
         },
         "mode": "lines",
         "showlegend": false,
         "textfont": {
          "family": "Georgia, serif",
          "size": 12
         },
         "type": "scatter",
         "x": [
          0,
          0.615331380841
         ],
         "y": [
          "Araucanía",
          "Araucanía"
         ]
        },
        {
         "customdata": [
          [
           "Araucanía",
           615331.380841,
           0.05933318856028956
          ]
         ],
         "hovertemplate": "<b>%{customdata[0]}</b><br>Toneladas: %{customdata[1]:,.0f}<br>Participación nacional: %{customdata[2]:.1%}<extra></extra>",
         "marker": {
          "color": "#9ca3af",
          "line": {
           "color": "#ffffff",
           "width": 1.5
          },
          "size": 14
         },
         "mode": "markers+text",
         "showlegend": false,
         "text": [
          "0,6 M t · 5,9%"
         ],
         "textfont": {
          "color": "#1e1b18",
          "family": "Georgia, serif",
          "size": 12
         },
         "textposition": "middle right",
         "type": "scatter",
         "x": [
          0.615331380841
         ],
         "y": [
          "Araucanía"
         ]
        },
        {
         "hoverinfo": "skip",
         "line": {
          "color": "#9ca3af",
          "width": 3
         },
         "mode": "lines",
         "showlegend": false,
         "textfont": {
          "family": "Georgia, serif",
          "size": 12
         },
         "type": "scatter",
         "x": [
          0,
          0.436916481247
         ],
         "y": [
          "Valparaíso",
          "Valparaíso"
         ]
        },
        {
         "customdata": [
          [
           "Valparaíso",
           436916.481247,
           0.04212957241266567
          ]
         ],
         "hovertemplate": "<b>%{customdata[0]}</b><br>Toneladas: %{customdata[1]:,.0f}<br>Participación nacional: %{customdata[2]:.1%}<extra></extra>",
         "marker": {
          "color": "#9ca3af",
          "line": {
           "color": "#ffffff",
           "width": 1.5
          },
          "size": 14
         },
         "mode": "markers+text",
         "showlegend": false,
         "text": [
          "0,4 M t · 4,2%"
         ],
         "textfont": {
          "color": "#1e1b18",
          "family": "Georgia, serif",
          "size": 12
         },
         "textposition": "middle right",
         "type": "scatter",
         "x": [
          0.436916481247
         ],
         "y": [
          "Valparaíso"
         ]
        },
        {
         "hoverinfo": "skip",
         "line": {
          "color": "#9ca3af",
          "width": 3
         },
         "mode": "lines",
         "showlegend": false,
         "textfont": {
          "family": "Georgia, serif",
          "size": 12
         },
         "type": "scatter",
         "x": [
          0,
          0.4231475632019
         ],
         "y": [
          "Maule",
          "Maule"
         ]
        },
        {
         "customdata": [
          [
           "Maule",
           423147.5632019,
           0.040801907619226196
          ]
         ],
         "hovertemplate": "<b>%{customdata[0]}</b><br>Toneladas: %{customdata[1]:,.0f}<br>Participación nacional: %{customdata[2]:.1%}<extra></extra>",
         "marker": {
          "color": "#9ca3af",
          "line": {
           "color": "#ffffff",
           "width": 1.5
          },
          "size": 14
         },
         "mode": "markers+text",
         "showlegend": false,
         "text": [
          "0,4 M t · 4,1%"
         ],
         "textfont": {
          "color": "#1e1b18",
          "family": "Georgia, serif",
          "size": 12
         },
         "textposition": "middle right",
         "type": "scatter",
         "x": [
          0.4231475632019
         ],
         "y": [
          "Maule"
         ]
        },
        {
         "hoverinfo": "skip",
         "line": {
          "color": "#9ca3af",
          "width": 3
         },
         "mode": "lines",
         "showlegend": false,
         "textfont": {
          "family": "Georgia, serif",
          "size": 12
         },
         "type": "scatter",
         "x": [
          0,
          0.334056545019
         ],
         "y": [
          "Atacama",
          "Atacama"
         ]
        },
        {
         "customdata": [
          [
           "Atacama",
           334056.545019,
           0.03221132643734415
          ]
         ],
         "hovertemplate": "<b>%{customdata[0]}</b><br>Toneladas: %{customdata[1]:,.0f}<br>Participación nacional: %{customdata[2]:.1%}<extra></extra>",
         "marker": {
          "color": "#9ca3af",
          "line": {
           "color": "#ffffff",
           "width": 1.5
          },
          "size": 14
         },
         "mode": "markers+text",
         "showlegend": false,
         "text": [
          "0,3 M t · 3,2%"
         ],
         "textfont": {
          "color": "#1e1b18",
          "family": "Georgia, serif",
          "size": 12
         },
         "textposition": "middle right",
         "type": "scatter",
         "x": [
          0.334056545019
         ],
         "y": [
          "Atacama"
         ]
        },
        {
         "hoverinfo": "skip",
         "line": {
          "color": "#9ca3af",
          "width": 3
         },
         "mode": "lines",
         "showlegend": false,
         "textfont": {
          "family": "Georgia, serif",
          "size": 12
         },
         "type": "scatter",
         "x": [
          0,
          0.27338605125
         ],
         "y": [
          "Arica Y Parinacota",
          "Arica Y Parinacota"
         ]
        },
        {
         "customdata": [
          [
           "Arica Y Parinacota",
           273386.05124999996,
           0.026361187863358233
          ]
         ],
         "hovertemplate": "<b>%{customdata[0]}</b><br>Toneladas: %{customdata[1]:,.0f}<br>Participación nacional: %{customdata[2]:.1%}<extra></extra>",
         "marker": {
          "color": "#9ca3af",
          "line": {
           "color": "#ffffff",
           "width": 1.5
          },
          "size": 14
         },
         "mode": "markers+text",
         "showlegend": false,
         "text": [
          "0,3 M t · 2,6%"
         ],
         "textfont": {
          "color": "#1e1b18",
          "family": "Georgia, serif",
          "size": 12
         },
         "textposition": "middle right",
         "type": "scatter",
         "x": [
          0.27338605125
         ],
         "y": [
          "Arica Y Parinacota"
         ]
        },
        {
         "hoverinfo": "skip",
         "line": {
          "color": "#d62828",
          "width": 3
         },
         "mode": "lines",
         "showlegend": false,
         "textfont": {
          "family": "Georgia, serif",
          "size": 12
         },
         "type": "scatter",
         "x": [
          0,
          0.2418956876
         ],
         "y": [
          "Los Ríos",
          "Los Ríos"
         ]
        },
        {
         "customdata": [
          [
           "Los Ríos",
           241895.6876,
           0.023324736704758327
          ]
         ],
         "hovertemplate": "<b>%{customdata[0]}</b><br>Toneladas: %{customdata[1]:,.0f}<br>Participación nacional: %{customdata[2]:.1%}<extra></extra>",
         "marker": {
          "color": "#d62828",
          "line": {
           "color": "#ffffff",
           "width": 1.5
          },
          "size": 14
         },
         "mode": "markers+text",
         "showlegend": false,
         "text": [
          "0,2 M t · 2,3%"
         ],
         "textfont": {
          "color": "#1e1b18",
          "family": "Georgia, serif",
          "size": 12
         },
         "textposition": "middle right",
         "type": "scatter",
         "x": [
          0.2418956876
         ],
         "y": [
          "Los Ríos"
         ]
        },
        {
         "hoverinfo": "skip",
         "line": {
          "color": "#9ca3af",
          "width": 3
         },
         "mode": "lines",
         "showlegend": false,
         "textfont": {
          "family": "Georgia, serif",
          "size": 12
         },
         "type": "scatter",
         "x": [
          0,
          0.22688315242100002
         ],
         "y": [
          "Ñuble",
          "Ñuble"
         ]
        },
        {
         "customdata": [
          [
           "Ñuble",
           226883.152421,
           0.021877156411801102
          ]
         ],
         "hovertemplate": "<b>%{customdata[0]}</b><br>Toneladas: %{customdata[1]:,.0f}<br>Participación nacional: %{customdata[2]:.1%}<extra></extra>",
         "marker": {
          "color": "#9ca3af",
          "line": {
           "color": "#ffffff",
           "width": 1.5
          },
          "size": 14
         },
         "mode": "markers+text",
         "showlegend": false,
         "text": [
          "0,2 M t · 2,2%"
         ],
         "textfont": {
          "color": "#1e1b18",
          "family": "Georgia, serif",
          "size": 12
         },
         "textposition": "middle right",
         "type": "scatter",
         "x": [
          0.22688315242100002
         ],
         "y": [
          "Ñuble"
         ]
        },
        {
         "hoverinfo": "skip",
         "line": {
          "color": "#9ca3af",
          "width": 3
         },
         "mode": "lines",
         "showlegend": false,
         "textfont": {
          "family": "Georgia, serif",
          "size": 12
         },
         "type": "scatter",
         "x": [
          0,
          0.09904056568
         ],
         "y": [
          "Coquimbo",
          "Coquimbo"
         ]
        },
        {
         "customdata": [
          [
           "Coquimbo",
           99040.56568,
           0.009549964038202737
          ]
         ],
         "hovertemplate": "<b>%{customdata[0]}</b><br>Toneladas: %{customdata[1]:,.0f}<br>Participación nacional: %{customdata[2]:.1%}<extra></extra>",
         "marker": {
          "color": "#9ca3af",
          "line": {
           "color": "#ffffff",
           "width": 1.5
          },
          "size": 14
         },
         "mode": "markers+text",
         "showlegend": false,
         "text": [
          "0,1 M t · 1,0%"
         ],
         "textfont": {
          "color": "#1e1b18",
          "family": "Georgia, serif",
          "size": 12
         },
         "textposition": "middle right",
         "type": "scatter",
         "x": [
          0.09904056568
         ],
         "y": [
          "Coquimbo"
         ]
        },
        {
         "hoverinfo": "skip",
         "line": {
          "color": "#9ca3af",
          "width": 3
         },
         "mode": "lines",
         "showlegend": false,
         "textfont": {
          "family": "Georgia, serif",
          "size": 12
         },
         "type": "scatter",
         "x": [
          0,
          0.0939663574693
         ],
         "y": [
          "Magallanes Y De La Antártica Chilena",
          "Magallanes Y De La Antártica Chilena"
         ]
        },
        {
         "customdata": [
          [
           "Magallanes Y De La Antártica Chilena",
           93966.3574693,
           0.009060684664626586
          ]
         ],
         "hovertemplate": "<b>%{customdata[0]}</b><br>Toneladas: %{customdata[1]:,.0f}<br>Participación nacional: %{customdata[2]:.1%}<extra></extra>",
         "marker": {
          "color": "#9ca3af",
          "line": {
           "color": "#ffffff",
           "width": 1.5
          },
          "size": 14
         },
         "mode": "markers+text",
         "showlegend": false,
         "text": [
          "0,1 M t · 0,9%"
         ],
         "textfont": {
          "color": "#1e1b18",
          "family": "Georgia, serif",
          "size": 12
         },
         "textposition": "middle right",
         "type": "scatter",
         "x": [
          0.0939663574693
         ],
         "y": [
          "Magallanes Y De La Antártica Chilena"
         ]
        },
        {
         "hoverinfo": "skip",
         "line": {
          "color": "#9ca3af",
          "width": 3
         },
         "mode": "lines",
         "showlegend": false,
         "textfont": {
          "family": "Georgia, serif",
          "size": 12
         },
         "type": "scatter",
         "x": [
          0,
          0.089206803686
         ],
         "y": [
          "Tarapacá",
          "Tarapacá"
         ]
        },
        {
         "customdata": [
          [
           "Tarapacá",
           89206.803686,
           0.0086017457727056
          ]
         ],
         "hovertemplate": "<b>%{customdata[0]}</b><br>Toneladas: %{customdata[1]:,.0f}<br>Participación nacional: %{customdata[2]:.1%}<extra></extra>",
         "marker": {
          "color": "#9ca3af",
          "line": {
           "color": "#ffffff",
           "width": 1.5
          },
          "size": 14
         },
         "mode": "markers+text",
         "showlegend": false,
         "text": [
          "0,1 M t · 0,9%"
         ],
         "textfont": {
          "color": "#1e1b18",
          "family": "Georgia, serif",
          "size": 12
         },
         "textposition": "middle right",
         "type": "scatter",
         "x": [
          0.089206803686
         ],
         "y": [
          "Tarapacá"
         ]
        },
        {
         "hoverinfo": "skip",
         "line": {
          "color": "#9ca3af",
          "width": 3
         },
         "mode": "lines",
         "showlegend": false,
         "textfont": {
          "family": "Georgia, serif",
          "size": 12
         },
         "type": "scatter",
         "x": [
          0,
          0.072599662145
         ],
         "y": [
          "Aysén Del Gral. Carlos Ibañez Del Campo",
          "Aysén Del Gral. Carlos Ibañez Del Campo"
         ]
        },
        {
         "customdata": [
          [
           "Aysén Del Gral. Carlos Ibañez Del Campo",
           72599.662145,
           0.007000405923675238
          ]
         ],
         "hovertemplate": "<b>%{customdata[0]}</b><br>Toneladas: %{customdata[1]:,.0f}<br>Participación nacional: %{customdata[2]:.1%}<extra></extra>",
         "marker": {
          "color": "#9ca3af",
          "line": {
           "color": "#ffffff",
           "width": 1.5
          },
          "size": 14
         },
         "mode": "markers+text",
         "showlegend": false,
         "text": [
          "0,1 M t · 0,7%"
         ],
         "textfont": {
          "color": "#1e1b18",
          "family": "Georgia, serif",
          "size": 12
         },
         "textposition": "middle right",
         "type": "scatter",
         "x": [
          0.072599662145
         ],
         "y": [
          "Aysén Del Gral. Carlos Ibañez Del Campo"
         ]
        }
       ],
       "layout": {
        "annotations": [
         {
          "font": {
           "color": "#4a4338",
           "family": "Georgia, serif",
           "size": 14
          },
          "showarrow": false,
          "text": "Chile, RNP 2023",
          "x": 0,
          "xref": "paper",
          "y": 1.06,
          "yref": "paper"
         },
         {
          "font": {
           "color": "#6e6252",
           "family": "Georgia, serif",
           "size": 11
          },
          "showarrow": false,
          "text": "Fuente: Registro Nacional de Emisiones y Transferencias de Residuos (RNP) 2023",
          "x": 0,
          "xref": "paper",
          "y": -0.22,
          "yref": "paper"
         }
        ],
        "bargap": 0.28,
        "colorway": [
         "#9ca3af"
        ],
        "font": {
         "color": "#1e1b18",
         "family": "Georgia, serif",
         "size": 15
        },
        "height": 760,
        "hoverlabel": {
         "bgcolor": "#ffffff",
         "font": {
          "color": "#1e1b18",
          "family": "Georgia, serif"
         }
        },
        "legend": {
         "font": {
          "color": "#1e1b18",
          "family": "Georgia, serif",
          "size": 12
         }
        },
        "margin": {
         "b": 130,
         "l": 200,
         "r": 170,
         "t": 130
        },
        "paper_bgcolor": "#f7f2ea",
        "plot_bgcolor": "#f7f2ea",
        "shapes": [
         {
          "line": {
           "color": "#d62828",
           "width": 4
          },
          "type": "line",
          "x0": -0.22,
          "x1": 0.84,
          "xref": "paper",
          "y0": 1.09,
          "y1": 1.09,
          "yref": "paper"
         }
        ],
        "template": {
         "data": {
          "bar": [
           {
            "error_x": {
             "color": "#2a3f5f"
            },
            "error_y": {
             "color": "#2a3f5f"
            },
            "marker": {
             "line": {
              "color": "white",
              "width": 0.5
             },
             "pattern": {
              "fillmode": "overlay",
              "size": 10,
              "solidity": 0.2
             }
            },
            "type": "bar"
           }
          ],
          "barpolar": [
           {
            "marker": {
             "line": {
              "color": "white",
              "width": 0.5
             },
             "pattern": {
              "fillmode": "overlay",
              "size": 10,
              "solidity": 0.2
             }
            },
            "type": "barpolar"
           }
          ],
          "carpet": [
           {
            "aaxis": {
             "endlinecolor": "#2a3f5f",
             "gridcolor": "#C8D4E3",
             "linecolor": "#C8D4E3",
             "minorgridcolor": "#C8D4E3",
             "startlinecolor": "#2a3f5f"
            },
            "baxis": {
             "endlinecolor": "#2a3f5f",
             "gridcolor": "#C8D4E3",
             "linecolor": "#C8D4E3",
             "minorgridcolor": "#C8D4E3",
             "startlinecolor": "#2a3f5f"
            },
            "type": "carpet"
           }
          ],
          "choropleth": [
           {
            "colorbar": {
             "outlinewidth": 0,
             "ticks": ""
            },
            "type": "choropleth"
           }
          ],
          "contour": [
           {
            "colorbar": {
             "outlinewidth": 0,
             "ticks": ""
            },
            "colorscale": [
             [
              0,
              "#0d0887"
             ],
             [
              0.1111111111111111,
              "#46039f"
             ],
             [
              0.2222222222222222,
              "#7201a8"
             ],
             [
              0.3333333333333333,
              "#9c179e"
             ],
             [
              0.4444444444444444,
              "#bd3786"
             ],
             [
              0.5555555555555556,
              "#d8576b"
             ],
             [
              0.6666666666666666,
              "#ed7953"
             ],
             [
              0.7777777777777778,
              "#fb9f3a"
             ],
             [
              0.8888888888888888,
              "#fdca26"
             ],
             [
              1,
              "#f0f921"
             ]
            ],
            "type": "contour"
           }
          ],
          "contourcarpet": [
           {
            "colorbar": {
             "outlinewidth": 0,
             "ticks": ""
            },
            "type": "contourcarpet"
           }
          ],
          "heatmap": [
           {
            "colorbar": {
             "outlinewidth": 0,
             "ticks": ""
            },
            "colorscale": [
             [
              0,
              "#0d0887"
             ],
             [
              0.1111111111111111,
              "#46039f"
             ],
             [
              0.2222222222222222,
              "#7201a8"
             ],
             [
              0.3333333333333333,
              "#9c179e"
             ],
             [
              0.4444444444444444,
              "#bd3786"
             ],
             [
              0.5555555555555556,
              "#d8576b"
             ],
             [
              0.6666666666666666,
              "#ed7953"
             ],
             [
              0.7777777777777778,
              "#fb9f3a"
             ],
             [
              0.8888888888888888,
              "#fdca26"
             ],
             [
              1,
              "#f0f921"
             ]
            ],
            "type": "heatmap"
           }
          ],
          "histogram": [
           {
            "marker": {
             "pattern": {
              "fillmode": "overlay",
              "size": 10,
              "solidity": 0.2
             }
            },
            "type": "histogram"
           }
          ],
          "histogram2d": [
           {
            "colorbar": {
             "outlinewidth": 0,
             "ticks": ""
            },
            "colorscale": [
             [
              0,
              "#0d0887"
             ],
             [
              0.1111111111111111,
              "#46039f"
             ],
             [
              0.2222222222222222,
              "#7201a8"
             ],
             [
              0.3333333333333333,
              "#9c179e"
             ],
             [
              0.4444444444444444,
              "#bd3786"
             ],
             [
              0.5555555555555556,
              "#d8576b"
             ],
             [
              0.6666666666666666,
              "#ed7953"
             ],
             [
              0.7777777777777778,
              "#fb9f3a"
             ],
             [
              0.8888888888888888,
              "#fdca26"
             ],
             [
              1,
              "#f0f921"
             ]
            ],
            "type": "histogram2d"
           }
          ],
          "histogram2dcontour": [
           {
            "colorbar": {
             "outlinewidth": 0,
             "ticks": ""
            },
            "colorscale": [
             [
              0,
              "#0d0887"
             ],
             [
              0.1111111111111111,
              "#46039f"
             ],
             [
              0.2222222222222222,
              "#7201a8"
             ],
             [
              0.3333333333333333,
              "#9c179e"
             ],
             [
              0.4444444444444444,
              "#bd3786"
             ],
             [
              0.5555555555555556,
              "#d8576b"
             ],
             [
              0.6666666666666666,
              "#ed7953"
             ],
             [
              0.7777777777777778,
              "#fb9f3a"
             ],
             [
              0.8888888888888888,
              "#fdca26"
             ],
             [
              1,
              "#f0f921"
             ]
            ],
            "type": "histogram2dcontour"
           }
          ],
          "mesh3d": [
           {
            "colorbar": {
             "outlinewidth": 0,
             "ticks": ""
            },
            "type": "mesh3d"
           }
          ],
          "parcoords": [
           {
            "line": {
             "colorbar": {
              "outlinewidth": 0,
              "ticks": ""
             }
            },
            "type": "parcoords"
           }
          ],
          "pie": [
           {
            "automargin": true,
            "type": "pie"
           }
          ],
          "scatter": [
           {
            "fillpattern": {
             "fillmode": "overlay",
             "size": 10,
             "solidity": 0.2
            },
            "type": "scatter"
           }
          ],
          "scatter3d": [
           {
            "line": {
             "colorbar": {
              "outlinewidth": 0,
              "ticks": ""
             }
            },
            "marker": {
             "colorbar": {
              "outlinewidth": 0,
              "ticks": ""
             }
            },
            "type": "scatter3d"
           }
          ],
          "scattercarpet": [
           {
            "marker": {
             "colorbar": {
              "outlinewidth": 0,
              "ticks": ""
             }
            },
            "type": "scattercarpet"
           }
          ],
          "scattergeo": [
           {
            "marker": {
             "colorbar": {
              "outlinewidth": 0,
              "ticks": ""
             }
            },
            "type": "scattergeo"
           }
          ],
          "scattergl": [
           {
            "marker": {
             "colorbar": {
              "outlinewidth": 0,
              "ticks": ""
             }
            },
            "type": "scattergl"
           }
          ],
          "scattermap": [
           {
            "marker": {
             "colorbar": {
              "outlinewidth": 0,
              "ticks": ""
             }
            },
            "type": "scattermap"
           }
          ],
          "scattermapbox": [
           {
            "marker": {
             "colorbar": {
              "outlinewidth": 0,
              "ticks": ""
             }
            },
            "type": "scattermapbox"
           }
          ],
          "scatterpolar": [
           {
            "marker": {
             "colorbar": {
              "outlinewidth": 0,
              "ticks": ""
             }
            },
            "type": "scatterpolar"
           }
          ],
          "scatterpolargl": [
           {
            "marker": {
             "colorbar": {
              "outlinewidth": 0,
              "ticks": ""
             }
            },
            "type": "scatterpolargl"
           }
          ],
          "scatterternary": [
           {
            "marker": {
             "colorbar": {
              "outlinewidth": 0,
              "ticks": ""
             }
            },
            "type": "scatterternary"
           }
          ],
          "surface": [
           {
            "colorbar": {
             "outlinewidth": 0,
             "ticks": ""
            },
            "colorscale": [
             [
              0,
              "#0d0887"
             ],
             [
              0.1111111111111111,
              "#46039f"
             ],
             [
              0.2222222222222222,
              "#7201a8"
             ],
             [
              0.3333333333333333,
              "#9c179e"
             ],
             [
              0.4444444444444444,
              "#bd3786"
             ],
             [
              0.5555555555555556,
              "#d8576b"
             ],
             [
              0.6666666666666666,
              "#ed7953"
             ],
             [
              0.7777777777777778,
              "#fb9f3a"
             ],
             [
              0.8888888888888888,
              "#fdca26"
             ],
             [
              1,
              "#f0f921"
             ]
            ],
            "type": "surface"
           }
          ],
          "table": [
           {
            "cells": {
             "fill": {
              "color": "#EBF0F8"
             },
             "line": {
              "color": "white"
             }
            },
            "header": {
             "fill": {
              "color": "#C8D4E3"
             },
             "line": {
              "color": "white"
             }
            },
            "type": "table"
           }
          ]
         },
         "layout": {
          "annotationdefaults": {
           "arrowcolor": "#2a3f5f",
           "arrowhead": 0,
           "arrowwidth": 1
          },
          "autotypenumbers": "strict",
          "coloraxis": {
           "colorbar": {
            "outlinewidth": 0,
            "ticks": ""
           }
          },
          "colorscale": {
           "diverging": [
            [
             0,
             "#8e0152"
            ],
            [
             0.1,
             "#c51b7d"
            ],
            [
             0.2,
             "#de77ae"
            ],
            [
             0.3,
             "#f1b6da"
            ],
            [
             0.4,
             "#fde0ef"
            ],
            [
             0.5,
             "#f7f7f7"
            ],
            [
             0.6,
             "#e6f5d0"
            ],
            [
             0.7,
             "#b8e186"
            ],
            [
             0.8,
             "#7fbc41"
            ],
            [
             0.9,
             "#4d9221"
            ],
            [
             1,
             "#276419"
            ]
           ],
           "sequential": [
            [
             0,
             "#0d0887"
            ],
            [
             0.1111111111111111,
             "#46039f"
            ],
            [
             0.2222222222222222,
             "#7201a8"
            ],
            [
             0.3333333333333333,
             "#9c179e"
            ],
            [
             0.4444444444444444,
             "#bd3786"
            ],
            [
             0.5555555555555556,
             "#d8576b"
            ],
            [
             0.6666666666666666,
             "#ed7953"
            ],
            [
             0.7777777777777778,
             "#fb9f3a"
            ],
            [
             0.8888888888888888,
             "#fdca26"
            ],
            [
             1,
             "#f0f921"
            ]
           ],
           "sequentialminus": [
            [
             0,
             "#0d0887"
            ],
            [
             0.1111111111111111,
             "#46039f"
            ],
            [
             0.2222222222222222,
             "#7201a8"
            ],
            [
             0.3333333333333333,
             "#9c179e"
            ],
            [
             0.4444444444444444,
             "#bd3786"
            ],
            [
             0.5555555555555556,
             "#d8576b"
            ],
            [
             0.6666666666666666,
             "#ed7953"
            ],
            [
             0.7777777777777778,
             "#fb9f3a"
            ],
            [
             0.8888888888888888,
             "#fdca26"
            ],
            [
             1,
             "#f0f921"
            ]
           ]
          },
          "colorway": [
           "#636efa",
           "#EF553B",
           "#00cc96",
           "#ab63fa",
           "#FFA15A",
           "#19d3f3",
           "#FF6692",
           "#B6E880",
           "#FF97FF",
           "#FECB52"
          ],
          "font": {
           "color": "#2a3f5f"
          },
          "geo": {
           "bgcolor": "white",
           "lakecolor": "white",
           "landcolor": "white",
           "showlakes": true,
           "showland": true,
           "subunitcolor": "#C8D4E3"
          },
          "hoverlabel": {
           "align": "left"
          },
          "hovermode": "closest",
          "mapbox": {
           "style": "light"
          },
          "paper_bgcolor": "white",
          "plot_bgcolor": "white",
          "polar": {
           "angularaxis": {
            "gridcolor": "#EBF0F8",
            "linecolor": "#EBF0F8",
            "ticks": ""
           },
           "bgcolor": "white",
           "radialaxis": {
            "gridcolor": "#EBF0F8",
            "linecolor": "#EBF0F8",
            "ticks": ""
           }
          },
          "scene": {
           "xaxis": {
            "backgroundcolor": "white",
            "gridcolor": "#DFE8F3",
            "gridwidth": 2,
            "linecolor": "#EBF0F8",
            "showbackground": true,
            "ticks": "",
            "zerolinecolor": "#EBF0F8"
           },
           "yaxis": {
            "backgroundcolor": "white",
            "gridcolor": "#DFE8F3",
            "gridwidth": 2,
            "linecolor": "#EBF0F8",
            "showbackground": true,
            "ticks": "",
            "zerolinecolor": "#EBF0F8"
           },
           "zaxis": {
            "backgroundcolor": "white",
            "gridcolor": "#DFE8F3",
            "gridwidth": 2,
            "linecolor": "#EBF0F8",
            "showbackground": true,
            "ticks": "",
            "zerolinecolor": "#EBF0F8"
           }
          },
          "shapedefaults": {
           "line": {
            "color": "#2a3f5f"
           }
          },
          "ternary": {
           "aaxis": {
            "gridcolor": "#DFE8F3",
            "linecolor": "#A2B1C6",
            "ticks": ""
           },
           "baxis": {
            "gridcolor": "#DFE8F3",
            "linecolor": "#A2B1C6",
            "ticks": ""
           },
           "bgcolor": "white",
           "caxis": {
            "gridcolor": "#DFE8F3",
            "linecolor": "#A2B1C6",
            "ticks": ""
           }
          },
          "title": {
           "x": 0.05
          },
          "xaxis": {
           "automargin": true,
           "gridcolor": "#EBF0F8",
           "linecolor": "#EBF0F8",
           "ticks": "",
           "title": {
            "standoff": 15
           },
           "zerolinecolor": "#EBF0F8",
           "zerolinewidth": 2
          },
          "yaxis": {
           "automargin": true,
           "gridcolor": "#EBF0F8",
           "linecolor": "#EBF0F8",
           "ticks": "",
           "title": {
            "standoff": 15
           },
           "zerolinecolor": "#EBF0F8",
           "zerolinewidth": 2
          }
         }
        },
        "title": {
         "font": {
          "size": 24
         },
         "text": "Toneladas declaradas por región"
        },
        "width": 1380,
        "xaxis": {
         "gridcolor": "#d9d3c5",
         "griddash": "dot",
         "linecolor": "#d9d3c5",
         "range": [
          0,
          3.5
         ],
         "rangemode": "tozero",
         "showgrid": true,
         "tickfont": {
          "color": "#1e1b18",
          "family": "Georgia, serif",
          "size": 12
         },
         "ticktext": [
          "0,0 M",
          "0,5 M",
          "1,0 M",
          "1,5 M",
          "2,0 M",
          "2,5 M",
          "3,0 M"
         ],
         "tickvals": [
          0,
          0.5,
          1,
          1.5,
          2,
          2.5,
          3
         ],
         "title": {
          "text": "Toneladas"
         },
         "zeroline": false
        },
        "yaxis": {
         "categoryarray": [
          "Metropolitana\nde Santiago",
          "Antofagasta",
          "Biobío",
          "Libertador Gral. Bernardo O'Higgins",
          "Los Lagos",
          "Araucanía",
          "Valparaíso",
          "Maule",
          "Atacama",
          "Arica Y Parinacota",
          "Los Ríos",
          "Ñuble",
          "Coquimbo",
          "Magallanes Y De La Antártica Chilena",
          "Tarapacá",
          "Aysén Del Gral. Carlos Ibañez Del Campo"
         ],
         "categoryorder": "array",
         "linecolor": "#d9d3c5",
         "showgrid": false,
         "tickfont": {
          "color": "#1e1b18",
          "family": "Georgia, serif",
          "size": 12
         },
         "title": {
          "text": ""
         },
         "zeroline": false
        }
       }
      }
     },
     "metadata": {},
     "output_type": "display_data"
    }
   ],
   "source": [
    "import math\n",
    "\n",
    "lollipop_df = (\n",
    "    region_df[[\"region\", \"toneladas_sum\"]]\n",
    "    .dropna()\n",
    "    .sort_values(\"toneladas_sum\", ascending=False)\n",
    "    .reset_index(drop=True)\n",
    ")\n",
    "\n",
    "region_wrap_map = {\n",
    "    \"Metropolitana De Santiago\": \"Metropolitana\\nde Santiago\",\n",
    "    \"Los Ríos\": \"Los Ríos\",\n",
    "    \"Los Lagos\": \"Los Lagos\",\n",
    "}\n",
    "lollipop_df[\"region_display\"] = (\n",
    "    lollipop_df[\"region\"].astype(str).map(region_wrap_map).fillna(lollipop_df[\"region\"].astype(str))\n",
    ")\n",
    "\n",
    "total_tonnes = lollipop_df[\"toneladas_sum\"].sum()\n",
    "lollipop_df[\"tonnes_millions\"] = lollipop_df[\"toneladas_sum\"] / 1_000_000\n",
    "lollipop_df[\"participacion\"] = lollipop_df[\"toneladas_sum\"] / total_tonnes\n",
    "\n",
    "def format_spanish(number: float) -> str:\n",
    "    formatted = f\"{number:,.1f}\"\n",
    "    return formatted.replace(\",\", \"X\").replace(\".\", \",\").replace(\"X\", \".\")\n",
    "\n",
    "lollipop_df[\"label\"] = lollipop_df.apply(\n",
    "    lambda row: f\"{format_spanish(row['tonnes_millions'])} M t · {format_spanish(row['participacion'] * 100)}%\",\n",
    "    axis=1,\n",
    ")\n",
    "\n",
    "highlight_color = \"#d62828\"\n",
    "neutral_color = \"#9ca3af\"\n",
    "\n",
    "fig = go.Figure()\n",
    "\n",
    "for _, row in lollipop_df.iterrows():\n",
    "    color = highlight_color if row[\"region\"] == \"Los Ríos\" else neutral_color\n",
    "    fig.add_trace(\n",
    "        go.Scatter(\n",
    "            x=[0, row[\"tonnes_millions\"]],\n",
    "            y=[row[\"region_display\"], row[\"region_display\"]],\n",
    "            mode=\"lines\",\n",
    "            line=dict(color=color, width=3),\n",
    "            hoverinfo=\"skip\",\n",
    "            showlegend=False,\n",
    "        )\n",
    "    )\n",
    "    fig.add_trace(\n",
    "        go.Scatter(\n",
    "            x=[row[\"tonnes_millions\"]],\n",
    "            y=[row[\"region_display\"]],\n",
    "            mode=\"markers+text\",\n",
    "            marker=dict(color=color, size=14, line=dict(color=\"#ffffff\", width=1.5)),\n",
    "            text=[row[\"label\"]],\n",
    "            textposition=\"middle right\",\n",
    "            textfont=dict(family=\"Georgia, serif\", color=\"#1e1b18\", size=12),\n",
    "            hovertemplate=(\n",
    "                \"<b>%{customdata[0]}</b><br>Toneladas: %{customdata[1]:,.0f}<br>Participación nacional: %{customdata[2]:.1%}<extra></extra>\"\n",
    "            ),\n",
    "            customdata=[\n",
    "                [\n",
    "                    row[\"region\"],\n",
    "                    row[\"toneladas_sum\"],\n",
    "                    row[\"participacion\"],\n",
    "                ]\n",
    "            ],\n",
    "            showlegend=False,\n",
    "        )\n",
    "    )\n",
    "\n",
    "fig = apply_economist_style(fig, base_color=neutral_color)\n",
    "\n",
    "if fig.layout.shapes:\n",
    "    fig.layout.shapes[0].update(x0=-0.22, x1=0.84)\n",
    "\n",
    "max_millions = lollipop_df[\"tonnes_millions\"].max()\n",
    "tick_max = math.ceil(max_millions * 10) / 10\n",
    "tick_step = max(0.2, tick_max / 6)\n",
    "tick_values = [round(x, 1) for x in [i * tick_step for i in range(int(tick_max / tick_step) + 1)]]\n",
    "tick_values = sorted(set(tick_values))\n",
    "tick_text = [f\"{format_spanish(val)} M\" for val in tick_values]\n",
    "\n",
    "x_upper_padding = tick_step if tick_step > 0 else 0.2\n",
    "xaxis_range = [0, tick_max + x_upper_padding]\n",
    "\n",
    "fig.update_traces(textfont=dict(size=12, family=\"Georgia, serif\"))\n",
    "\n",
    "fig.update_layout(\n",
    "    title=\"Toneladas declaradas por región\",\n",
    "    title_font=dict(size=24),\n",
    "    xaxis_title=\"Toneladas\",\n",
    "    yaxis_title=\"\",\n",
    "    xaxis=dict(\n",
    "        tickvals=tick_values,\n",
    "        ticktext=tick_text,\n",
    "        rangemode=\"tozero\",\n",
    "        range=xaxis_range,\n",
    "    ),\n",
    "    yaxis=dict(\n",
    "        categoryorder=\"array\",\n",
    "        categoryarray=lollipop_df[\"region_display\"].tolist(),\n",
    "    ),\n",
    "    width=1380,\n",
    "    height=760,\n",
    "    margin=dict(l=200, r=170, t=130, b=130),\n",
    "    annotations=[\n",
    "        dict(\n",
    "            text=\"Chile, RNP 2023\",\n",
    "            x=0,\n",
    "            y=1.06,\n",
    "            xref=\"paper\",\n",
    "            yref=\"paper\",\n",
    "            showarrow=False,\n",
    "            font=dict(family=\"Georgia, serif\", size=14, color=\"#4a4338\"),\n",
    "        ),\n",
    "        dict(\n",
    "            text=\"Fuente: Registro Nacional de Emisiones y Transferencias de Residuos (RNP) 2023\",\n",
    "            x=0,\n",
    "            y=-0.22,\n",
    "            xref=\"paper\",\n",
    "            yref=\"paper\",\n",
    "            showarrow=False,\n",
    "            font=dict(family=\"Georgia, serif\", size=11, color=\"#6e6252\"),\n",
    "        ),\n",
    "    ],\n",
    ")\n",
    "\n",
    "fig"
   ]
  },
  {
   "cell_type": "code",
   "execution_count": 7,
   "id": "46fa8db8",
   "metadata": {},
   "outputs": [
    {
     "data": {
      "application/vnd.plotly.v1+json": {
       "config": {
        "plotlyServerURL": "https://plot.ly"
       },
       "data": [
        {
         "cliponaxis": false,
         "customdata": [
          [
           "Metropolitana De Santiago",
           2945986.601587146,
           0.28406608856703713
          ],
          [
           "Biobío",
           1272967.67979,
           0.1227456192351271
          ],
          [
           "Los Lagos",
           747730.01708301,
           0.07209969697163653
          ],
          [
           "Araucanía",
           615331.380841,
           0.05933318856028956
          ],
          [
           "Los Ríos",
           241895.6876,
           0.023324736704758327
          ]
         ],
         "hovertemplate": "<b>%{customdata[0]}</b><br>Toneladas: %{customdata[1]:,.0f}<br>Participación nacional: %{customdata[2]:.1%}<extra></extra>",
         "marker": {
          "color": [
           "#686d76",
           "#495057",
           "#8c8f99",
           "#b0b4ba",
           "#d62828"
          ],
          "line": {
           "color": "rgba(0,0,0,0)",
           "width": 0
          }
         },
         "showlegend": false,
         "text": [
          "2,9 M t\n(28,4%)",
          "1,3 M t\n(12,3%)",
          "0,7 M t\n(7,2%)",
          "0,6 M t\n(5,9%)",
          "0,2 M t\n(2,3%)"
         ],
         "textfont": {
          "color": "#1e1b18",
          "family": "Georgia, serif",
          "size": 13
         },
         "textposition": "outside",
         "type": "bar",
         "x": [
          "Metropolitana De Santiago",
          "Biobío",
          "Los Lagos",
          "Araucanía",
          "Los Ríos"
         ],
         "y": {
          "bdata": "9CpibGGRB0BBAplbE170P1V9M4Bn7ec/iUSdb8uw4z8PiaQZcPbOPw==",
          "dtype": "f8"
         }
        }
       ],
       "layout": {
        "annotations": [
         {
          "font": {
           "color": "#4a4338",
           "family": "Georgia, serif",
           "size": 14
          },
          "showarrow": false,
          "text": "Chile, RNP 2023",
          "x": 0,
          "xref": "paper",
          "y": 1.05,
          "yref": "paper"
         },
         {
          "font": {
           "color": "#6e6252",
           "family": "Georgia, serif",
           "size": 11
          },
          "showarrow": false,
          "text": "Los Ríos se destaca en rojo para enfatizar su liderazgo entre las regiones foco",
          "x": 0,
          "xref": "paper",
          "y": -0.2,
          "yref": "paper"
         },
         {
          "font": {
           "color": "#6e6252",
           "family": "Georgia, serif",
           "size": 11
          },
          "showarrow": false,
          "text": "Fuente: Registro Nacional de Emisiones y Transferencias de Residuos (RNP) 2023",
          "x": 0,
          "xref": "paper",
          "y": -0.28,
          "yref": "paper"
         }
        ],
        "bargap": 0.35,
        "colorway": [
         "#686d76"
        ],
        "font": {
         "color": "#1e1b18",
         "family": "Georgia, serif",
         "size": 15
        },
        "height": 720,
        "hoverlabel": {
         "bgcolor": "#ffffff",
         "font": {
          "color": "#1e1b18",
          "family": "Georgia, serif"
         }
        },
        "legend": {
         "font": {
          "color": "#1e1b18",
          "family": "Georgia, serif",
          "size": 12
         }
        },
        "margin": {
         "b": 160,
         "l": 120,
         "r": 90,
         "t": 140
        },
        "paper_bgcolor": "#f7f2ea",
        "plot_bgcolor": "#f7f2ea",
        "shapes": [
         {
          "line": {
           "color": "#d62828",
           "width": 4
          },
          "type": "line",
          "x0": -0.07,
          "x1": 0.95,
          "xref": "paper",
          "y0": 1.09,
          "y1": 1.09,
          "yref": "paper"
         }
        ],
        "template": {
         "data": {
          "bar": [
           {
            "error_x": {
             "color": "#2a3f5f"
            },
            "error_y": {
             "color": "#2a3f5f"
            },
            "marker": {
             "line": {
              "color": "white",
              "width": 0.5
             },
             "pattern": {
              "fillmode": "overlay",
              "size": 10,
              "solidity": 0.2
             }
            },
            "type": "bar"
           }
          ],
          "barpolar": [
           {
            "marker": {
             "line": {
              "color": "white",
              "width": 0.5
             },
             "pattern": {
              "fillmode": "overlay",
              "size": 10,
              "solidity": 0.2
             }
            },
            "type": "barpolar"
           }
          ],
          "carpet": [
           {
            "aaxis": {
             "endlinecolor": "#2a3f5f",
             "gridcolor": "#C8D4E3",
             "linecolor": "#C8D4E3",
             "minorgridcolor": "#C8D4E3",
             "startlinecolor": "#2a3f5f"
            },
            "baxis": {
             "endlinecolor": "#2a3f5f",
             "gridcolor": "#C8D4E3",
             "linecolor": "#C8D4E3",
             "minorgridcolor": "#C8D4E3",
             "startlinecolor": "#2a3f5f"
            },
            "type": "carpet"
           }
          ],
          "choropleth": [
           {
            "colorbar": {
             "outlinewidth": 0,
             "ticks": ""
            },
            "type": "choropleth"
           }
          ],
          "contour": [
           {
            "colorbar": {
             "outlinewidth": 0,
             "ticks": ""
            },
            "colorscale": [
             [
              0,
              "#0d0887"
             ],
             [
              0.1111111111111111,
              "#46039f"
             ],
             [
              0.2222222222222222,
              "#7201a8"
             ],
             [
              0.3333333333333333,
              "#9c179e"
             ],
             [
              0.4444444444444444,
              "#bd3786"
             ],
             [
              0.5555555555555556,
              "#d8576b"
             ],
             [
              0.6666666666666666,
              "#ed7953"
             ],
             [
              0.7777777777777778,
              "#fb9f3a"
             ],
             [
              0.8888888888888888,
              "#fdca26"
             ],
             [
              1,
              "#f0f921"
             ]
            ],
            "type": "contour"
           }
          ],
          "contourcarpet": [
           {
            "colorbar": {
             "outlinewidth": 0,
             "ticks": ""
            },
            "type": "contourcarpet"
           }
          ],
          "heatmap": [
           {
            "colorbar": {
             "outlinewidth": 0,
             "ticks": ""
            },
            "colorscale": [
             [
              0,
              "#0d0887"
             ],
             [
              0.1111111111111111,
              "#46039f"
             ],
             [
              0.2222222222222222,
              "#7201a8"
             ],
             [
              0.3333333333333333,
              "#9c179e"
             ],
             [
              0.4444444444444444,
              "#bd3786"
             ],
             [
              0.5555555555555556,
              "#d8576b"
             ],
             [
              0.6666666666666666,
              "#ed7953"
             ],
             [
              0.7777777777777778,
              "#fb9f3a"
             ],
             [
              0.8888888888888888,
              "#fdca26"
             ],
             [
              1,
              "#f0f921"
             ]
            ],
            "type": "heatmap"
           }
          ],
          "histogram": [
           {
            "marker": {
             "pattern": {
              "fillmode": "overlay",
              "size": 10,
              "solidity": 0.2
             }
            },
            "type": "histogram"
           }
          ],
          "histogram2d": [
           {
            "colorbar": {
             "outlinewidth": 0,
             "ticks": ""
            },
            "colorscale": [
             [
              0,
              "#0d0887"
             ],
             [
              0.1111111111111111,
              "#46039f"
             ],
             [
              0.2222222222222222,
              "#7201a8"
             ],
             [
              0.3333333333333333,
              "#9c179e"
             ],
             [
              0.4444444444444444,
              "#bd3786"
             ],
             [
              0.5555555555555556,
              "#d8576b"
             ],
             [
              0.6666666666666666,
              "#ed7953"
             ],
             [
              0.7777777777777778,
              "#fb9f3a"
             ],
             [
              0.8888888888888888,
              "#fdca26"
             ],
             [
              1,
              "#f0f921"
             ]
            ],
            "type": "histogram2d"
           }
          ],
          "histogram2dcontour": [
           {
            "colorbar": {
             "outlinewidth": 0,
             "ticks": ""
            },
            "colorscale": [
             [
              0,
              "#0d0887"
             ],
             [
              0.1111111111111111,
              "#46039f"
             ],
             [
              0.2222222222222222,
              "#7201a8"
             ],
             [
              0.3333333333333333,
              "#9c179e"
             ],
             [
              0.4444444444444444,
              "#bd3786"
             ],
             [
              0.5555555555555556,
              "#d8576b"
             ],
             [
              0.6666666666666666,
              "#ed7953"
             ],
             [
              0.7777777777777778,
              "#fb9f3a"
             ],
             [
              0.8888888888888888,
              "#fdca26"
             ],
             [
              1,
              "#f0f921"
             ]
            ],
            "type": "histogram2dcontour"
           }
          ],
          "mesh3d": [
           {
            "colorbar": {
             "outlinewidth": 0,
             "ticks": ""
            },
            "type": "mesh3d"
           }
          ],
          "parcoords": [
           {
            "line": {
             "colorbar": {
              "outlinewidth": 0,
              "ticks": ""
             }
            },
            "type": "parcoords"
           }
          ],
          "pie": [
           {
            "automargin": true,
            "type": "pie"
           }
          ],
          "scatter": [
           {
            "fillpattern": {
             "fillmode": "overlay",
             "size": 10,
             "solidity": 0.2
            },
            "type": "scatter"
           }
          ],
          "scatter3d": [
           {
            "line": {
             "colorbar": {
              "outlinewidth": 0,
              "ticks": ""
             }
            },
            "marker": {
             "colorbar": {
              "outlinewidth": 0,
              "ticks": ""
             }
            },
            "type": "scatter3d"
           }
          ],
          "scattercarpet": [
           {
            "marker": {
             "colorbar": {
              "outlinewidth": 0,
              "ticks": ""
             }
            },
            "type": "scattercarpet"
           }
          ],
          "scattergeo": [
           {
            "marker": {
             "colorbar": {
              "outlinewidth": 0,
              "ticks": ""
             }
            },
            "type": "scattergeo"
           }
          ],
          "scattergl": [
           {
            "marker": {
             "colorbar": {
              "outlinewidth": 0,
              "ticks": ""
             }
            },
            "type": "scattergl"
           }
          ],
          "scattermap": [
           {
            "marker": {
             "colorbar": {
              "outlinewidth": 0,
              "ticks": ""
             }
            },
            "type": "scattermap"
           }
          ],
          "scattermapbox": [
           {
            "marker": {
             "colorbar": {
              "outlinewidth": 0,
              "ticks": ""
             }
            },
            "type": "scattermapbox"
           }
          ],
          "scatterpolar": [
           {
            "marker": {
             "colorbar": {
              "outlinewidth": 0,
              "ticks": ""
             }
            },
            "type": "scatterpolar"
           }
          ],
          "scatterpolargl": [
           {
            "marker": {
             "colorbar": {
              "outlinewidth": 0,
              "ticks": ""
             }
            },
            "type": "scatterpolargl"
           }
          ],
          "scatterternary": [
           {
            "marker": {
             "colorbar": {
              "outlinewidth": 0,
              "ticks": ""
             }
            },
            "type": "scatterternary"
           }
          ],
          "surface": [
           {
            "colorbar": {
             "outlinewidth": 0,
             "ticks": ""
            },
            "colorscale": [
             [
              0,
              "#0d0887"
             ],
             [
              0.1111111111111111,
              "#46039f"
             ],
             [
              0.2222222222222222,
              "#7201a8"
             ],
             [
              0.3333333333333333,
              "#9c179e"
             ],
             [
              0.4444444444444444,
              "#bd3786"
             ],
             [
              0.5555555555555556,
              "#d8576b"
             ],
             [
              0.6666666666666666,
              "#ed7953"
             ],
             [
              0.7777777777777778,
              "#fb9f3a"
             ],
             [
              0.8888888888888888,
              "#fdca26"
             ],
             [
              1,
              "#f0f921"
             ]
            ],
            "type": "surface"
           }
          ],
          "table": [
           {
            "cells": {
             "fill": {
              "color": "#EBF0F8"
             },
             "line": {
              "color": "white"
             }
            },
            "header": {
             "fill": {
              "color": "#C8D4E3"
             },
             "line": {
              "color": "white"
             }
            },
            "type": "table"
           }
          ]
         },
         "layout": {
          "annotationdefaults": {
           "arrowcolor": "#2a3f5f",
           "arrowhead": 0,
           "arrowwidth": 1
          },
          "autotypenumbers": "strict",
          "coloraxis": {
           "colorbar": {
            "outlinewidth": 0,
            "ticks": ""
           }
          },
          "colorscale": {
           "diverging": [
            [
             0,
             "#8e0152"
            ],
            [
             0.1,
             "#c51b7d"
            ],
            [
             0.2,
             "#de77ae"
            ],
            [
             0.3,
             "#f1b6da"
            ],
            [
             0.4,
             "#fde0ef"
            ],
            [
             0.5,
             "#f7f7f7"
            ],
            [
             0.6,
             "#e6f5d0"
            ],
            [
             0.7,
             "#b8e186"
            ],
            [
             0.8,
             "#7fbc41"
            ],
            [
             0.9,
             "#4d9221"
            ],
            [
             1,
             "#276419"
            ]
           ],
           "sequential": [
            [
             0,
             "#0d0887"
            ],
            [
             0.1111111111111111,
             "#46039f"
            ],
            [
             0.2222222222222222,
             "#7201a8"
            ],
            [
             0.3333333333333333,
             "#9c179e"
            ],
            [
             0.4444444444444444,
             "#bd3786"
            ],
            [
             0.5555555555555556,
             "#d8576b"
            ],
            [
             0.6666666666666666,
             "#ed7953"
            ],
            [
             0.7777777777777778,
             "#fb9f3a"
            ],
            [
             0.8888888888888888,
             "#fdca26"
            ],
            [
             1,
             "#f0f921"
            ]
           ],
           "sequentialminus": [
            [
             0,
             "#0d0887"
            ],
            [
             0.1111111111111111,
             "#46039f"
            ],
            [
             0.2222222222222222,
             "#7201a8"
            ],
            [
             0.3333333333333333,
             "#9c179e"
            ],
            [
             0.4444444444444444,
             "#bd3786"
            ],
            [
             0.5555555555555556,
             "#d8576b"
            ],
            [
             0.6666666666666666,
             "#ed7953"
            ],
            [
             0.7777777777777778,
             "#fb9f3a"
            ],
            [
             0.8888888888888888,
             "#fdca26"
            ],
            [
             1,
             "#f0f921"
            ]
           ]
          },
          "colorway": [
           "#636efa",
           "#EF553B",
           "#00cc96",
           "#ab63fa",
           "#FFA15A",
           "#19d3f3",
           "#FF6692",
           "#B6E880",
           "#FF97FF",
           "#FECB52"
          ],
          "font": {
           "color": "#2a3f5f"
          },
          "geo": {
           "bgcolor": "white",
           "lakecolor": "white",
           "landcolor": "white",
           "showlakes": true,
           "showland": true,
           "subunitcolor": "#C8D4E3"
          },
          "hoverlabel": {
           "align": "left"
          },
          "hovermode": "closest",
          "mapbox": {
           "style": "light"
          },
          "paper_bgcolor": "white",
          "plot_bgcolor": "white",
          "polar": {
           "angularaxis": {
            "gridcolor": "#EBF0F8",
            "linecolor": "#EBF0F8",
            "ticks": ""
           },
           "bgcolor": "white",
           "radialaxis": {
            "gridcolor": "#EBF0F8",
            "linecolor": "#EBF0F8",
            "ticks": ""
           }
          },
          "scene": {
           "xaxis": {
            "backgroundcolor": "white",
            "gridcolor": "#DFE8F3",
            "gridwidth": 2,
            "linecolor": "#EBF0F8",
            "showbackground": true,
            "ticks": "",
            "zerolinecolor": "#EBF0F8"
           },
           "yaxis": {
            "backgroundcolor": "white",
            "gridcolor": "#DFE8F3",
            "gridwidth": 2,
            "linecolor": "#EBF0F8",
            "showbackground": true,
            "ticks": "",
            "zerolinecolor": "#EBF0F8"
           },
           "zaxis": {
            "backgroundcolor": "white",
            "gridcolor": "#DFE8F3",
            "gridwidth": 2,
            "linecolor": "#EBF0F8",
            "showbackground": true,
            "ticks": "",
            "zerolinecolor": "#EBF0F8"
           }
          },
          "shapedefaults": {
           "line": {
            "color": "#2a3f5f"
           }
          },
          "ternary": {
           "aaxis": {
            "gridcolor": "#DFE8F3",
            "linecolor": "#A2B1C6",
            "ticks": ""
           },
           "baxis": {
            "gridcolor": "#DFE8F3",
            "linecolor": "#A2B1C6",
            "ticks": ""
           },
           "bgcolor": "white",
           "caxis": {
            "gridcolor": "#DFE8F3",
            "linecolor": "#A2B1C6",
            "ticks": ""
           }
          },
          "title": {
           "x": 0.05
          },
          "xaxis": {
           "automargin": true,
           "gridcolor": "#EBF0F8",
           "linecolor": "#EBF0F8",
           "ticks": "",
           "title": {
            "standoff": 15
           },
           "zerolinecolor": "#EBF0F8",
           "zerolinewidth": 2
          },
          "yaxis": {
           "automargin": true,
           "gridcolor": "#EBF0F8",
           "linecolor": "#EBF0F8",
           "ticks": "",
           "title": {
            "standoff": 15
           },
           "zerolinecolor": "#EBF0F8",
           "zerolinewidth": 2
          }
         }
        },
        "title": {
         "text": "Regiones foco: toneladas declaradas"
        },
        "width": 1200,
        "xaxis": {
         "gridcolor": "#d9d3c5",
         "griddash": "dot",
         "linecolor": "#d9d3c5",
         "showgrid": true,
         "tickangle": 0,
         "tickfont": {
          "color": "#1e1b18",
          "family": "Georgia, serif",
          "size": 13
         },
         "ticktext": [
          "Metropolitana De Santiago",
          "Biobío",
          "Los Lagos",
          "Araucanía",
          "Los Ríos"
         ],
         "tickvals": [
          "Metropolitana De Santiago",
          "Biobío",
          "Los Lagos",
          "Araucanía",
          "Los Ríos"
         ],
         "title": {
          "text": ""
         },
         "zeroline": false
        },
        "yaxis": {
         "linecolor": "#d9d3c5",
         "range": [
          0,
          3.8
         ],
         "showgrid": false,
         "tickfont": {
          "color": "#1e1b18",
          "family": "Georgia, serif",
          "size": 12
         },
         "ticktext": [
          "0,0 M",
          "0,5 M",
          "1,0 M",
          "1,5 M",
          "2,0 M",
          "2,5 M",
          "3,0 M",
          "3,5 M"
         ],
         "tickvals": [
          0,
          0.5,
          1,
          1.5,
          2,
          2.5,
          3,
          3.5
         ],
         "title": {
          "text": "Millones de toneladas"
         },
         "zeroline": false
        }
       }
      }
     },
     "metadata": {},
     "output_type": "display_data"
    }
   ],
   "source": [
    "focus_plot = focus_region_df.sort_values(\"toneladas_sum\", ascending=False).copy()\n",
    "\n",
    "\n",
    "focus_plot[\"region\"] = focus_plot[\"region\"].astype(str)\n",
    "\n",
    "\n",
    "region_label_map = {\n",
    "\n",
    "\n",
    "    \"Metropolitana\": \"Metropolitana\",\n",
    "\n",
    "    \"Los Ríos\": \"Los Ríos\",\n",
    "\n",
    "    \"Los Lagos\": \"Los Lagos\",\n",
    "\n",
    "}\n",
    "\n",
    "focus_plot[\"region_display\"] = focus_plot[\"region\"].map(region_label_map).fillna(focus_plot[\"region\"])\n",
    "\n",
    "focus_plot[\"participacion\"] = focus_plot[\"toneladas_sum\"] / region_df[\"toneladas_sum\"].sum()\n",
    "\n",
    "focus_plot[\"tonnes_millions\"] = focus_plot[\"toneladas_sum\"] / 1_000_000\n",
    "\n",
    "\n",
    "\n",
    "def format_spanish(number: float, decimals: int = 1) -> str:\n",
    "\n",
    "    formatted = f\"{number:,.{decimals}f}\"\n",
    "\n",
    "    return formatted.replace(\",\", \"X\").replace(\".\", \",\").replace(\"X\", \".\")\n",
    "\n",
    "\n",
    "\n",
    "focus_plot[\"label\"] = focus_plot.apply(\n",
    "\n",
    "    lambda row: f\"{format_spanish(row['tonnes_millions'])} M t\\n({format_spanish(row['participacion'] * 100)}%)\",\n",
    "\n",
    "    axis=1,\n",
    "\n",
    ")\n",
    "\n",
    "\n",
    "\n",
    "palette_focus = {\n",
    "\n",
    "    \"Los Ríos\": \"#d62828\",\n",
    "\n",
    "    \"Biobío\": \"#495057\",\n",
    "\n",
    "    \"Metropolitana De Santiago\": \"#686d76\",\n",
    "\n",
    "    \"Los Lagos\": \"#8c8f99\",\n",
    "\n",
    "    \"Araucanía\": \"#b0b4ba\",\n",
    "\n",
    "}\n",
    "\n",
    "neutral_color = \"#686d76\"\n",
    "\n",
    "bar_colors = [palette_focus.get(region, neutral_color) for region in focus_plot[\"region\"]]\n",
    "\n",
    "\n",
    "\n",
    "focus_fig = go.Figure(\n",
    "\n",
    "    go.Bar(\n",
    "\n",
    "        x=focus_plot[\"region_display\"],\n",
    "\n",
    "        y=focus_plot[\"tonnes_millions\"],\n",
    "\n",
    "        marker=dict(color=bar_colors, line=dict(color=\"rgba(0,0,0,0)\", width=0)),\n",
    "\n",
    "        text=focus_plot[\"label\"],\n",
    "\n",
    "        textposition=\"outside\",\n",
    "\n",
    "        textfont=dict(family=\"Georgia, serif\", color=\"#1e1b18\", size=13),\n",
    "\n",
    "        hovertemplate=\"<b>%{customdata[0]}</b><br>Toneladas: %{customdata[1]:,.0f}<br>Participación nacional: %{customdata[2]:.1%}<extra></extra>\",\n",
    "\n",
    "        customdata=focus_plot[[\"region\", \"toneladas_sum\", \"participacion\"]].to_numpy(),\n",
    "\n",
    "        cliponaxis=False,\n",
    "\n",
    "        showlegend=False,\n",
    "\n",
    "    )\n",
    "\n",
    ")\n",
    "\n",
    "\n",
    "\n",
    "focus_fig = apply_economist_style(\n",
    "\n",
    "    focus_fig,\n",
    "\n",
    "    base_color=neutral_color,\n",
    "\n",
    "    underline=True,\n",
    "\n",
    "    auto_marker_line=False,\n",
    "\n",
    ")\n",
    "\n",
    "\n",
    "\n",
    "if focus_fig.layout.shapes:\n",
    "\n",
    "    focus_fig.layout.shapes[0].update(x0=-0.07, x1=0.95)\n",
    "\n",
    "\n",
    "\n",
    "max_millions = focus_plot[\"tonnes_millions\"].max()\n",
    "\n",
    "tick_step = 0.25 if max_millions <= 2.0 else 0.5\n",
    "\n",
    "tick_max = math.ceil((max_millions + tick_step * 0.2) / tick_step) * tick_step\n",
    "\n",
    "tick_vals = [round(tick_step * i, 2) for i in range(int(tick_max / tick_step) + 1)]\n",
    "\n",
    "tick_text = [f\"{format_spanish(val)} M\" for val in tick_vals]\n",
    "\n",
    "yaxis_upper = tick_max + tick_step * 0.6\n",
    "\n",
    "\n",
    "\n",
    "focus_fig.update_layout(\n",
    "\n",
    "    title=\"Regiones foco: toneladas declaradas\",\n",
    "\n",
    "    xaxis_title=\"\",\n",
    "\n",
    "    yaxis_title=\"Millones de toneladas\",\n",
    "\n",
    "    xaxis=dict(\n",
    "\n",
    "        tickvals=focus_plot[\"region_display\"].tolist(),\n",
    "\n",
    "        ticktext=focus_plot[\"region_display\"].tolist(),\n",
    "\n",
    "        tickangle=0,\n",
    "\n",
    "        tickfont=dict(family=\"Georgia, serif\", size=13, color=\"#1e1b18\"),\n",
    "\n",
    "    ),\n",
    "\n",
    "    yaxis=dict(tickvals=tick_vals, ticktext=tick_text, range=[0, yaxis_upper]),\n",
    "\n",
    "    bargap=0.35,\n",
    "\n",
    "    width=1200,\n",
    "\n",
    "    height=720,\n",
    "\n",
    "    margin=dict(l=120, r=90, t=140, b=160),\n",
    "\n",
    "    annotations=[\n",
    "\n",
    "        dict(\n",
    "\n",
    "            text=\"Chile, RNP 2023\",\n",
    "\n",
    "            x=0,\n",
    "\n",
    "            y=1.05,\n",
    "\n",
    "            xref=\"paper\",\n",
    "\n",
    "            yref=\"paper\",\n",
    "\n",
    "            showarrow=False,\n",
    "\n",
    "            font=dict(family=\"Georgia, serif\", size=14, color=\"#4a4338\"),\n",
    "\n",
    "        ),\n",
    "\n",
    "        dict(\n",
    "\n",
    "            text=\"Los Ríos se destaca en rojo para enfatizar su liderazgo entre las regiones foco\",\n",
    "\n",
    "            x=0,\n",
    "\n",
    "            y=-0.2,\n",
    "\n",
    "            xref=\"paper\",\n",
    "\n",
    "            yref=\"paper\",\n",
    "\n",
    "            showarrow=False,\n",
    "\n",
    "            font=dict(family=\"Georgia, serif\", size=11, color=\"#6e6252\"),\n",
    "\n",
    "        ),\n",
    "\n",
    "        dict(\n",
    "\n",
    "            text=\"Fuente: Registro Nacional de Emisiones y Transferencias de Residuos (RNP) 2023\",\n",
    "\n",
    "            x=0,\n",
    "\n",
    "            y=-0.28,\n",
    "\n",
    "            xref=\"paper\",\n",
    "\n",
    "            yref=\"paper\",\n",
    "\n",
    "            showarrow=False,\n",
    "\n",
    "            font=dict(family=\"Georgia, serif\", size=11, color=\"#6e6252\"),\n",
    "\n",
    "        ),\n",
    "\n",
    "    ],\n",
    "\n",
    ")\n",
    "\n",
    "focus_fig"
   ]
  },
  {
   "cell_type": "markdown",
   "id": "2eb29ddd",
   "metadata": {},
   "source": [
    "## 5. Save Artifacts\n",
    "\n",
    "Guardamos tablas y visualizaciones clave para su uso en reportes y presentaciones del equipo."
   ]
  },
  {
   "cell_type": "code",
   "execution_count": 8,
   "id": "cd5661d7",
   "metadata": {},
   "outputs": [
    {
     "data": {
      "text/markdown": [
       "\n",
       "\n",
       "Se exportaron artefactos a `artifacts/rnp_comparativo_regiones`:\n",
       "\n",
       "\n",
       "\n",
       "- Tablas: `artifacts/rnp_comparativo_regiones/tables`\n",
       "\n",
       "- Gráficos interactivos: `artifacts/rnp_comparativo_regiones/figures`\n",
       "\n"
      ],
      "text/plain": [
       "<IPython.core.display.Markdown object>"
      ]
     },
     "execution_count": 8,
     "metadata": {},
     "output_type": "execute_result"
    }
   ],
   "source": [
    "artifacts_dir = PROJECT_ROOT / \"artifacts\" / \"rnp_comparativo_regiones\"\n",
    "\n",
    "tables_dir = artifacts_dir / \"tables\"\n",
    "\n",
    "figures_dir = artifacts_dir / \"figures\"\n",
    "\n",
    "for directory in (tables_dir, figures_dir):\n",
    "\n",
    "    directory.mkdir(parents=True, exist_ok=True)\n",
    "\n",
    "\n",
    "\n",
    "headline_metrics.to_csv(tables_dir / \"headline_metrics.csv\", index=False)\n",
    "\n",
    "focus_region_df.to_csv(tables_dir / \"focus_regions_tonnes.csv\", index=False)\n",
    "\n",
    "\n",
    "\n",
    "national_fig.write_html(figures_dir / \"national_tonnes.html\", include_plotlyjs=\"cdn\")\n",
    "\n",
    "focus_fig.write_html(figures_dir / \"focus_regions_tonnes.html\", include_plotlyjs=\"cdn\")\n",
    "\n",
    "\n",
    "\n",
    "Markdown(\n",
    "\n",
    "    f\"\"\"\n",
    "\n",
    "Se exportaron artefactos a `{artifacts_dir.relative_to(PROJECT_ROOT)}`:\n",
    "\n",
    "\n",
    "\n",
    "- Tablas: `{tables_dir.relative_to(PROJECT_ROOT)}`\n",
    "\n",
    "- Gráficos interactivos: `{figures_dir.relative_to(PROJECT_ROOT)}`\n",
    "\n",
    "\"\"\"\n",
    "\n",
    ")"
   ]
  },
  {
   "cell_type": "code",
   "execution_count": 21,
   "id": "5fd9e507",
   "metadata": {},
   "outputs": [
    {
     "data": {
      "application/vnd.plotly.v1+json": {
       "config": {
        "plotlyServerURL": "https://plot.ly"
       },
       "data": [
        {
         "customdata": [
          [
           "Los Ríos",
           "Recolección",
           1.2836690231264793
          ]
         ],
         "hovertemplate": "<b>Los Ríos</b><br>Recolección: 1.3%<extra></extra>",
         "legendgroup": "Recolección",
         "marker": {
          "color": "#94d2bd",
          "line": {
           "color": "#ffffff",
           "width": 1.2
          },
          "size": 12
         },
         "mode": "markers+text",
         "name": "Recolección",
         "showlegend": true,
         "text": [
          "1%"
         ],
         "textfont": {
          "color": "#1e1b18",
          "family": "Georgia, serif",
          "size": 12
         },
         "textposition": "bottom center",
         "type": "scatter",
         "x": [
          1.2836690231264793
         ],
         "y": [
          "Los Ríos"
         ]
        },
        {
         "hoverinfo": "skip",
         "line": {
          "color": "#94a3b8",
          "width": 2
         },
         "mode": "lines",
         "showlegend": false,
         "type": "scatter",
         "x": [
          1.8836690231264792,
          25.984888568306996
         ],
         "y": [
          "Los Ríos",
          "Los Ríos"
         ]
        },
        {
         "customdata": [
          [
           "Los Ríos",
           "Valorización",
           26.584888568306997
          ]
         ],
         "hovertemplate": "<b>Los Ríos</b><br>Valorización: 26.6%<extra></extra>",
         "legendgroup": "Valorización",
         "marker": {
          "color": "#0a9396",
          "line": {
           "color": "#ffffff",
           "width": 1.2
          },
          "size": 12
         },
         "mode": "markers+text",
         "name": "Valorización",
         "showlegend": true,
         "text": [
          "27%"
         ],
         "textfont": {
          "color": "#1e1b18",
          "family": "Georgia, serif",
          "size": 12
         },
         "textposition": "bottom center",
         "type": "scatter",
         "x": [
          26.584888568306997
         ],
         "y": [
          "Los Ríos"
         ]
        },
        {
         "hoverinfo": "skip",
         "line": {
          "color": "#94a3b8",
          "width": 2
         },
         "mode": "lines",
         "showlegend": false,
         "type": "scatter",
         "x": [
          27.184888568307,
          71.53144240856653
         ],
         "y": [
          "Los Ríos",
          "Los Ríos"
         ]
        },
        {
         "customdata": [
          [
           "Los Ríos",
           "Eliminación",
           72.13144240856653
          ]
         ],
         "hovertemplate": "<b>Los Ríos</b><br>Eliminación: 72.1%<extra></extra>",
         "legendgroup": "Eliminación",
         "marker": {
          "color": "#005f73",
          "line": {
           "color": "#ffffff",
           "width": 1.2
          },
          "size": 12
         },
         "mode": "markers+text",
         "name": "Eliminación",
         "showlegend": true,
         "text": [
          "72%"
         ],
         "textfont": {
          "color": "#1e1b18",
          "family": "Georgia, serif",
          "size": 12
         },
         "textposition": "bottom center",
         "type": "scatter",
         "x": [
          72.13144240856653
         ],
         "y": [
          "Los Ríos"
         ]
        },
        {
         "customdata": [
          [
           "Biobío",
           "Recolección",
           1.5745492087675437
          ]
         ],
         "hovertemplate": "<b>Biobío</b><br>Recolección: 1.6%<extra></extra>",
         "legendgroup": "Recolección",
         "marker": {
          "color": "#94d2bd",
          "line": {
           "color": "#ffffff",
           "width": 1.2
          },
          "size": 12
         },
         "mode": "markers+text",
         "name": "Recolección",
         "showlegend": false,
         "text": [
          "2%"
         ],
         "textfont": {
          "color": "#1e1b18",
          "family": "Georgia, serif",
          "size": 12
         },
         "textposition": "bottom center",
         "type": "scatter",
         "x": [
          1.5745492087675437
         ],
         "y": [
          "Biobío"
         ]
        },
        {
         "hoverinfo": "skip",
         "line": {
          "color": "#94a3b8",
          "width": 2
         },
         "mode": "lines",
         "showlegend": false,
         "type": "scatter",
         "x": [
          2.1745492087675435,
          36.10407453605409
         ],
         "y": [
          "Biobío",
          "Biobío"
         ]
        },
        {
         "customdata": [
          [
           "Biobío",
           "Eliminación",
           36.704074536054094
          ]
         ],
         "hovertemplate": "<b>Biobío</b><br>Eliminación: 36.7%<extra></extra>",
         "legendgroup": "Eliminación",
         "marker": {
          "color": "#005f73",
          "line": {
           "color": "#ffffff",
           "width": 1.2
          },
          "size": 12
         },
         "mode": "markers+text",
         "name": "Eliminación",
         "showlegend": false,
         "text": [
          "37%"
         ],
         "textfont": {
          "color": "#1e1b18",
          "family": "Georgia, serif",
          "size": 12
         },
         "textposition": "bottom center",
         "type": "scatter",
         "x": [
          36.704074536054094
         ],
         "y": [
          "Biobío"
         ]
        },
        {
         "hoverinfo": "skip",
         "line": {
          "color": "#94a3b8",
          "width": 2
         },
         "mode": "lines",
         "showlegend": false,
         "type": "scatter",
         "x": [
          37.304074536054095,
          61.12137625517836
         ],
         "y": [
          "Biobío",
          "Biobío"
         ]
        },
        {
         "customdata": [
          [
           "Biobío",
           "Valorización",
           61.72137625517836
          ]
         ],
         "hovertemplate": "<b>Biobío</b><br>Valorización: 61.7%<extra></extra>",
         "legendgroup": "Valorización",
         "marker": {
          "color": "#0a9396",
          "line": {
           "color": "#ffffff",
           "width": 1.2
          },
          "size": 12
         },
         "mode": "markers+text",
         "name": "Valorización",
         "showlegend": false,
         "text": [
          "62%"
         ],
         "textfont": {
          "color": "#1e1b18",
          "family": "Georgia, serif",
          "size": 12
         },
         "textposition": "bottom center",
         "type": "scatter",
         "x": [
          61.72137625517836
         ],
         "y": [
          "Biobío"
         ]
        },
        {
         "customdata": [
          [
           "Metropolitana De Santiago",
           "Recolección",
           7.1331108397554885
          ]
         ],
         "hovertemplate": "<b>Metropolitana De Santiago</b><br>Recolección: 7.1%<extra></extra>",
         "legendgroup": "Recolección",
         "marker": {
          "color": "#94d2bd",
          "line": {
           "color": "#ffffff",
           "width": 1.2
          },
          "size": 12
         },
         "mode": "markers+text",
         "name": "Recolección",
         "showlegend": false,
         "text": [
          "7%"
         ],
         "textfont": {
          "color": "#1e1b18",
          "family": "Georgia, serif",
          "size": 12
         },
         "textposition": "bottom center",
         "type": "scatter",
         "x": [
          7.1331108397554885
         ],
         "y": [
          "Metropolitana De Santiago"
         ]
        },
        {
         "hoverinfo": "skip",
         "line": {
          "color": "#94a3b8",
          "width": 2
         },
         "mode": "lines",
         "showlegend": false,
         "type": "scatter",
         "x": [
          7.733110839755488,
          33.126944893097885
         ],
         "y": [
          "Metropolitana De Santiago",
          "Metropolitana De Santiago"
         ]
        },
        {
         "customdata": [
          [
           "Metropolitana De Santiago",
           "Valorización",
           33.72694489309789
          ]
         ],
         "hovertemplate": "<b>Metropolitana De Santiago</b><br>Valorización: 33.7%<extra></extra>",
         "legendgroup": "Valorización",
         "marker": {
          "color": "#0a9396",
          "line": {
           "color": "#ffffff",
           "width": 1.2
          },
          "size": 12
         },
         "mode": "markers+text",
         "name": "Valorización",
         "showlegend": false,
         "text": [
          "34%"
         ],
         "textfont": {
          "color": "#1e1b18",
          "family": "Georgia, serif",
          "size": 12
         },
         "textposition": "bottom center",
         "type": "scatter",
         "x": [
          33.72694489309789
         ],
         "y": [
          "Metropolitana De Santiago"
         ]
        },
        {
         "hoverinfo": "skip",
         "line": {
          "color": "#94a3b8",
          "width": 2
         },
         "mode": "lines",
         "showlegend": false,
         "type": "scatter",
         "x": [
          34.32694489309789,
          58.36368718582783
         ],
         "y": [
          "Metropolitana De Santiago",
          "Metropolitana De Santiago"
         ]
        },
        {
         "customdata": [
          [
           "Metropolitana De Santiago",
           "Eliminación",
           58.96368718582783
          ]
         ],
         "hovertemplate": "<b>Metropolitana De Santiago</b><br>Eliminación: 59.0%<extra></extra>",
         "legendgroup": "Eliminación",
         "marker": {
          "color": "#005f73",
          "line": {
           "color": "#ffffff",
           "width": 1.2
          },
          "size": 12
         },
         "mode": "markers+text",
         "name": "Eliminación",
         "showlegend": false,
         "text": [
          "59%"
         ],
         "textfont": {
          "color": "#1e1b18",
          "family": "Georgia, serif",
          "size": 12
         },
         "textposition": "bottom center",
         "type": "scatter",
         "x": [
          58.96368718582783
         ],
         "y": [
          "Metropolitana De Santiago"
         ]
        },
        {
         "customdata": [
          [
           "Los Lagos",
           "Recolección",
           1.7545217926624408
          ]
         ],
         "hovertemplate": "<b>Los Lagos</b><br>Recolección: 1.8%<extra></extra>",
         "legendgroup": "Recolección",
         "marker": {
          "color": "#94d2bd",
          "line": {
           "color": "#ffffff",
           "width": 1.2
          },
          "size": 12
         },
         "mode": "markers+text",
         "name": "Recolección",
         "showlegend": false,
         "text": [
          "2%"
         ],
         "textfont": {
          "color": "#1e1b18",
          "family": "Georgia, serif",
          "size": 12
         },
         "textposition": "bottom center",
         "type": "scatter",
         "x": [
          1.7545217926624408
         ],
         "y": [
          "Los Lagos"
         ]
        },
        {
         "hoverinfo": "skip",
         "line": {
          "color": "#94a3b8",
          "width": 2
         },
         "mode": "lines",
         "showlegend": false,
         "type": "scatter",
         "x": [
          2.3545217926624407,
          23.205572253260097
         ],
         "y": [
          "Los Lagos",
          "Los Lagos"
         ]
        },
        {
         "customdata": [
          [
           "Los Lagos",
           "Eliminación",
           23.8055722532601
          ]
         ],
         "hovertemplate": "<b>Los Lagos</b><br>Eliminación: 23.8%<extra></extra>",
         "legendgroup": "Eliminación",
         "marker": {
          "color": "#005f73",
          "line": {
           "color": "#ffffff",
           "width": 1.2
          },
          "size": 12
         },
         "mode": "markers+text",
         "name": "Eliminación",
         "showlegend": false,
         "text": [
          "24%"
         ],
         "textfont": {
          "color": "#1e1b18",
          "family": "Georgia, serif",
          "size": 12
         },
         "textposition": "bottom center",
         "type": "scatter",
         "x": [
          23.8055722532601
         ],
         "y": [
          "Los Lagos"
         ]
        },
        {
         "hoverinfo": "skip",
         "line": {
          "color": "#94a3b8",
          "width": 2
         },
         "mode": "lines",
         "showlegend": false,
         "type": "scatter",
         "x": [
          24.4055722532601,
          73.83990595407748
         ],
         "y": [
          "Los Lagos",
          "Los Lagos"
         ]
        },
        {
         "customdata": [
          [
           "Los Lagos",
           "Valorización",
           74.43990595407747
          ]
         ],
         "hovertemplate": "<b>Los Lagos</b><br>Valorización: 74.4%<extra></extra>",
         "legendgroup": "Valorización",
         "marker": {
          "color": "#0a9396",
          "line": {
           "color": "#ffffff",
           "width": 1.2
          },
          "size": 12
         },
         "mode": "markers+text",
         "name": "Valorización",
         "showlegend": false,
         "text": [
          "74%"
         ],
         "textfont": {
          "color": "#1e1b18",
          "family": "Georgia, serif",
          "size": 12
         },
         "textposition": "bottom center",
         "type": "scatter",
         "x": [
          74.43990595407747
         ],
         "y": [
          "Los Lagos"
         ]
        },
        {
         "customdata": [
          [
           "Araucanía",
           "Recolección",
           1.3770240822789221
          ]
         ],
         "hovertemplate": "<b>Araucanía</b><br>Recolección: 1.4%<extra></extra>",
         "legendgroup": "Recolección",
         "marker": {
          "color": "#94d2bd",
          "line": {
           "color": "#ffffff",
           "width": 1.2
          },
          "size": 12
         },
         "mode": "markers+text",
         "name": "Recolección",
         "showlegend": false,
         "text": [
          "1%"
         ],
         "textfont": {
          "color": "#1e1b18",
          "family": "Georgia, serif",
          "size": 12
         },
         "textposition": "bottom center",
         "type": "scatter",
         "x": [
          1.3770240822789221
         ],
         "y": [
          "Araucanía"
         ]
        },
        {
         "hoverinfo": "skip",
         "line": {
          "color": "#94a3b8",
          "width": 2
         },
         "mode": "lines",
         "showlegend": false,
         "type": "scatter",
         "x": [
          1.977024082278922,
          30.319617683071193
         ],
         "y": [
          "Araucanía",
          "Araucanía"
         ]
        },
        {
         "customdata": [
          [
           "Araucanía",
           "Valorización",
           30.919617683071195
          ]
         ],
         "hovertemplate": "<b>Araucanía</b><br>Valorización: 30.9%<extra></extra>",
         "legendgroup": "Valorización",
         "marker": {
          "color": "#0a9396",
          "line": {
           "color": "#ffffff",
           "width": 1.2
          },
          "size": 12
         },
         "mode": "markers+text",
         "name": "Valorización",
         "showlegend": false,
         "text": [
          "31%"
         ],
         "textfont": {
          "color": "#1e1b18",
          "family": "Georgia, serif",
          "size": 12
         },
         "textposition": "bottom center",
         "type": "scatter",
         "x": [
          30.919617683071195
         ],
         "y": [
          "Araucanía"
         ]
        },
        {
         "hoverinfo": "skip",
         "line": {
          "color": "#94a3b8",
          "width": 2
         },
         "mode": "lines",
         "showlegend": false,
         "type": "scatter",
         "x": [
          31.519617683071196,
          67.10335823464989
         ],
         "y": [
          "Araucanía",
          "Araucanía"
         ]
        },
        {
         "customdata": [
          [
           "Araucanía",
           "Eliminación",
           67.70335823464988
          ]
         ],
         "hovertemplate": "<b>Araucanía</b><br>Eliminación: 67.7%<extra></extra>",
         "legendgroup": "Eliminación",
         "marker": {
          "color": "#005f73",
          "line": {
           "color": "#ffffff",
           "width": 1.2
          },
          "size": 12
         },
         "mode": "markers+text",
         "name": "Eliminación",
         "showlegend": false,
         "text": [
          "68%"
         ],
         "textfont": {
          "color": "#1e1b18",
          "family": "Georgia, serif",
          "size": 12
         },
         "textposition": "bottom center",
         "type": "scatter",
         "x": [
          67.70335823464988
         ],
         "y": [
          "Araucanía"
         ]
        }
       ],
       "layout": {
        "font": {
         "color": "#1e1b18",
         "family": "Georgia, serif",
         "size": 15
        },
        "height": 700,
        "hoverlabel": {
         "bgcolor": "#ffffff",
         "font": {
          "color": "#1e1b18",
          "family": "Georgia, serif"
         }
        },
        "legend": {
         "itemclick": false,
         "itemdoubleclick": false
        },
        "margin": {
         "b": 80,
         "l": 220,
         "r": 160,
         "t": 120
        },
        "paper_bgcolor": "#f7f2ea",
        "plot_bgcolor": "#f7f2ea",
        "shapes": [
         {
          "line": {
           "color": "#d9d3c5",
           "width": 1.4
          },
          "type": "line",
          "x0": 0,
          "x1": 0,
          "xref": "x",
          "y0": -0.08,
          "y1": 1.05,
          "yref": "paper"
         },
         {
          "line": {
           "color": "#d62828",
           "width": 2.5
          },
          "type": "line",
          "x0": -0.2,
          "x1": 0.88,
          "xref": "paper",
          "y0": 1.12,
          "y1": 1.12,
          "yref": "paper"
         }
        ],
        "template": {
         "data": {
          "bar": [
           {
            "error_x": {
             "color": "#2a3f5f"
            },
            "error_y": {
             "color": "#2a3f5f"
            },
            "marker": {
             "line": {
              "color": "white",
              "width": 0.5
             },
             "pattern": {
              "fillmode": "overlay",
              "size": 10,
              "solidity": 0.2
             }
            },
            "type": "bar"
           }
          ],
          "barpolar": [
           {
            "marker": {
             "line": {
              "color": "white",
              "width": 0.5
             },
             "pattern": {
              "fillmode": "overlay",
              "size": 10,
              "solidity": 0.2
             }
            },
            "type": "barpolar"
           }
          ],
          "carpet": [
           {
            "aaxis": {
             "endlinecolor": "#2a3f5f",
             "gridcolor": "#C8D4E3",
             "linecolor": "#C8D4E3",
             "minorgridcolor": "#C8D4E3",
             "startlinecolor": "#2a3f5f"
            },
            "baxis": {
             "endlinecolor": "#2a3f5f",
             "gridcolor": "#C8D4E3",
             "linecolor": "#C8D4E3",
             "minorgridcolor": "#C8D4E3",
             "startlinecolor": "#2a3f5f"
            },
            "type": "carpet"
           }
          ],
          "choropleth": [
           {
            "colorbar": {
             "outlinewidth": 0,
             "ticks": ""
            },
            "type": "choropleth"
           }
          ],
          "contour": [
           {
            "colorbar": {
             "outlinewidth": 0,
             "ticks": ""
            },
            "colorscale": [
             [
              0,
              "#0d0887"
             ],
             [
              0.1111111111111111,
              "#46039f"
             ],
             [
              0.2222222222222222,
              "#7201a8"
             ],
             [
              0.3333333333333333,
              "#9c179e"
             ],
             [
              0.4444444444444444,
              "#bd3786"
             ],
             [
              0.5555555555555556,
              "#d8576b"
             ],
             [
              0.6666666666666666,
              "#ed7953"
             ],
             [
              0.7777777777777778,
              "#fb9f3a"
             ],
             [
              0.8888888888888888,
              "#fdca26"
             ],
             [
              1,
              "#f0f921"
             ]
            ],
            "type": "contour"
           }
          ],
          "contourcarpet": [
           {
            "colorbar": {
             "outlinewidth": 0,
             "ticks": ""
            },
            "type": "contourcarpet"
           }
          ],
          "heatmap": [
           {
            "colorbar": {
             "outlinewidth": 0,
             "ticks": ""
            },
            "colorscale": [
             [
              0,
              "#0d0887"
             ],
             [
              0.1111111111111111,
              "#46039f"
             ],
             [
              0.2222222222222222,
              "#7201a8"
             ],
             [
              0.3333333333333333,
              "#9c179e"
             ],
             [
              0.4444444444444444,
              "#bd3786"
             ],
             [
              0.5555555555555556,
              "#d8576b"
             ],
             [
              0.6666666666666666,
              "#ed7953"
             ],
             [
              0.7777777777777778,
              "#fb9f3a"
             ],
             [
              0.8888888888888888,
              "#fdca26"
             ],
             [
              1,
              "#f0f921"
             ]
            ],
            "type": "heatmap"
           }
          ],
          "histogram": [
           {
            "marker": {
             "pattern": {
              "fillmode": "overlay",
              "size": 10,
              "solidity": 0.2
             }
            },
            "type": "histogram"
           }
          ],
          "histogram2d": [
           {
            "colorbar": {
             "outlinewidth": 0,
             "ticks": ""
            },
            "colorscale": [
             [
              0,
              "#0d0887"
             ],
             [
              0.1111111111111111,
              "#46039f"
             ],
             [
              0.2222222222222222,
              "#7201a8"
             ],
             [
              0.3333333333333333,
              "#9c179e"
             ],
             [
              0.4444444444444444,
              "#bd3786"
             ],
             [
              0.5555555555555556,
              "#d8576b"
             ],
             [
              0.6666666666666666,
              "#ed7953"
             ],
             [
              0.7777777777777778,
              "#fb9f3a"
             ],
             [
              0.8888888888888888,
              "#fdca26"
             ],
             [
              1,
              "#f0f921"
             ]
            ],
            "type": "histogram2d"
           }
          ],
          "histogram2dcontour": [
           {
            "colorbar": {
             "outlinewidth": 0,
             "ticks": ""
            },
            "colorscale": [
             [
              0,
              "#0d0887"
             ],
             [
              0.1111111111111111,
              "#46039f"
             ],
             [
              0.2222222222222222,
              "#7201a8"
             ],
             [
              0.3333333333333333,
              "#9c179e"
             ],
             [
              0.4444444444444444,
              "#bd3786"
             ],
             [
              0.5555555555555556,
              "#d8576b"
             ],
             [
              0.6666666666666666,
              "#ed7953"
             ],
             [
              0.7777777777777778,
              "#fb9f3a"
             ],
             [
              0.8888888888888888,
              "#fdca26"
             ],
             [
              1,
              "#f0f921"
             ]
            ],
            "type": "histogram2dcontour"
           }
          ],
          "mesh3d": [
           {
            "colorbar": {
             "outlinewidth": 0,
             "ticks": ""
            },
            "type": "mesh3d"
           }
          ],
          "parcoords": [
           {
            "line": {
             "colorbar": {
              "outlinewidth": 0,
              "ticks": ""
             }
            },
            "type": "parcoords"
           }
          ],
          "pie": [
           {
            "automargin": true,
            "type": "pie"
           }
          ],
          "scatter": [
           {
            "fillpattern": {
             "fillmode": "overlay",
             "size": 10,
             "solidity": 0.2
            },
            "type": "scatter"
           }
          ],
          "scatter3d": [
           {
            "line": {
             "colorbar": {
              "outlinewidth": 0,
              "ticks": ""
             }
            },
            "marker": {
             "colorbar": {
              "outlinewidth": 0,
              "ticks": ""
             }
            },
            "type": "scatter3d"
           }
          ],
          "scattercarpet": [
           {
            "marker": {
             "colorbar": {
              "outlinewidth": 0,
              "ticks": ""
             }
            },
            "type": "scattercarpet"
           }
          ],
          "scattergeo": [
           {
            "marker": {
             "colorbar": {
              "outlinewidth": 0,
              "ticks": ""
             }
            },
            "type": "scattergeo"
           }
          ],
          "scattergl": [
           {
            "marker": {
             "colorbar": {
              "outlinewidth": 0,
              "ticks": ""
             }
            },
            "type": "scattergl"
           }
          ],
          "scattermap": [
           {
            "marker": {
             "colorbar": {
              "outlinewidth": 0,
              "ticks": ""
             }
            },
            "type": "scattermap"
           }
          ],
          "scattermapbox": [
           {
            "marker": {
             "colorbar": {
              "outlinewidth": 0,
              "ticks": ""
             }
            },
            "type": "scattermapbox"
           }
          ],
          "scatterpolar": [
           {
            "marker": {
             "colorbar": {
              "outlinewidth": 0,
              "ticks": ""
             }
            },
            "type": "scatterpolar"
           }
          ],
          "scatterpolargl": [
           {
            "marker": {
             "colorbar": {
              "outlinewidth": 0,
              "ticks": ""
             }
            },
            "type": "scatterpolargl"
           }
          ],
          "scatterternary": [
           {
            "marker": {
             "colorbar": {
              "outlinewidth": 0,
              "ticks": ""
             }
            },
            "type": "scatterternary"
           }
          ],
          "surface": [
           {
            "colorbar": {
             "outlinewidth": 0,
             "ticks": ""
            },
            "colorscale": [
             [
              0,
              "#0d0887"
             ],
             [
              0.1111111111111111,
              "#46039f"
             ],
             [
              0.2222222222222222,
              "#7201a8"
             ],
             [
              0.3333333333333333,
              "#9c179e"
             ],
             [
              0.4444444444444444,
              "#bd3786"
             ],
             [
              0.5555555555555556,
              "#d8576b"
             ],
             [
              0.6666666666666666,
              "#ed7953"
             ],
             [
              0.7777777777777778,
              "#fb9f3a"
             ],
             [
              0.8888888888888888,
              "#fdca26"
             ],
             [
              1,
              "#f0f921"
             ]
            ],
            "type": "surface"
           }
          ],
          "table": [
           {
            "cells": {
             "fill": {
              "color": "#EBF0F8"
             },
             "line": {
              "color": "white"
             }
            },
            "header": {
             "fill": {
              "color": "#C8D4E3"
             },
             "line": {
              "color": "white"
             }
            },
            "type": "table"
           }
          ]
         },
         "layout": {
          "annotationdefaults": {
           "arrowcolor": "#2a3f5f",
           "arrowhead": 0,
           "arrowwidth": 1
          },
          "autotypenumbers": "strict",
          "coloraxis": {
           "colorbar": {
            "outlinewidth": 0,
            "ticks": ""
           }
          },
          "colorscale": {
           "diverging": [
            [
             0,
             "#8e0152"
            ],
            [
             0.1,
             "#c51b7d"
            ],
            [
             0.2,
             "#de77ae"
            ],
            [
             0.3,
             "#f1b6da"
            ],
            [
             0.4,
             "#fde0ef"
            ],
            [
             0.5,
             "#f7f7f7"
            ],
            [
             0.6,
             "#e6f5d0"
            ],
            [
             0.7,
             "#b8e186"
            ],
            [
             0.8,
             "#7fbc41"
            ],
            [
             0.9,
             "#4d9221"
            ],
            [
             1,
             "#276419"
            ]
           ],
           "sequential": [
            [
             0,
             "#0d0887"
            ],
            [
             0.1111111111111111,
             "#46039f"
            ],
            [
             0.2222222222222222,
             "#7201a8"
            ],
            [
             0.3333333333333333,
             "#9c179e"
            ],
            [
             0.4444444444444444,
             "#bd3786"
            ],
            [
             0.5555555555555556,
             "#d8576b"
            ],
            [
             0.6666666666666666,
             "#ed7953"
            ],
            [
             0.7777777777777778,
             "#fb9f3a"
            ],
            [
             0.8888888888888888,
             "#fdca26"
            ],
            [
             1,
             "#f0f921"
            ]
           ],
           "sequentialminus": [
            [
             0,
             "#0d0887"
            ],
            [
             0.1111111111111111,
             "#46039f"
            ],
            [
             0.2222222222222222,
             "#7201a8"
            ],
            [
             0.3333333333333333,
             "#9c179e"
            ],
            [
             0.4444444444444444,
             "#bd3786"
            ],
            [
             0.5555555555555556,
             "#d8576b"
            ],
            [
             0.6666666666666666,
             "#ed7953"
            ],
            [
             0.7777777777777778,
             "#fb9f3a"
            ],
            [
             0.8888888888888888,
             "#fdca26"
            ],
            [
             1,
             "#f0f921"
            ]
           ]
          },
          "colorway": [
           "#636efa",
           "#EF553B",
           "#00cc96",
           "#ab63fa",
           "#FFA15A",
           "#19d3f3",
           "#FF6692",
           "#B6E880",
           "#FF97FF",
           "#FECB52"
          ],
          "font": {
           "color": "#2a3f5f"
          },
          "geo": {
           "bgcolor": "white",
           "lakecolor": "white",
           "landcolor": "white",
           "showlakes": true,
           "showland": true,
           "subunitcolor": "#C8D4E3"
          },
          "hoverlabel": {
           "align": "left"
          },
          "hovermode": "closest",
          "mapbox": {
           "style": "light"
          },
          "paper_bgcolor": "white",
          "plot_bgcolor": "white",
          "polar": {
           "angularaxis": {
            "gridcolor": "#EBF0F8",
            "linecolor": "#EBF0F8",
            "ticks": ""
           },
           "bgcolor": "white",
           "radialaxis": {
            "gridcolor": "#EBF0F8",
            "linecolor": "#EBF0F8",
            "ticks": ""
           }
          },
          "scene": {
           "xaxis": {
            "backgroundcolor": "white",
            "gridcolor": "#DFE8F3",
            "gridwidth": 2,
            "linecolor": "#EBF0F8",
            "showbackground": true,
            "ticks": "",
            "zerolinecolor": "#EBF0F8"
           },
           "yaxis": {
            "backgroundcolor": "white",
            "gridcolor": "#DFE8F3",
            "gridwidth": 2,
            "linecolor": "#EBF0F8",
            "showbackground": true,
            "ticks": "",
            "zerolinecolor": "#EBF0F8"
           },
           "zaxis": {
            "backgroundcolor": "white",
            "gridcolor": "#DFE8F3",
            "gridwidth": 2,
            "linecolor": "#EBF0F8",
            "showbackground": true,
            "ticks": "",
            "zerolinecolor": "#EBF0F8"
           }
          },
          "shapedefaults": {
           "line": {
            "color": "#2a3f5f"
           }
          },
          "ternary": {
           "aaxis": {
            "gridcolor": "#DFE8F3",
            "linecolor": "#A2B1C6",
            "ticks": ""
           },
           "baxis": {
            "gridcolor": "#DFE8F3",
            "linecolor": "#A2B1C6",
            "ticks": ""
           },
           "bgcolor": "white",
           "caxis": {
            "gridcolor": "#DFE8F3",
            "linecolor": "#A2B1C6",
            "ticks": ""
           }
          },
          "title": {
           "x": 0.05
          },
          "xaxis": {
           "automargin": true,
           "gridcolor": "#EBF0F8",
           "linecolor": "#EBF0F8",
           "ticks": "",
           "title": {
            "standoff": 15
           },
           "zerolinecolor": "#EBF0F8",
           "zerolinewidth": 2
          },
          "yaxis": {
           "automargin": true,
           "gridcolor": "#EBF0F8",
           "linecolor": "#EBF0F8",
           "ticks": "",
           "title": {
            "standoff": 15
           },
           "zerolinecolor": "#EBF0F8",
           "zerolinewidth": 2
          }
         }
        },
        "title": {
         "font": {
          "color": "#1e1b18",
          "family": "Georgia, serif",
          "size": 24
         },
         "text": "Tratamientos en regiones foco",
         "x": 0.05,
         "y": 0.96
        },
        "width": 1200,
        "xaxis": {
         "gridcolor": "#d9d3c5",
         "griddash": "dot",
         "range": [
          0,
          80
         ],
         "showgrid": true,
         "tickfont": {
          "color": "#1e1b18",
          "family": "Georgia, serif",
          "size": 12
         },
         "ticksuffix": "%",
         "title": {
          "font": {
           "color": "#1e1b18",
           "family": "Georgia, serif",
           "size": 14
          },
          "text": "Participación (%)"
         },
         "zeroline": false
        },
        "yaxis": {
         "categoryarray": [
          "Los Ríos",
          "Biobío",
          "Metropolitana De Santiago",
          "Los Lagos",
          "Araucanía"
         ],
         "categoryorder": "array",
         "showgrid": false,
         "tickfont": {
          "color": "#1e1b18",
          "family": "Georgia, serif",
          "size": 12
         },
         "ticklabelstandoff": 14,
         "title": {
          "text": ""
         },
         "zeroline": false
        }
       }
      }
     },
     "metadata": {},
     "output_type": "display_data"
    }
   ],
   "source": [
    "import math\n",
    "\n",
    "ECONOMIST_FONT = globals().get(\"ECONOMIST_FONT\", \"Georgia, serif\")\n",
    "\n",
    "treatment_focus_plot = focus_treatment_share_df.copy()\n",
    "treatment_focus_plot[\"share_pct\"] = treatment_focus_plot[\"share\"] * 100\n",
    "treatment_focus_plot = treatment_focus_plot.sort_values(\n",
    "    [\"region\", \"share_pct\"], ascending=[True, False]\n",
    ")\n",
    "\n",
    "top_treatments = (\n",
    "    overall_mix.sort_values(\"share\", ascending=False)[\"tratamiento_nivel_1\"].unique().tolist()\n",
    ")\n",
    "\n",
    "priority_labels = [\"Eliminación\", \"Valorización\", \"Recolección\"]\n",
    "primary_treatments = [label for label in priority_labels if label in top_treatments]\n",
    "for treatment in top_treatments:\n",
    "    if treatment not in primary_treatments:\n",
    "        primary_treatments.append(treatment)\n",
    "primary_treatments = primary_treatments[:3]\n",
    "\n",
    "dumbbell_base = (\n",
    "    treatment_focus_plot[\n",
    "        treatment_focus_plot[\"tratamiento_nivel_1\"].isin(primary_treatments)\n",
    "    ]\n",
    "    .pivot_table(\n",
    "        index=\"region\",\n",
    "        columns=\"tratamiento_nivel_1\",\n",
    "        values=\"share_pct\",\n",
    "        aggfunc=\"sum\",\n",
    "        observed=False,\n",
    "    )\n",
    "    .reindex(FOCUS_REGIONS)\n",
    ")\n",
    "\n",
    "connector_color = \"#94a3b8\"\n",
    "background_color = \"#f7f2ea\"\n",
    "grid_color = \"#d9d3c5\"\n",
    "text_color = \"#1e1b18\"\n",
    "highlight_color = \"#d62828\"\n",
    "\n",
    "marker_colors = {\n",
    "    primary_treatments[i]: ECONOMIST_COLORS[i]\n",
    "    for i in range(min(len(primary_treatments), len(ECONOMIST_COLORS)))\n",
    "}\n",
    "\n",
    "dumbbell_fig = go.Figure()\n",
    "\n",
    "connector_padding = 0.6  # keep connectors from overlapping markers\n",
    "\n",
    "for region in dumbbell_base.index:\n",
    "    row = dumbbell_base.loc[region] if region in dumbbell_base.index else None\n",
    "    values = row.dropna() if row is not None else pd.Series(dtype=float)\n",
    "    if values.empty:\n",
    "        continue\n",
    "    sorted_values = values.sort_values()\n",
    "    previous_share = None\n",
    "    for idx, (treatment, share_value) in enumerate(sorted_values.items()):\n",
    "        color = marker_colors.get(\n",
    "            treatment, ECONOMIST_COLORS[(idx + 2) % len(ECONOMIST_COLORS)]\n",
    "        )\n",
    "        hover_text = (\n",
    "            f\"<b>{region}</b><br>{treatment}: {share_value:.1f}%<extra></extra>\"\n",
    "        )\n",
    "        show_legend = region == FOCUS_REGIONS[0]\n",
    "\n",
    "        if previous_share is not None:\n",
    "            direction = 1 if share_value >= previous_share else -1\n",
    "            gap = abs(share_value - previous_share)\n",
    "            padding = min(connector_padding, gap / 2)\n",
    "            start = previous_share + direction * padding\n",
    "            end = share_value - direction * padding\n",
    "            if (direction == 1 and start < end) or (direction == -1 and start > end):\n",
    "                dumbbell_fig.add_trace(\n",
    "                    go.Scatter(\n",
    "                        x=[start, end],\n",
    "                        y=[region, region],\n",
    "                        mode=\"lines\",\n",
    "                        line=dict(color=connector_color, width=2),\n",
    "                        hoverinfo=\"skip\",\n",
    "                        showlegend=False,\n",
    "                    )\n",
    "                )\n",
    "\n",
    "        dumbbell_fig.add_trace(\n",
    "            go.Scatter(\n",
    "                x=[share_value],\n",
    "                y=[region],\n",
    "                mode=\"markers+text\",\n",
    "                marker=dict(\n",
    "                    color=color,\n",
    "                    size=12,\n",
    "                    line=dict(color=\"#ffffff\", width=1.2)\n",
    "                ),\n",
    "                text=[f\"{share_value:.0f}%\"],\n",
    "                textposition=\"bottom center\",\n",
    "                textfont=dict(family=ECONOMIST_FONT, size=12, color=text_color),\n",
    "                customdata=[[region, treatment, share_value]],\n",
    "                hovertemplate=hover_text,\n",
    "                name=treatment,\n",
    "                legendgroup=treatment,\n",
    "                showlegend=show_legend,\n",
    "            )\n",
    "        )\n",
    "\n",
    "        previous_share = share_value\n",
    "\n",
    "underline_x0 = -0.20\n",
    "underline_x1 = 0.88\n",
    "underline_y = 1.12\n",
    "\n",
    "dumbbell_fig.update_layout(\n",
    "    template=\"plotly_white\",\n",
    "    title=dict(\n",
    "        text=\"Tratamientos en regiones foco\",\n",
    "        font=dict(family=ECONOMIST_FONT, size=24, color=text_color),\n",
    "        x=0.05,\n",
    "        y=0.96,\n",
    "    ),\n",
    "    font=dict(family=ECONOMIST_FONT, size=15, color=text_color),\n",
    "    plot_bgcolor=background_color,\n",
    "    paper_bgcolor=background_color,\n",
    "    margin=dict(l=220, r=160, t=120, b=80),\n",
    "    hoverlabel=dict(bgcolor=\"#ffffff\", font=dict(family=ECONOMIST_FONT, color=text_color)),\n",
    "    width=1200,\n",
    "    height=700,\n",
    "    legend=dict(itemclick=False, itemdoubleclick=False),\n",
    "    shapes=[\n",
    "        dict(\n",
    "            type=\"line\",\n",
    "            x0=0,\n",
    "            x1=0,\n",
    "            y0=-0.08,\n",
    "            y1=1.05,\n",
    "            xref=\"x\",\n",
    "            yref=\"paper\",\n",
    "            line=dict(color=grid_color, width=1.4)\n",
    "        ),\n",
    "        dict(\n",
    "            type=\"line\",\n",
    "            x0=underline_x0,\n",
    "            x1=underline_x1,\n",
    "            y0=underline_y,\n",
    "            y1=underline_y,\n",
    "            xref=\"paper\",\n",
    "            yref=\"paper\",\n",
    "            line=dict(color=highlight_color, width=2.5)\n",
    "        ),\n",
    "    ],\n",
    ")\n",
    "\n",
    "x_axis_max = (\n",
    "    math.ceil((dumbbell_base.max().max() if not dumbbell_base.empty else 0) / 5) * 5 + 5\n",
    ")\n",
    "dumbbell_fig.update_layout(\n",
    "    xaxis=dict(\n",
    "        title=dict(text=\"Participación (%)\", font=dict(family=ECONOMIST_FONT, size=14, color=text_color)),\n",
    "        tickfont=dict(family=ECONOMIST_FONT, size=12, color=text_color),\n",
    "        showgrid=True,\n",
    "        gridcolor=grid_color,\n",
    "        griddash=\"dot\",\n",
    "        zeroline=False,\n",
    "        ticksuffix=\"%\",\n",
    "        range=[0, max(40, x_axis_max)],\n",
    "    ),\n",
    "    yaxis=dict(\n",
    "        title=\"\",\n",
    "        tickfont=dict(family=ECONOMIST_FONT, size=12, color=text_color),\n",
    "        ticklabelstandoff=14,\n",
    "        showgrid=False,\n",
    "        zeroline=False,\n",
    "        categoryorder=\"array\",\n",
    "        categoryarray=FOCUS_REGIONS,\n",
    "    ),\n",
    ")\n",
    "\n",
    "dumbbell_fig"
   ]
  },
  {
   "cell_type": "code",
   "execution_count": 43,
   "id": "51ecdac5",
   "metadata": {},
   "outputs": [
    {
     "data": {
      "application/vnd.plotly.v1+json": {
       "config": {
        "plotlyServerURL": "https://plot.ly"
       },
       "data": [
        {
         "hoverinfo": "skip",
         "line": {
          "color": "#0a9396",
          "width": 2.2
         },
         "mode": "lines",
         "showlegend": false,
         "type": "scatter",
         "x": [
          0,
          1936.991
         ],
         "y": [
          "SERVICIOS DE RECICLAJE PUDU LIMITADA",
          "SERVICIOS DE RECICLAJE PUDU LIMITADA"
         ]
        },
        {
         "cliponaxis": false,
         "customdata": [
          [
           "SERVICIOS DE RECICLAJE PUDU LIMITADA",
           1936.991
          ]
         ],
         "hovertemplate": "<b>%{customdata[0]}</b><br>Toneladas: %{customdata[1]:,.0f}<extra></extra>",
         "marker": {
          "color": "#0a9396",
          "line": {
           "color": "#ffffff",
           "width": 1.2
          },
          "size": 12
         },
         "mode": "markers",
         "showlegend": false,
         "type": "scatter",
         "x": [
          1936.991
         ],
         "y": [
          "SERVICIOS DE RECICLAJE PUDU LIMITADA"
         ]
        },
        {
         "cliponaxis": false,
         "hoverinfo": "skip",
         "mode": "text",
         "showlegend": false,
         "text": [
          "1.9 mil t"
         ],
         "textfont": {
          "color": "#1e1b18",
          "family": "Georgia, serif",
          "size": 12
         },
         "textposition": "middle left",
         "type": "scatter",
         "x": [
          16328.84432
         ],
         "y": [
          "SERVICIOS DE RECICLAJE PUDU LIMITADA"
         ]
        },
        {
         "hoverinfo": "skip",
         "line": {
          "color": "#0a9396",
          "width": 2.2
         },
         "mode": "lines",
         "showlegend": false,
         "type": "scatter",
         "x": [
          0,
          3188.554
         ],
         "y": [
          "PROLESUR S.A.",
          "PROLESUR S.A."
         ]
        },
        {
         "cliponaxis": false,
         "customdata": [
          [
           "PROLESUR S.A.",
           3188.554
          ]
         ],
         "hovertemplate": "<b>%{customdata[0]}</b><br>Toneladas: %{customdata[1]:,.0f}<extra></extra>",
         "marker": {
          "color": "#0a9396",
          "line": {
           "color": "#ffffff",
           "width": 1.2
          },
          "size": 12
         },
         "mode": "markers",
         "showlegend": false,
         "type": "scatter",
         "x": [
          3188.554
         ],
         "y": [
          "PROLESUR S.A."
         ]
        },
        {
         "cliponaxis": false,
         "hoverinfo": "skip",
         "mode": "text",
         "showlegend": false,
         "text": [
          "3.2 mil t"
         ],
         "textfont": {
          "color": "#1e1b18",
          "family": "Georgia, serif",
          "size": 12
         },
         "textposition": "middle left",
         "type": "scatter",
         "x": [
          17580.40732
         ],
         "y": [
          "PROLESUR S.A."
         ]
        },
        {
         "hoverinfo": "skip",
         "line": {
          "color": "#0a9396",
          "width": 2.2
         },
         "mode": "lines",
         "showlegend": false,
         "type": "scatter",
         "x": [
          0,
          4736.66
         ],
         "y": [
          "CARNES NUBLE S A",
          "CARNES NUBLE S A"
         ]
        },
        {
         "cliponaxis": false,
         "customdata": [
          [
           "CARNES NUBLE S A",
           4736.66
          ]
         ],
         "hovertemplate": "<b>%{customdata[0]}</b><br>Toneladas: %{customdata[1]:,.0f}<extra></extra>",
         "marker": {
          "color": "#0a9396",
          "line": {
           "color": "#ffffff",
           "width": 1.2
          },
          "size": 12
         },
         "mode": "markers",
         "showlegend": false,
         "type": "scatter",
         "x": [
          4736.66
         ],
         "y": [
          "CARNES NUBLE S A"
         ]
        },
        {
         "cliponaxis": false,
         "hoverinfo": "skip",
         "mode": "text",
         "showlegend": false,
         "text": [
          "4.7 mil t"
         ],
         "textfont": {
          "color": "#1e1b18",
          "family": "Georgia, serif",
          "size": 12
         },
         "textposition": "middle left",
         "type": "scatter",
         "x": [
          19128.51332
         ],
         "y": [
          "CARNES NUBLE S A"
         ]
        },
        {
         "hoverinfo": "skip",
         "line": {
          "color": "#0a9396",
          "width": 2.2
         },
         "mode": "lines",
         "showlegend": false,
         "type": "scatter",
         "x": [
          0,
          6002.42
         ],
         "y": [
          "SURALIS S.A.",
          "SURALIS S.A."
         ]
        },
        {
         "cliponaxis": false,
         "customdata": [
          [
           "SURALIS S.A.",
           6002.42
          ]
         ],
         "hovertemplate": "<b>%{customdata[0]}</b><br>Toneladas: %{customdata[1]:,.0f}<extra></extra>",
         "marker": {
          "color": "#0a9396",
          "line": {
           "color": "#ffffff",
           "width": 1.2
          },
          "size": 12
         },
         "mode": "markers",
         "showlegend": false,
         "type": "scatter",
         "x": [
          6002.42
         ],
         "y": [
          "SURALIS S.A."
         ]
        },
        {
         "cliponaxis": false,
         "hoverinfo": "skip",
         "mode": "text",
         "showlegend": false,
         "text": [
          "6.0 mil t"
         ],
         "textfont": {
          "color": "#1e1b18",
          "family": "Georgia, serif",
          "size": 12
         },
         "textposition": "middle left",
         "type": "scatter",
         "x": [
          20394.27332
         ],
         "y": [
          "SURALIS S.A."
         ]
        },
        {
         "hoverinfo": "skip",
         "line": {
          "color": "#0a9396",
          "width": 2.2
         },
         "mode": "lines",
         "showlegend": false,
         "type": "scatter",
         "x": [
          0,
          6055.947
         ],
         "y": [
          "CARTULINAS CMPC SPA",
          "CARTULINAS CMPC SPA"
         ]
        },
        {
         "cliponaxis": false,
         "customdata": [
          [
           "CARTULINAS CMPC SPA",
           6055.947
          ]
         ],
         "hovertemplate": "<b>%{customdata[0]}</b><br>Toneladas: %{customdata[1]:,.0f}<extra></extra>",
         "marker": {
          "color": "#0a9396",
          "line": {
           "color": "#ffffff",
           "width": 1.2
          },
          "size": 12
         },
         "mode": "markers",
         "showlegend": false,
         "type": "scatter",
         "x": [
          6055.947
         ],
         "y": [
          "CARTULINAS CMPC SPA"
         ]
        },
        {
         "cliponaxis": false,
         "hoverinfo": "skip",
         "mode": "text",
         "showlegend": false,
         "text": [
          "6.1 mil t"
         ],
         "textfont": {
          "color": "#1e1b18",
          "family": "Georgia, serif",
          "size": 12
         },
         "textposition": "middle left",
         "type": "scatter",
         "x": [
          20447.800320000002
         ],
         "y": [
          "CARTULINAS CMPC SPA"
         ]
        },
        {
         "hoverinfo": "skip",
         "line": {
          "color": "#0a9396",
          "width": 2.2
         },
         "mode": "lines",
         "showlegend": false,
         "type": "scatter",
         "x": [
          0,
          7627.135
         ],
         "y": [
          "CERVECERIA KUNSTMANN S A",
          "CERVECERIA KUNSTMANN S A"
         ]
        },
        {
         "cliponaxis": false,
         "customdata": [
          [
           "CERVECERIA KUNSTMANN S A",
           7627.135
          ]
         ],
         "hovertemplate": "<b>%{customdata[0]}</b><br>Toneladas: %{customdata[1]:,.0f}<extra></extra>",
         "marker": {
          "color": "#0a9396",
          "line": {
           "color": "#ffffff",
           "width": 1.2
          },
          "size": 12
         },
         "mode": "markers",
         "showlegend": false,
         "type": "scatter",
         "x": [
          7627.135
         ],
         "y": [
          "CERVECERIA KUNSTMANN S A"
         ]
        },
        {
         "cliponaxis": false,
         "hoverinfo": "skip",
         "mode": "text",
         "showlegend": false,
         "text": [
          "7.6 mil t"
         ],
         "textfont": {
          "color": "#1e1b18",
          "family": "Georgia, serif",
          "size": 12
         },
         "textposition": "middle left",
         "type": "scatter",
         "x": [
          22018.98832
         ],
         "y": [
          "CERVECERIA KUNSTMANN S A"
         ]
        },
        {
         "hoverinfo": "skip",
         "line": {
          "color": "#0a9396",
          "width": 2.2
         },
         "mode": "lines",
         "showlegend": false,
         "type": "scatter",
         "x": [
          0,
          12596.002
         ],
         "y": [
          "CHILE PANEL S.A.",
          "CHILE PANEL S.A."
         ]
        },
        {
         "cliponaxis": false,
         "customdata": [
          [
           "CHILE PANEL S.A.",
           12596.002
          ]
         ],
         "hovertemplate": "<b>%{customdata[0]}</b><br>Toneladas: %{customdata[1]:,.0f}<extra></extra>",
         "marker": {
          "color": "#0a9396",
          "line": {
           "color": "#ffffff",
           "width": 1.2
          },
          "size": 12
         },
         "mode": "markers",
         "showlegend": false,
         "type": "scatter",
         "x": [
          12596.002
         ],
         "y": [
          "CHILE PANEL S.A."
         ]
        },
        {
         "cliponaxis": false,
         "hoverinfo": "skip",
         "mode": "text",
         "showlegend": false,
         "text": [
          "12.6 mil t"
         ],
         "textfont": {
          "color": "#1e1b18",
          "family": "Georgia, serif",
          "size": 12
         },
         "textposition": "middle left",
         "type": "scatter",
         "x": [
          26987.855320000002
         ],
         "y": [
          "CHILE PANEL S.A."
         ]
        },
        {
         "hoverinfo": "skip",
         "line": {
          "color": "#0a9396",
          "width": 2.2
         },
         "mode": "lines",
         "showlegend": false,
         "type": "scatter",
         "x": [
          0,
          17129.421
         ],
         "y": [
          "COOP AGRICOLA Y LECHERA DE LA UNION LTDA",
          "COOP AGRICOLA Y LECHERA DE LA UNION LTDA"
         ]
        },
        {
         "cliponaxis": false,
         "customdata": [
          [
           "COOP AGRICOLA Y LECHERA DE LA UNION LTDA",
           17129.421
          ]
         ],
         "hovertemplate": "<b>%{customdata[0]}</b><br>Toneladas: %{customdata[1]:,.0f}<extra></extra>",
         "marker": {
          "color": "#0a9396",
          "line": {
           "color": "#ffffff",
           "width": 1.2
          },
          "size": 12
         },
         "mode": "markers",
         "showlegend": false,
         "type": "scatter",
         "x": [
          17129.421
         ],
         "y": [
          "COOP AGRICOLA Y LECHERA DE LA UNION LTDA"
         ]
        },
        {
         "cliponaxis": false,
         "hoverinfo": "skip",
         "mode": "text",
         "showlegend": false,
         "text": [
          "17.1 mil t"
         ],
         "textfont": {
          "color": "#1e1b18",
          "family": "Georgia, serif",
          "size": 12
         },
         "textposition": "middle left",
         "type": "scatter",
         "x": [
          31521.274319999997
         ],
         "y": [
          "COOP AGRICOLA Y LECHERA DE LA UNION LTDA"
         ]
        },
        {
         "hoverinfo": "skip",
         "line": {
          "color": "#0a9396",
          "width": 2.2
         },
         "mode": "lines",
         "showlegend": false,
         "type": "scatter",
         "x": [
          0,
          45814.386
         ],
         "y": [
          "CELULOSA ARAUCO Y CONSTITUCION S A",
          "CELULOSA ARAUCO Y CONSTITUCION S A"
         ]
        },
        {
         "cliponaxis": false,
         "customdata": [
          [
           "CELULOSA ARAUCO Y CONSTITUCION S A",
           45814.386
          ]
         ],
         "hovertemplate": "<b>%{customdata[0]}</b><br>Toneladas: %{customdata[1]:,.0f}<extra></extra>",
         "marker": {
          "color": "#0a9396",
          "line": {
           "color": "#ffffff",
           "width": 1.2
          },
          "size": 12
         },
         "mode": "markers",
         "showlegend": false,
         "type": "scatter",
         "x": [
          45814.386
         ],
         "y": [
          "CELULOSA ARAUCO Y CONSTITUCION S A"
         ]
        },
        {
         "cliponaxis": false,
         "hoverinfo": "skip",
         "mode": "text",
         "showlegend": false,
         "text": [
          "45.8 mil t"
         ],
         "textfont": {
          "color": "#1e1b18",
          "family": "Georgia, serif",
          "size": 12
         },
         "textposition": "middle left",
         "type": "scatter",
         "x": [
          60206.23932
         ],
         "y": [
          "CELULOSA ARAUCO Y CONSTITUCION S A"
         ]
        },
        {
         "hoverinfo": "skip",
         "line": {
          "color": "#d62828",
          "width": 2.2
         },
         "mode": "lines",
         "showlegend": false,
         "type": "scatter",
         "x": [
          0,
          119932.111
         ],
         "y": [
          "OCEAN SPRAY CHILE SPA",
          "OCEAN SPRAY CHILE SPA"
         ]
        },
        {
         "cliponaxis": false,
         "customdata": [
          [
           "OCEAN SPRAY CHILE SPA",
           119932.111
          ]
         ],
         "hovertemplate": "<b>%{customdata[0]}</b><br>Toneladas: %{customdata[1]:,.0f}<extra></extra>",
         "marker": {
          "color": "#d62828",
          "line": {
           "color": "#ffffff",
           "width": 1.2
          },
          "size": 12
         },
         "mode": "markers",
         "showlegend": false,
         "type": "scatter",
         "x": [
          119932.111
         ],
         "y": [
          "OCEAN SPRAY CHILE SPA"
         ]
        },
        {
         "cliponaxis": false,
         "hoverinfo": "skip",
         "mode": "text",
         "showlegend": false,
         "text": [
          "119.9 mil t"
         ],
         "textfont": {
          "color": "#d62828",
          "family": "Georgia, serif",
          "size": 12
         },
         "textposition": "middle left",
         "type": "scatter",
         "x": [
          134323.96432
         ],
         "y": [
          "OCEAN SPRAY CHILE SPA"
         ]
        }
       ],
       "layout": {
        "font": {
         "color": "#1e1b18",
         "family": "Georgia, serif",
         "size": 15
        },
        "height": 700,
        "hoverlabel": {
         "bgcolor": "#ffffff",
         "font": {
          "color": "#1e1b18",
          "family": "Georgia, serif"
         }
        },
        "margin": {
         "b": 80,
         "l": 250,
         "r": 200,
         "t": 120
        },
        "paper_bgcolor": "#f7f2ea",
        "plot_bgcolor": "#f7f2ea",
        "shapes": [
         {
          "line": {
           "color": "#c9c1b4",
           "width": 1.2
          },
          "type": "line",
          "x0": 0,
          "x1": 0,
          "xref": "x",
          "y0": -0.08,
          "y1": 1.05,
          "yref": "paper"
         },
         {
          "line": {
           "color": "#d62828",
           "width": 4
          },
          "type": "line",
          "x0": -0.4,
          "x1": 0.95,
          "xref": "paper",
          "y0": 1.1,
          "y1": 1.1,
          "yref": "paper"
         }
        ],
        "template": {
         "data": {
          "bar": [
           {
            "error_x": {
             "color": "#2a3f5f"
            },
            "error_y": {
             "color": "#2a3f5f"
            },
            "marker": {
             "line": {
              "color": "white",
              "width": 0.5
             },
             "pattern": {
              "fillmode": "overlay",
              "size": 10,
              "solidity": 0.2
             }
            },
            "type": "bar"
           }
          ],
          "barpolar": [
           {
            "marker": {
             "line": {
              "color": "white",
              "width": 0.5
             },
             "pattern": {
              "fillmode": "overlay",
              "size": 10,
              "solidity": 0.2
             }
            },
            "type": "barpolar"
           }
          ],
          "carpet": [
           {
            "aaxis": {
             "endlinecolor": "#2a3f5f",
             "gridcolor": "#C8D4E3",
             "linecolor": "#C8D4E3",
             "minorgridcolor": "#C8D4E3",
             "startlinecolor": "#2a3f5f"
            },
            "baxis": {
             "endlinecolor": "#2a3f5f",
             "gridcolor": "#C8D4E3",
             "linecolor": "#C8D4E3",
             "minorgridcolor": "#C8D4E3",
             "startlinecolor": "#2a3f5f"
            },
            "type": "carpet"
           }
          ],
          "choropleth": [
           {
            "colorbar": {
             "outlinewidth": 0,
             "ticks": ""
            },
            "type": "choropleth"
           }
          ],
          "contour": [
           {
            "colorbar": {
             "outlinewidth": 0,
             "ticks": ""
            },
            "colorscale": [
             [
              0,
              "#0d0887"
             ],
             [
              0.1111111111111111,
              "#46039f"
             ],
             [
              0.2222222222222222,
              "#7201a8"
             ],
             [
              0.3333333333333333,
              "#9c179e"
             ],
             [
              0.4444444444444444,
              "#bd3786"
             ],
             [
              0.5555555555555556,
              "#d8576b"
             ],
             [
              0.6666666666666666,
              "#ed7953"
             ],
             [
              0.7777777777777778,
              "#fb9f3a"
             ],
             [
              0.8888888888888888,
              "#fdca26"
             ],
             [
              1,
              "#f0f921"
             ]
            ],
            "type": "contour"
           }
          ],
          "contourcarpet": [
           {
            "colorbar": {
             "outlinewidth": 0,
             "ticks": ""
            },
            "type": "contourcarpet"
           }
          ],
          "heatmap": [
           {
            "colorbar": {
             "outlinewidth": 0,
             "ticks": ""
            },
            "colorscale": [
             [
              0,
              "#0d0887"
             ],
             [
              0.1111111111111111,
              "#46039f"
             ],
             [
              0.2222222222222222,
              "#7201a8"
             ],
             [
              0.3333333333333333,
              "#9c179e"
             ],
             [
              0.4444444444444444,
              "#bd3786"
             ],
             [
              0.5555555555555556,
              "#d8576b"
             ],
             [
              0.6666666666666666,
              "#ed7953"
             ],
             [
              0.7777777777777778,
              "#fb9f3a"
             ],
             [
              0.8888888888888888,
              "#fdca26"
             ],
             [
              1,
              "#f0f921"
             ]
            ],
            "type": "heatmap"
           }
          ],
          "histogram": [
           {
            "marker": {
             "pattern": {
              "fillmode": "overlay",
              "size": 10,
              "solidity": 0.2
             }
            },
            "type": "histogram"
           }
          ],
          "histogram2d": [
           {
            "colorbar": {
             "outlinewidth": 0,
             "ticks": ""
            },
            "colorscale": [
             [
              0,
              "#0d0887"
             ],
             [
              0.1111111111111111,
              "#46039f"
             ],
             [
              0.2222222222222222,
              "#7201a8"
             ],
             [
              0.3333333333333333,
              "#9c179e"
             ],
             [
              0.4444444444444444,
              "#bd3786"
             ],
             [
              0.5555555555555556,
              "#d8576b"
             ],
             [
              0.6666666666666666,
              "#ed7953"
             ],
             [
              0.7777777777777778,
              "#fb9f3a"
             ],
             [
              0.8888888888888888,
              "#fdca26"
             ],
             [
              1,
              "#f0f921"
             ]
            ],
            "type": "histogram2d"
           }
          ],
          "histogram2dcontour": [
           {
            "colorbar": {
             "outlinewidth": 0,
             "ticks": ""
            },
            "colorscale": [
             [
              0,
              "#0d0887"
             ],
             [
              0.1111111111111111,
              "#46039f"
             ],
             [
              0.2222222222222222,
              "#7201a8"
             ],
             [
              0.3333333333333333,
              "#9c179e"
             ],
             [
              0.4444444444444444,
              "#bd3786"
             ],
             [
              0.5555555555555556,
              "#d8576b"
             ],
             [
              0.6666666666666666,
              "#ed7953"
             ],
             [
              0.7777777777777778,
              "#fb9f3a"
             ],
             [
              0.8888888888888888,
              "#fdca26"
             ],
             [
              1,
              "#f0f921"
             ]
            ],
            "type": "histogram2dcontour"
           }
          ],
          "mesh3d": [
           {
            "colorbar": {
             "outlinewidth": 0,
             "ticks": ""
            },
            "type": "mesh3d"
           }
          ],
          "parcoords": [
           {
            "line": {
             "colorbar": {
              "outlinewidth": 0,
              "ticks": ""
             }
            },
            "type": "parcoords"
           }
          ],
          "pie": [
           {
            "automargin": true,
            "type": "pie"
           }
          ],
          "scatter": [
           {
            "fillpattern": {
             "fillmode": "overlay",
             "size": 10,
             "solidity": 0.2
            },
            "type": "scatter"
           }
          ],
          "scatter3d": [
           {
            "line": {
             "colorbar": {
              "outlinewidth": 0,
              "ticks": ""
             }
            },
            "marker": {
             "colorbar": {
              "outlinewidth": 0,
              "ticks": ""
             }
            },
            "type": "scatter3d"
           }
          ],
          "scattercarpet": [
           {
            "marker": {
             "colorbar": {
              "outlinewidth": 0,
              "ticks": ""
             }
            },
            "type": "scattercarpet"
           }
          ],
          "scattergeo": [
           {
            "marker": {
             "colorbar": {
              "outlinewidth": 0,
              "ticks": ""
             }
            },
            "type": "scattergeo"
           }
          ],
          "scattergl": [
           {
            "marker": {
             "colorbar": {
              "outlinewidth": 0,
              "ticks": ""
             }
            },
            "type": "scattergl"
           }
          ],
          "scattermap": [
           {
            "marker": {
             "colorbar": {
              "outlinewidth": 0,
              "ticks": ""
             }
            },
            "type": "scattermap"
           }
          ],
          "scattermapbox": [
           {
            "marker": {
             "colorbar": {
              "outlinewidth": 0,
              "ticks": ""
             }
            },
            "type": "scattermapbox"
           }
          ],
          "scatterpolar": [
           {
            "marker": {
             "colorbar": {
              "outlinewidth": 0,
              "ticks": ""
             }
            },
            "type": "scatterpolar"
           }
          ],
          "scatterpolargl": [
           {
            "marker": {
             "colorbar": {
              "outlinewidth": 0,
              "ticks": ""
             }
            },
            "type": "scatterpolargl"
           }
          ],
          "scatterternary": [
           {
            "marker": {
             "colorbar": {
              "outlinewidth": 0,
              "ticks": ""
             }
            },
            "type": "scatterternary"
           }
          ],
          "surface": [
           {
            "colorbar": {
             "outlinewidth": 0,
             "ticks": ""
            },
            "colorscale": [
             [
              0,
              "#0d0887"
             ],
             [
              0.1111111111111111,
              "#46039f"
             ],
             [
              0.2222222222222222,
              "#7201a8"
             ],
             [
              0.3333333333333333,
              "#9c179e"
             ],
             [
              0.4444444444444444,
              "#bd3786"
             ],
             [
              0.5555555555555556,
              "#d8576b"
             ],
             [
              0.6666666666666666,
              "#ed7953"
             ],
             [
              0.7777777777777778,
              "#fb9f3a"
             ],
             [
              0.8888888888888888,
              "#fdca26"
             ],
             [
              1,
              "#f0f921"
             ]
            ],
            "type": "surface"
           }
          ],
          "table": [
           {
            "cells": {
             "fill": {
              "color": "#EBF0F8"
             },
             "line": {
              "color": "white"
             }
            },
            "header": {
             "fill": {
              "color": "#C8D4E3"
             },
             "line": {
              "color": "white"
             }
            },
            "type": "table"
           }
          ]
         },
         "layout": {
          "annotationdefaults": {
           "arrowcolor": "#2a3f5f",
           "arrowhead": 0,
           "arrowwidth": 1
          },
          "autotypenumbers": "strict",
          "coloraxis": {
           "colorbar": {
            "outlinewidth": 0,
            "ticks": ""
           }
          },
          "colorscale": {
           "diverging": [
            [
             0,
             "#8e0152"
            ],
            [
             0.1,
             "#c51b7d"
            ],
            [
             0.2,
             "#de77ae"
            ],
            [
             0.3,
             "#f1b6da"
            ],
            [
             0.4,
             "#fde0ef"
            ],
            [
             0.5,
             "#f7f7f7"
            ],
            [
             0.6,
             "#e6f5d0"
            ],
            [
             0.7,
             "#b8e186"
            ],
            [
             0.8,
             "#7fbc41"
            ],
            [
             0.9,
             "#4d9221"
            ],
            [
             1,
             "#276419"
            ]
           ],
           "sequential": [
            [
             0,
             "#0d0887"
            ],
            [
             0.1111111111111111,
             "#46039f"
            ],
            [
             0.2222222222222222,
             "#7201a8"
            ],
            [
             0.3333333333333333,
             "#9c179e"
            ],
            [
             0.4444444444444444,
             "#bd3786"
            ],
            [
             0.5555555555555556,
             "#d8576b"
            ],
            [
             0.6666666666666666,
             "#ed7953"
            ],
            [
             0.7777777777777778,
             "#fb9f3a"
            ],
            [
             0.8888888888888888,
             "#fdca26"
            ],
            [
             1,
             "#f0f921"
            ]
           ],
           "sequentialminus": [
            [
             0,
             "#0d0887"
            ],
            [
             0.1111111111111111,
             "#46039f"
            ],
            [
             0.2222222222222222,
             "#7201a8"
            ],
            [
             0.3333333333333333,
             "#9c179e"
            ],
            [
             0.4444444444444444,
             "#bd3786"
            ],
            [
             0.5555555555555556,
             "#d8576b"
            ],
            [
             0.6666666666666666,
             "#ed7953"
            ],
            [
             0.7777777777777778,
             "#fb9f3a"
            ],
            [
             0.8888888888888888,
             "#fdca26"
            ],
            [
             1,
             "#f0f921"
            ]
           ]
          },
          "colorway": [
           "#636efa",
           "#EF553B",
           "#00cc96",
           "#ab63fa",
           "#FFA15A",
           "#19d3f3",
           "#FF6692",
           "#B6E880",
           "#FF97FF",
           "#FECB52"
          ],
          "font": {
           "color": "#2a3f5f"
          },
          "geo": {
           "bgcolor": "white",
           "lakecolor": "white",
           "landcolor": "white",
           "showlakes": true,
           "showland": true,
           "subunitcolor": "#C8D4E3"
          },
          "hoverlabel": {
           "align": "left"
          },
          "hovermode": "closest",
          "mapbox": {
           "style": "light"
          },
          "paper_bgcolor": "white",
          "plot_bgcolor": "white",
          "polar": {
           "angularaxis": {
            "gridcolor": "#EBF0F8",
            "linecolor": "#EBF0F8",
            "ticks": ""
           },
           "bgcolor": "white",
           "radialaxis": {
            "gridcolor": "#EBF0F8",
            "linecolor": "#EBF0F8",
            "ticks": ""
           }
          },
          "scene": {
           "xaxis": {
            "backgroundcolor": "white",
            "gridcolor": "#DFE8F3",
            "gridwidth": 2,
            "linecolor": "#EBF0F8",
            "showbackground": true,
            "ticks": "",
            "zerolinecolor": "#EBF0F8"
           },
           "yaxis": {
            "backgroundcolor": "white",
            "gridcolor": "#DFE8F3",
            "gridwidth": 2,
            "linecolor": "#EBF0F8",
            "showbackground": true,
            "ticks": "",
            "zerolinecolor": "#EBF0F8"
           },
           "zaxis": {
            "backgroundcolor": "white",
            "gridcolor": "#DFE8F3",
            "gridwidth": 2,
            "linecolor": "#EBF0F8",
            "showbackground": true,
            "ticks": "",
            "zerolinecolor": "#EBF0F8"
           }
          },
          "shapedefaults": {
           "line": {
            "color": "#2a3f5f"
           }
          },
          "ternary": {
           "aaxis": {
            "gridcolor": "#DFE8F3",
            "linecolor": "#A2B1C6",
            "ticks": ""
           },
           "baxis": {
            "gridcolor": "#DFE8F3",
            "linecolor": "#A2B1C6",
            "ticks": ""
           },
           "bgcolor": "white",
           "caxis": {
            "gridcolor": "#DFE8F3",
            "linecolor": "#A2B1C6",
            "ticks": ""
           }
          },
          "title": {
           "x": 0.05
          },
          "xaxis": {
           "automargin": true,
           "gridcolor": "#EBF0F8",
           "linecolor": "#EBF0F8",
           "ticks": "",
           "title": {
            "standoff": 15
           },
           "zerolinecolor": "#EBF0F8",
           "zerolinewidth": 2
          },
          "yaxis": {
           "automargin": true,
           "gridcolor": "#EBF0F8",
           "linecolor": "#EBF0F8",
           "ticks": "",
           "title": {
            "standoff": 15
           },
           "zerolinecolor": "#EBF0F8",
           "zerolinewidth": 2
          }
         }
        },
        "title": {
         "font": {
          "color": "#1e1b18",
          "family": "Georgia, serif",
          "size": 24
         },
         "text": "Top generadores en Los Ríos",
         "x": 0.05,
         "y": 0.96
        },
        "width": 1200,
        "xaxis": {
         "gridcolor": "#d9d3c5",
         "griddash": "dot",
         "range": [
          0,
          152313.78097
         ],
         "showgrid": true,
         "tickfont": {
          "color": "#1e1b18",
          "family": "Georgia, serif",
          "size": 12
         },
         "title": {
          "font": {
           "color": "#1e1b18",
           "family": "Georgia, serif",
           "size": 14
          },
          "text": "Toneladas"
         },
         "zeroline": false
        },
        "yaxis": {
         "categoryarray": [
          "SERVICIOS DE RECICLAJE PUDU LIMITADA",
          "PROLESUR S.A.",
          "CARNES NUBLE S A",
          "SURALIS S.A.",
          "CARTULINAS CMPC SPA",
          "CERVECERIA KUNSTMANN S A",
          "CHILE PANEL S.A.",
          "COOP AGRICOLA Y LECHERA DE LA UNION LTDA",
          "CELULOSA ARAUCO Y CONSTITUCION S A",
          "OCEAN SPRAY CHILE SPA"
         ],
         "categoryorder": "array",
         "showgrid": false,
         "tickfont": {
          "color": "#1e1b18",
          "family": "Georgia, serif",
          "size": 12
         },
         "title": {
          "text": ""
         },
         "zeroline": false
        }
       }
      }
     },
     "metadata": {},
     "output_type": "display_data"
    }
   ],
   "source": [
    "los_rios_generators_plot = (\n",
    "    los_rios_generators.copy().fillna(\"Sin información\")\n",
    "    .sort_values(\"toneladas\", ascending=True)\n",
    ")\n",
    "\n",
    "los_rios_generators_plot[\"label\"] = los_rios_generators_plot[\"toneladas\"].apply(humanize_tonnes)\n",
    "\n",
    "highlight_color = \"#d62828\"\n",
    "neutral_color = \"#0a9396\"\n",
    "background_color = \"#f7f2ea\"\n",
    "grid_color = \"#d9d3c5\"\n",
    "text_color = \"#1e1b18\"\n",
    "\n",
    "highlight_company = (\n",
    "    los_rios_generators_plot.iloc[-1][\"razon_social\"] if not los_rios_generators_plot.empty else None\n",
    ")\n",
    "\n",
    "max_value = los_rios_generators_plot[\"toneladas\"].max() if not los_rios_generators_plot.empty else 0\n",
    "x_padding = max_value * 0.10 if max_value else 1\n",
    "label_offset = max(max_value * 0.12, 1.0) if max_value else 1.0\n",
    "\n",
    "\n",
    "generators_fig = go.Figure()\n",
    "\n",
    "for _, row in los_rios_generators_plot.iterrows():\n",
    "    color = highlight_color if row[\"razon_social\"] == highlight_company else neutral_color\n",
    "    label_color = highlight_color if row[\"razon_social\"] == highlight_company else text_color\n",
    "\n",
    "    generators_fig.add_trace(\n",
    "        go.Scatter(\n",
    "            x=[0, row[\"toneladas\"]],\n",
    "            y=[row[\"razon_social\"], row[\"razon_social\"]],\n",
    "            mode=\"lines\",\n",
    "            line=dict(color=color, width=2.2),\n",
    "            hoverinfo=\"skip\",\n",
    "            showlegend=False,\n",
    "        )\n",
    "    )\n",
    "\n",
    "    generators_fig.add_trace(\n",
    "        go.Scatter(\n",
    "            x=[row[\"toneladas\"]],\n",
    "            y=[row[\"razon_social\"]],\n",
    "            mode=\"markers\",\n",
    "            marker=dict(color=color, size=12, line=dict(color=\"#ffffff\", width=1.2)),\n",
    "            hovertemplate=(\"<b>%{customdata[0]}</b><br>Toneladas: %{customdata[1]:,.0f}<extra></extra>\"),\n",
    "            customdata=[[row[\"razon_social\"], row[\"toneladas\"]]],\n",
    "            cliponaxis=False,\n",
    "            showlegend=False,\n",
    "        )\n",
    "    )\n",
    "\n",
    "    generators_fig.add_trace(\n",
    "        go.Scatter(\n",
    "            x=[row[\"toneladas\"] + label_offset],\n",
    "            y=[row[\"razon_social\"]],\n",
    "            mode=\"text\",\n",
    "            text=[row[\"label\"]],\n",
    "            textposition=\"middle left\",\n",
    "            textfont=dict(family=ECONOMIST_FONT, size=12, color=label_color),\n",
    "            hoverinfo=\"skip\",\n",
    "            showlegend=False,\n",
    "            cliponaxis=False,\n",
    "        )\n",
    "    )\n",
    "\n",
    "underline_x0 = -0.40  # Extiende el subrayado hacia la izquierda\n",
    "underline_x1 = 0.95   # Ajusta este valor para el final del subrayado\n",
    "underline_y = 1.10    # Ajusta este valor para acercar o alejar la línea del título\n",
    "\n",
    "generators_fig.update_layout(\n",
    "    template=\"plotly_white\",\n",
    "    title=dict(\n",
    "        text=\"Top generadores en Los Ríos\",\n",
    "        font=dict(family=ECONOMIST_FONT, size=24, color=text_color),\n",
    "        x=0.05,\n",
    "        y=0.96,\n",
    "    ),\n",
    "    font=dict(family=ECONOMIST_FONT, size=15, color=text_color),\n",
    "    plot_bgcolor=background_color,\n",
    "    paper_bgcolor=background_color,\n",
    "    margin=dict(l=250, r=200, t=120, b=80),\n",
    "    hoverlabel=dict(bgcolor=\"#ffffff\", font=dict(family=ECONOMIST_FONT, color=text_color)),\n",
    "    width=1200,\n",
    "    height=700,\n",
    "    shapes=[\n",
    "        dict(\n",
    "            type=\"line\",\n",
    "            x0=0,\n",
    "            x1=0,\n",
    "            y0=-0.08,\n",
    "            y1=1.05,\n",
    "            xref=\"x\",\n",
    "            yref=\"paper\",\n",
    "            line=dict(color=\"#c9c1b4\", width=1.2)\n",
    "        ),\n",
    "        dict(\n",
    "            type=\"line\",\n",
    "            x0=underline_x0,\n",
    "            x1=underline_x1,\n",
    "            y0=underline_y,\n",
    "            y1=underline_y,\n",
    "            xref=\"paper\",\n",
    "            yref=\"paper\",\n",
    "            line=dict(color=highlight_color, width=4)\n",
    "        ),\n",
    "    ],\n",
    ")\n",
    "\n",
    "generators_fig.update_layout(\n",
    "    xaxis=dict(\n",
    "        title=dict(text=\"Toneladas\", font=dict(family=ECONOMIST_FONT, size=14, color=text_color)),\n",
    "        showgrid=True,\n",
    "        gridcolor=grid_color,\n",
    "        griddash=\"dot\",\n",
    "        zeroline=False,\n",
    "        tickfont=dict(family=ECONOMIST_FONT, size=12, color=text_color),\n",
    "        range=[0, max_value + x_padding + label_offset + (0.05 * max_value if max_value else 0)],\n",
    "    ),\n",
    "    yaxis=dict(\n",
    "        title=\"\",\n",
    "        tickfont=dict(family=ECONOMIST_FONT, size=12, color=text_color),\n",
    "        showgrid=False,\n",
    "        zeroline=False,\n",
    "        categoryorder=\"array\",\n",
    "        categoryarray=los_rios_generators_plot[\"razon_social\"].tolist(),\n",
    "    ),\n",
    ")\n",
    "\n",
    "generators_fig"
   ]
  },
  {
   "cell_type": "code",
   "execution_count": null,
   "id": "d1338fab",
   "metadata": {},
   "outputs": [],
   "source": []
  },
  {
   "cell_type": "markdown",
   "id": "680dc89b",
   "metadata": {},
   "source": [
    "# Panorama de residuos peligrosos RNP 2023 en Chile"
   ]
  },
  {
   "cell_type": "markdown",
   "id": "59a8fd9b",
   "metadata": {},
   "source": [
    "## Propósito\n",
    "\n",
    "Este cuaderno resume los hallazgos clave del sistema de Residuos Peligrosos (RNP) en Chile durante 2023. La historia combina métricas agregadas, análisis territoriales y una mirada a los principales generadores para informar decisiones de política pública y gestión empresarial."
   ]
  },
  {
   "cell_type": "markdown",
   "id": "81473425",
   "metadata": {},
   "source": [
    "## Hoja de ruta analítica\n",
    "\n",
    "1. Configurar ambiente y cargar datasets depurados.\n",
    "\n",
    "2. Extraer indicadores ejecutivos para contextualizar el volumen de residuos.\n",
    "\n",
    "3. Visualizar la geografía de generación y su mezcla de tratamientos.\n",
    "\n",
    "4. Identificar actores privados líderes y patrones sectoriales.\n",
    "\n",
    "5. Resumir implicancias estratégicas para economía circular y fiscalización."
   ]
  },
  {
   "cell_type": "code",
   "execution_count": 37,
   "id": "52697043",
   "metadata": {},
   "outputs": [],
   "source": [
    "from __future__ import annotations\n",
    "\n",
    "\n",
    "\n",
    "from pathlib import Path\n",
    "\n",
    "from typing import Iterable\n",
    "\n",
    "\n",
    "\n",
    "import numpy as np\n",
    "\n",
    "import pandas as pd\n",
    "\n",
    "import plotly.express as px\n",
    "\n",
    "import plotly.graph_objects as go\n",
    "\n",
    "from IPython.display import Markdown\n",
    "\n",
    "\n",
    "\n",
    "pd.set_option(\"display.max_rows\", 20)\n",
    "\n",
    "pd.set_option(\"display.max_columns\", 40)\n",
    "\n",
    "pd.set_option(\"display.float_format\", \"{:,.2f}\".format)\n",
    "\n",
    "\n",
    "\n",
    "ECONOMIST_FONT = \"Georgia, serif\"\n",
    "\n",
    "ECONOMIST_COLORS = [\n",
    "\n",
    "    \"#005f73\",\n",
    "\n",
    "    \"#0a9396\",\n",
    "\n",
    "    \"#94d2bd\",\n",
    "\n",
    "    \"#ee9b00\",\n",
    "\n",
    "    \"#ca6702\",\n",
    "\n",
    "    \"#bb3e03\",\n",
    "\n",
    "    \"#ae2012\",\n",
    "\n",
    "    \"#001219\",\n",
    "\n",
    "]\n",
    "\n",
    "\n",
    "\n",
    "def find_project_root(start: Path | None = None) -> Path:\n",
    "\n",
    "    start_path = Path(start or Path.cwd()).resolve()\n",
    "\n",
    "    for candidate in [start_path, *start_path.parents]:\n",
    "\n",
    "        if (candidate / \"data\").is_dir() and (candidate / \"src\").is_dir():\n",
    "\n",
    "            return candidate\n",
    "\n",
    "    raise FileNotFoundError(\"No se encontró la raíz del proyecto con carpetas 'data' y 'src'.\")\n",
    "\n",
    "\n",
    "\n",
    "def apply_economist_style(fig: go.Figure, *, font_size: int = 16) -> go.Figure:\n",
    "\n",
    "    fig.update_layout(\n",
    "\n",
    "        template=\"plotly_white\",\n",
    "\n",
    "        font=dict(family=ECONOMIST_FONT, color=\"#1e293b\"),\n",
    "\n",
    "        title=dict(font=dict(size=font_size + 2, family=ECONOMIST_FONT, color=\"#1e293b\")),\n",
    "\n",
    "        xaxis=dict(\n",
    "\n",
    "            title=dict(font=dict(family=ECONOMIST_FONT, color=\"#1e293b\")),\n",
    "\n",
    "            tickfont=dict(family=ECONOMIST_FONT, color=\"#1e293b\"),\n",
    "\n",
    "            showgrid=True,\n",
    "\n",
    "            gridcolor=\"#cbd5e1\",\n",
    "\n",
    "            zeroline=False,\n",
    "\n",
    "        ),\n",
    "\n",
    "        yaxis=dict(\n",
    "\n",
    "            title=dict(font=dict(family=ECONOMIST_FONT, color=\"#1e293b\")),\n",
    "\n",
    "            tickfont=dict(family=ECONOMIST_FONT, color=\"#1e293b\"),\n",
    "\n",
    "            showgrid=True,\n",
    "\n",
    "            gridcolor=\"#cbd5e1\",\n",
    "\n",
    "            zeroline=False,\n",
    "\n",
    "        ),\n",
    "\n",
    "        legend=dict(font=dict(family=ECONOMIST_FONT, color=\"#1e293b\")),\n",
    "\n",
    "        bargap=0.25,\n",
    "\n",
    "        plot_bgcolor=\"#ffffff\",\n",
    "\n",
    "        paper_bgcolor=\"#ffffff\",\n",
    "\n",
    "        margin=dict(l=80, r=40, t=80, b=60),\n",
    "\n",
    "    )\n",
    "\n",
    "    fig.update_traces(marker_line_color=\"#0f172a\", marker_line_width=0.4)\n",
    "\n",
    "    return fig\n",
    "\n",
    "\n",
    "\n",
    "def humanize_tonnes(value: float) -> str:\n",
    "\n",
    "    if value >= 1_000_000:\n",
    "\n",
    "        return f\"{value / 1_000_000:.1f} millones t\"\n",
    "\n",
    "    if value >= 1_000:\n",
    "\n",
    "        return f\"{value / 1_000:.1f} mil t\"\n",
    "\n",
    "    return f\"{value:,.0f} t\"\n"
   ]
  },
  {
   "cell_type": "code",
   "execution_count": 38,
   "id": "ff97dd82",
   "metadata": {},
   "outputs": [
    {
     "data": {
      "text/html": [
       "<div>\n",
       "<style scoped>\n",
       "    .dataframe tbody tr th:only-of-type {\n",
       "        vertical-align: middle;\n",
       "    }\n",
       "\n",
       "    .dataframe tbody tr th {\n",
       "        vertical-align: top;\n",
       "    }\n",
       "\n",
       "    .dataframe thead th {\n",
       "        text-align: right;\n",
       "    }\n",
       "</style>\n",
       "<table border=\"1\" class=\"dataframe\">\n",
       "  <thead>\n",
       "    <tr style=\"text-align: right;\">\n",
       "      <th></th>\n",
       "      <th>Indicador</th>\n",
       "      <th>Valor</th>\n",
       "    </tr>\n",
       "  </thead>\n",
       "  <tbody>\n",
       "    <tr>\n",
       "      <th>0</th>\n",
       "      <td>Residuos totales registrados</td>\n",
       "      <td>10.4 millones t</td>\n",
       "    </tr>\n",
       "    <tr>\n",
       "      <th>1</th>\n",
       "      <td>Regiones con reportes</td>\n",
       "      <td>16</td>\n",
       "    </tr>\n",
       "    <tr>\n",
       "      <th>2</th>\n",
       "      <td>Establecimientos únicos</td>\n",
       "      <td>8411</td>\n",
       "    </tr>\n",
       "    <tr>\n",
       "      <th>3</th>\n",
       "      <td>Tratamiento predominante</td>\n",
       "      <td>Eliminación</td>\n",
       "    </tr>\n",
       "  </tbody>\n",
       "</table>\n",
       "</div>"
      ],
      "text/plain": [
       "                      Indicador            Valor\n",
       "0  Residuos totales registrados  10.4 millones t\n",
       "1         Regiones con reportes               16\n",
       "2       Establecimientos únicos             8411\n",
       "3      Tratamiento predominante      Eliminación"
      ]
     },
     "execution_count": 38,
     "metadata": {},
     "output_type": "execute_result"
    }
   ],
   "source": [
    "PROJECT_ROOT = find_project_root()\n",
    "\n",
    "PROCESSED_DIR = PROJECT_ROOT / \"data\" / \"processed\"\n",
    "\n",
    "\n",
    "\n",
    "clean_df = pd.read_parquet(PROCESSED_DIR / \"rinp_generacion_2023_cl_clean.parquet\")\n",
    "\n",
    "\n",
    "\n",
    "region_df = pd.read_csv(PROCESSED_DIR / \"region_summary.csv\", sep=\";\")\n",
    "\n",
    "region_df.columns = [\"region\", \"toneladas_sum\", \"toneladas_promedio\", \"registros\"]\n",
    "\n",
    "region_df[\"toneladas_sum\"] = pd.to_numeric(region_df[\"toneladas_sum\"], errors=\"coerce\")\n",
    "\n",
    "region_df[\"toneladas_promedio\"] = pd.to_numeric(region_df[\"toneladas_promedio\"], errors=\"coerce\")\n",
    "\n",
    "region_df[\"registros\"] = pd.to_numeric(region_df[\"registros\"], errors=\"coerce\", downcast=\"integer\")\n",
    "\n",
    "region_df = region_df.sort_values(\"toneladas_sum\", ascending=False).reset_index(drop=True)\n",
    "\n",
    "\n",
    "\n",
    "FOCUS_REGIONS = [\n",
    "\n",
    "    \"Los Ríos\",\n",
    "\n",
    "    \"Biobío\",\n",
    "\n",
    "    \"Metropolitana De Santiago\",\n",
    "\n",
    "    \"Los Lagos\",\n",
    "\n",
    "    \"Araucanía\",\n",
    "\n",
    "]\n",
    "\n",
    "focus_region_df = region_df[region_df[\"region\"].isin(FOCUS_REGIONS)].copy()\n",
    "\n",
    "focus_region_df[\"region\"] = pd.Categorical(\n",
    "\n",
    "    focus_region_df[\"region\"], categories=FOCUS_REGIONS, ordered=True\n",
    "\n",
    ")\n",
    "\n",
    "focus_region_df = focus_region_df.sort_values(\"toneladas_sum\", ascending=False).reset_index(drop=True)\n",
    "\n",
    "\n",
    "\n",
    "treatment_df = pd.read_csv(PROCESSED_DIR / \"region_treatment.csv\", sep=\";\")\n",
    "\n",
    "treatment_df.columns = [\"region\", \"tratamiento_nivel_1\", \"toneladas\"]\n",
    "\n",
    "treatment_df[\"toneladas\"] = pd.to_numeric(treatment_df[\"toneladas\"], errors=\"coerce\")\n",
    "\n",
    "treatment_df = treatment_df.sort_values(\"toneladas\", ascending=False).reset_index(drop=True)\n",
    "\n",
    "\n",
    "\n",
    "overall_mix = (\n",
    "\n",
    "    treatment_df.groupby(\"tratamiento_nivel_1\", as_index=False)[\"toneladas\"].sum()\n",
    "\n",
    "    .sort_values(\"toneladas\", ascending=False)\n",
    "\n",
    "    .reset_index(drop=True)\n",
    "\n",
    ")\n",
    "\n",
    "overall_mix[\"share\"] = overall_mix[\"toneladas\"] / overall_mix[\"toneladas\"].sum()\n",
    "\n",
    "\n",
    "\n",
    "treatment_share_df = treatment_df.copy()\n",
    "\n",
    "treatment_share_df[\"share\"] = treatment_share_df[\"toneladas\"] / treatment_share_df.groupby(\"region\")[\"toneladas\"].transform(\"sum\")\n",
    "\n",
    "\n",
    "\n",
    "focus_treatment_share_df = treatment_share_df[\n",
    "\n",
    "    treatment_share_df[\"region\"].isin(FOCUS_REGIONS)\n",
    "\n",
    "].copy()\n",
    "\n",
    "focus_treatment_share_df[\"region\"] = pd.Categorical(\n",
    "\n",
    "    focus_treatment_share_df[\"region\"], categories=FOCUS_REGIONS, ordered=True\n",
    "\n",
    ")\n",
    "\n",
    "\n",
    "\n",
    "top_generators = (\n",
    "\n",
    "    clean_df.groupby(\"razon_social\", dropna=False)[\"cantidad_toneladas\"].sum()\n",
    "\n",
    "    .sort_values(ascending=False)\n",
    "\n",
    "    .head(15)\n",
    "\n",
    "    .reset_index()\n",
    "\n",
    "    .rename(columns={\"cantidad_toneladas\": \"toneladas\"})\n",
    "\n",
    ")\n",
    "\n",
    "top_generators[\"toneladas\"] = top_generators[\"toneladas\"].astype(float)\n",
    "\n",
    "\n",
    "\n",
    "los_rios_generators = (\n",
    "\n",
    "    clean_df[clean_df[\"region\"] == \"Los Ríos\"]\n",
    "\n",
    "    .groupby(\"razon_social\", dropna=False)[\"cantidad_toneladas\"].sum()\n",
    "\n",
    "    .sort_values(ascending=False)\n",
    "\n",
    "    .head(10)\n",
    "\n",
    "    .reset_index()\n",
    "\n",
    "    .rename(columns={\"cantidad_toneladas\": \"toneladas\"})\n",
    "\n",
    ")\n",
    "\n",
    "los_rios_generators[\"toneladas\"] = los_rios_generators[\"toneladas\"].astype(float)\n",
    "\n",
    "\n",
    "\n",
    "rubro_df = (\n",
    "\n",
    "    clean_df.groupby(\"rubro_vu\", dropna=False)[\"cantidad_toneladas\"].sum()\n",
    "\n",
    "    .sort_values(ascending=False)\n",
    "\n",
    "    .head(10)\n",
    "\n",
    "    .reset_index()\n",
    "\n",
    "    .rename(columns={\"cantidad_toneladas\": \"toneladas\"})\n",
    "\n",
    ")\n",
    "\n",
    "\n",
    "\n",
    "los_rios_rubro_df = (\n",
    "\n",
    "    clean_df[clean_df[\"region\"] == \"Los Ríos\"]\n",
    "\n",
    "    .groupby(\"rubro_vu\", dropna=False)[\"cantidad_toneladas\"].sum()\n",
    "\n",
    "    .sort_values(ascending=False)\n",
    "\n",
    "    .head(10)\n",
    "\n",
    "    .reset_index()\n",
    "\n",
    "    .rename(columns={\"cantidad_toneladas\": \"toneladas\"})\n",
    "\n",
    ")\n",
    "\n",
    "\n",
    "\n",
    "los_rios_total = focus_region_df.loc[\n",
    "\n",
    "    focus_region_df[\"region\"] == \"Los Ríos\", \"toneladas_sum\"\n",
    "\n",
    "].sum()\n",
    "\n",
    "los_rios_share = los_rios_total / region_df[\"toneladas_sum\"].sum()\n",
    "\n",
    "\n",
    "\n",
    "headline_metrics = pd.DataFrame(\n",
    "\n",
    "    {\n",
    "\n",
    "        \"Indicador\": [\n",
    "\n",
    "            \"Residuos totales registrados\",\n",
    "\n",
    "            \"Regiones con reportes\",\n",
    "\n",
    "            \"Establecimientos únicos\",\n",
    "\n",
    "            \"Tratamiento predominante\",\n",
    "\n",
    "        ],\n",
    "\n",
    "        \"Valor\": [\n",
    "\n",
    "            humanize_tonnes(clean_df[\"cantidad_toneladas\"].sum()),\n",
    "\n",
    "            clean_df[\"region\"].nunique(),\n",
    "\n",
    "            clean_df[\"nombre_establecimiento\"].nunique(),\n",
    "\n",
    "            overall_mix.iloc[0][\"tratamiento_nivel_1\"],\n",
    "\n",
    "        ],\n",
    "\n",
    "    }\n",
    "\n",
    ")\n",
    "\n",
    "\n",
    "\n",
    "headline_metrics\n"
   ]
  },
  {
   "cell_type": "code",
   "execution_count": null,
   "id": "d98526fe",
   "metadata": {},
   "outputs": [
    {
     "data": {
      "text/markdown": [
       "\n",
       "\n",
       "### Lectura ejecutiva\n",
       "\n",
       "\n",
       "\n",
       "- Chile gestionó más de **10.4 millones t** en 2023, con cobertura efectiva en **16** regiones y **8411** establecimientos activos.\n",
       "\n",
       "\n",
       "\n",
       "- **Los Ríos explica el 2.3%** del total nacional dentro del bloque comparativo que incluye Biobío, Metropolitana, Los Lagos y Araucanía.\n",
       "\n",
       "\n",
       "\n",
       "- El tratamiento dominante fue **Eliminación**, lo que evidencia espacio para acelerar modelos de valorización.\n",
       "\n",
       "\n",
       "\n",
       "- A continuación se examinan patrones geográficos, mix de tratamientos y actores líderes que explican el panorama nacional con énfasis en Los Ríos.\n",
       "\n"
      ],
      "text/plain": [
       "<IPython.core.display.Markdown object>"
      ]
     },
     "metadata": {},
     "output_type": "display_data"
    }
   ],
   "source": [
    "total_tonnes = humanize_tonnes(clean_df[\"cantidad_toneladas\"].sum())\n",
    "\n",
    "region_count = clean_df[\"region\"].nunique()\n",
    "\n",
    "facility_count = clean_df[\"nombre_establecimiento\"].nunique()\n",
    "\n",
    "top_treatment = overall_mix.iloc[0][\"tratamiento_nivel_1\"]\n",
    "\n",
    "los_rios_share_pct = los_rios_share * 100\n",
    "\n",
    "\n",
    "\n",
    "Markdown(\n",
    "\n",
    "    f\"\"\"\n",
    "\n",
    "### Lectura ejecutiva\n",
    "\n",
    "\n",
    "\n",
    "- Chile gestionó más de **{total_tonnes}** en 2023, con cobertura efectiva en **{region_count}** regiones y **{facility_count}** establecimientos activos.\n",
    "\n",
    "\n",
    "\n",
    "- **Los Ríos explica el {los_rios_share_pct:.1f}%** del total nacional dentro del bloque comparativo que incluye Biobío, Metropolitana, Los Lagos y Araucanía.\n",
    "\n",
    "\n",
    "\n",
    "- El tratamiento dominante fue **{top_treatment}**, lo que evidencia espacio para acelerar modelos de valorización.\n",
    "\n",
    "\n",
    "\n",
    "- A continuación se examinan patrones geográficos, mix de tratamientos y actores líderes que explican el panorama nacional con énfasis en Los Ríos.\n",
    "\n",
    "\"\"\"\n",
    "\n",
    ")"
   ]
  },
  {
   "cell_type": "markdown",
   "id": "18e38fa2",
   "metadata": {},
   "source": [
    "## Indicadores clave\n",
    "\n",
    "\n",
    "\n",
    "Los siguientes indicadores cuantifican la magnitud y cobertura del sistema RNP 2023, sirviendo como punto de partida para el análisis territorial y sectorial."
   ]
  },
  {
   "cell_type": "code",
   "execution_count": null,
   "id": "8223575c",
   "metadata": {},
   "outputs": [
    {
     "data": {
      "application/vnd.plotly.v1+json": {
       "config": {
        "plotlyServerURL": "https://plot.ly"
       },
       "data": [
        {
         "cells": {
          "align": "left",
          "fill": {
           "color": [
            [
             "#ffffff",
             "#f1f5f9",
             "#ffffff",
             "#f1f5f9"
            ],
            [
             "#ffffff",
             "#f1f5f9",
             "#ffffff",
             "#f1f5f9"
            ]
           ]
          },
          "font": {
           "color": "#1e293b",
           "family": "Georgia, serif",
           "size": 15
          },
          "height": 30,
          "values": [
           [
            "Residuos totales registrados",
            "Regiones con reportes",
            "Establecimientos únicos",
            "Tratamiento predominante"
           ],
           [
            "10.4 millones t",
            16,
            8411,
            "Eliminación"
           ]
          ]
         },
         "columnorder": [
          1,
          2
         ],
         "header": {
          "align": "left",
          "fill": {
           "color": "#005f73"
          },
          "font": {
           "color": "white",
           "family": "Georgia, serif",
           "size": 16
          },
          "height": 36,
          "values": [
           "Indicador",
           "Valor"
          ]
         },
         "type": "table"
        }
       ],
       "layout": {
        "height": 240,
        "margin": {
         "b": 0,
         "l": 0,
         "r": 0,
         "t": 10
        },
        "template": {
         "data": {
          "bar": [
           {
            "error_x": {
             "color": "#2a3f5f"
            },
            "error_y": {
             "color": "#2a3f5f"
            },
            "marker": {
             "line": {
              "color": "#E5ECF6",
              "width": 0.5
             },
             "pattern": {
              "fillmode": "overlay",
              "size": 10,
              "solidity": 0.2
             }
            },
            "type": "bar"
           }
          ],
          "barpolar": [
           {
            "marker": {
             "line": {
              "color": "#E5ECF6",
              "width": 0.5
             },
             "pattern": {
              "fillmode": "overlay",
              "size": 10,
              "solidity": 0.2
             }
            },
            "type": "barpolar"
           }
          ],
          "carpet": [
           {
            "aaxis": {
             "endlinecolor": "#2a3f5f",
             "gridcolor": "white",
             "linecolor": "white",
             "minorgridcolor": "white",
             "startlinecolor": "#2a3f5f"
            },
            "baxis": {
             "endlinecolor": "#2a3f5f",
             "gridcolor": "white",
             "linecolor": "white",
             "minorgridcolor": "white",
             "startlinecolor": "#2a3f5f"
            },
            "type": "carpet"
           }
          ],
          "choropleth": [
           {
            "colorbar": {
             "outlinewidth": 0,
             "ticks": ""
            },
            "type": "choropleth"
           }
          ],
          "contour": [
           {
            "colorbar": {
             "outlinewidth": 0,
             "ticks": ""
            },
            "colorscale": [
             [
              0,
              "#0d0887"
             ],
             [
              0.1111111111111111,
              "#46039f"
             ],
             [
              0.2222222222222222,
              "#7201a8"
             ],
             [
              0.3333333333333333,
              "#9c179e"
             ],
             [
              0.4444444444444444,
              "#bd3786"
             ],
             [
              0.5555555555555556,
              "#d8576b"
             ],
             [
              0.6666666666666666,
              "#ed7953"
             ],
             [
              0.7777777777777778,
              "#fb9f3a"
             ],
             [
              0.8888888888888888,
              "#fdca26"
             ],
             [
              1,
              "#f0f921"
             ]
            ],
            "type": "contour"
           }
          ],
          "contourcarpet": [
           {
            "colorbar": {
             "outlinewidth": 0,
             "ticks": ""
            },
            "type": "contourcarpet"
           }
          ],
          "heatmap": [
           {
            "colorbar": {
             "outlinewidth": 0,
             "ticks": ""
            },
            "colorscale": [
             [
              0,
              "#0d0887"
             ],
             [
              0.1111111111111111,
              "#46039f"
             ],
             [
              0.2222222222222222,
              "#7201a8"
             ],
             [
              0.3333333333333333,
              "#9c179e"
             ],
             [
              0.4444444444444444,
              "#bd3786"
             ],
             [
              0.5555555555555556,
              "#d8576b"
             ],
             [
              0.6666666666666666,
              "#ed7953"
             ],
             [
              0.7777777777777778,
              "#fb9f3a"
             ],
             [
              0.8888888888888888,
              "#fdca26"
             ],
             [
              1,
              "#f0f921"
             ]
            ],
            "type": "heatmap"
           }
          ],
          "heatmapgl": [
           {
            "colorbar": {
             "outlinewidth": 0,
             "ticks": ""
            },
            "colorscale": [
             [
              0,
              "#0d0887"
             ],
             [
              0.1111111111111111,
              "#46039f"
             ],
             [
              0.2222222222222222,
              "#7201a8"
             ],
             [
              0.3333333333333333,
              "#9c179e"
             ],
             [
              0.4444444444444444,
              "#bd3786"
             ],
             [
              0.5555555555555556,
              "#d8576b"
             ],
             [
              0.6666666666666666,
              "#ed7953"
             ],
             [
              0.7777777777777778,
              "#fb9f3a"
             ],
             [
              0.8888888888888888,
              "#fdca26"
             ],
             [
              1,
              "#f0f921"
             ]
            ],
            "type": "heatmapgl"
           }
          ],
          "histogram": [
           {
            "marker": {
             "pattern": {
              "fillmode": "overlay",
              "size": 10,
              "solidity": 0.2
             }
            },
            "type": "histogram"
           }
          ],
          "histogram2d": [
           {
            "colorbar": {
             "outlinewidth": 0,
             "ticks": ""
            },
            "colorscale": [
             [
              0,
              "#0d0887"
             ],
             [
              0.1111111111111111,
              "#46039f"
             ],
             [
              0.2222222222222222,
              "#7201a8"
             ],
             [
              0.3333333333333333,
              "#9c179e"
             ],
             [
              0.4444444444444444,
              "#bd3786"
             ],
             [
              0.5555555555555556,
              "#d8576b"
             ],
             [
              0.6666666666666666,
              "#ed7953"
             ],
             [
              0.7777777777777778,
              "#fb9f3a"
             ],
             [
              0.8888888888888888,
              "#fdca26"
             ],
             [
              1,
              "#f0f921"
             ]
            ],
            "type": "histogram2d"
           }
          ],
          "histogram2dcontour": [
           {
            "colorbar": {
             "outlinewidth": 0,
             "ticks": ""
            },
            "colorscale": [
             [
              0,
              "#0d0887"
             ],
             [
              0.1111111111111111,
              "#46039f"
             ],
             [
              0.2222222222222222,
              "#7201a8"
             ],
             [
              0.3333333333333333,
              "#9c179e"
             ],
             [
              0.4444444444444444,
              "#bd3786"
             ],
             [
              0.5555555555555556,
              "#d8576b"
             ],
             [
              0.6666666666666666,
              "#ed7953"
             ],
             [
              0.7777777777777778,
              "#fb9f3a"
             ],
             [
              0.8888888888888888,
              "#fdca26"
             ],
             [
              1,
              "#f0f921"
             ]
            ],
            "type": "histogram2dcontour"
           }
          ],
          "mesh3d": [
           {
            "colorbar": {
             "outlinewidth": 0,
             "ticks": ""
            },
            "type": "mesh3d"
           }
          ],
          "parcoords": [
           {
            "line": {
             "colorbar": {
              "outlinewidth": 0,
              "ticks": ""
             }
            },
            "type": "parcoords"
           }
          ],
          "pie": [
           {
            "automargin": true,
            "type": "pie"
           }
          ],
          "scatter": [
           {
            "fillpattern": {
             "fillmode": "overlay",
             "size": 10,
             "solidity": 0.2
            },
            "type": "scatter"
           }
          ],
          "scatter3d": [
           {
            "line": {
             "colorbar": {
              "outlinewidth": 0,
              "ticks": ""
             }
            },
            "marker": {
             "colorbar": {
              "outlinewidth": 0,
              "ticks": ""
             }
            },
            "type": "scatter3d"
           }
          ],
          "scattercarpet": [
           {
            "marker": {
             "colorbar": {
              "outlinewidth": 0,
              "ticks": ""
             }
            },
            "type": "scattercarpet"
           }
          ],
          "scattergeo": [
           {
            "marker": {
             "colorbar": {
              "outlinewidth": 0,
              "ticks": ""
             }
            },
            "type": "scattergeo"
           }
          ],
          "scattergl": [
           {
            "marker": {
             "colorbar": {
              "outlinewidth": 0,
              "ticks": ""
             }
            },
            "type": "scattergl"
           }
          ],
          "scattermapbox": [
           {
            "marker": {
             "colorbar": {
              "outlinewidth": 0,
              "ticks": ""
             }
            },
            "type": "scattermapbox"
           }
          ],
          "scatterpolar": [
           {
            "marker": {
             "colorbar": {
              "outlinewidth": 0,
              "ticks": ""
             }
            },
            "type": "scatterpolar"
           }
          ],
          "scatterpolargl": [
           {
            "marker": {
             "colorbar": {
              "outlinewidth": 0,
              "ticks": ""
             }
            },
            "type": "scatterpolargl"
           }
          ],
          "scatterternary": [
           {
            "marker": {
             "colorbar": {
              "outlinewidth": 0,
              "ticks": ""
             }
            },
            "type": "scatterternary"
           }
          ],
          "surface": [
           {
            "colorbar": {
             "outlinewidth": 0,
             "ticks": ""
            },
            "colorscale": [
             [
              0,
              "#0d0887"
             ],
             [
              0.1111111111111111,
              "#46039f"
             ],
             [
              0.2222222222222222,
              "#7201a8"
             ],
             [
              0.3333333333333333,
              "#9c179e"
             ],
             [
              0.4444444444444444,
              "#bd3786"
             ],
             [
              0.5555555555555556,
              "#d8576b"
             ],
             [
              0.6666666666666666,
              "#ed7953"
             ],
             [
              0.7777777777777778,
              "#fb9f3a"
             ],
             [
              0.8888888888888888,
              "#fdca26"
             ],
             [
              1,
              "#f0f921"
             ]
            ],
            "type": "surface"
           }
          ],
          "table": [
           {
            "cells": {
             "fill": {
              "color": "#EBF0F8"
             },
             "line": {
              "color": "white"
             }
            },
            "header": {
             "fill": {
              "color": "#C8D4E3"
             },
             "line": {
              "color": "white"
             }
            },
            "type": "table"
           }
          ]
         },
         "layout": {
          "annotationdefaults": {
           "arrowcolor": "#2a3f5f",
           "arrowhead": 0,
           "arrowwidth": 1
          },
          "autotypenumbers": "strict",
          "coloraxis": {
           "colorbar": {
            "outlinewidth": 0,
            "ticks": ""
           }
          },
          "colorscale": {
           "diverging": [
            [
             0,
             "#8e0152"
            ],
            [
             0.1,
             "#c51b7d"
            ],
            [
             0.2,
             "#de77ae"
            ],
            [
             0.3,
             "#f1b6da"
            ],
            [
             0.4,
             "#fde0ef"
            ],
            [
             0.5,
             "#f7f7f7"
            ],
            [
             0.6,
             "#e6f5d0"
            ],
            [
             0.7,
             "#b8e186"
            ],
            [
             0.8,
             "#7fbc41"
            ],
            [
             0.9,
             "#4d9221"
            ],
            [
             1,
             "#276419"
            ]
           ],
           "sequential": [
            [
             0,
             "#0d0887"
            ],
            [
             0.1111111111111111,
             "#46039f"
            ],
            [
             0.2222222222222222,
             "#7201a8"
            ],
            [
             0.3333333333333333,
             "#9c179e"
            ],
            [
             0.4444444444444444,
             "#bd3786"
            ],
            [
             0.5555555555555556,
             "#d8576b"
            ],
            [
             0.6666666666666666,
             "#ed7953"
            ],
            [
             0.7777777777777778,
             "#fb9f3a"
            ],
            [
             0.8888888888888888,
             "#fdca26"
            ],
            [
             1,
             "#f0f921"
            ]
           ],
           "sequentialminus": [
            [
             0,
             "#0d0887"
            ],
            [
             0.1111111111111111,
             "#46039f"
            ],
            [
             0.2222222222222222,
             "#7201a8"
            ],
            [
             0.3333333333333333,
             "#9c179e"
            ],
            [
             0.4444444444444444,
             "#bd3786"
            ],
            [
             0.5555555555555556,
             "#d8576b"
            ],
            [
             0.6666666666666666,
             "#ed7953"
            ],
            [
             0.7777777777777778,
             "#fb9f3a"
            ],
            [
             0.8888888888888888,
             "#fdca26"
            ],
            [
             1,
             "#f0f921"
            ]
           ]
          },
          "colorway": [
           "#636efa",
           "#EF553B",
           "#00cc96",
           "#ab63fa",
           "#FFA15A",
           "#19d3f3",
           "#FF6692",
           "#B6E880",
           "#FF97FF",
           "#FECB52"
          ],
          "font": {
           "color": "#2a3f5f"
          },
          "geo": {
           "bgcolor": "white",
           "lakecolor": "white",
           "landcolor": "#E5ECF6",
           "showlakes": true,
           "showland": true,
           "subunitcolor": "white"
          },
          "hoverlabel": {
           "align": "left"
          },
          "hovermode": "closest",
          "mapbox": {
           "style": "light"
          },
          "paper_bgcolor": "white",
          "plot_bgcolor": "#E5ECF6",
          "polar": {
           "angularaxis": {
            "gridcolor": "white",
            "linecolor": "white",
            "ticks": ""
           },
           "bgcolor": "#E5ECF6",
           "radialaxis": {
            "gridcolor": "white",
            "linecolor": "white",
            "ticks": ""
           }
          },
          "scene": {
           "xaxis": {
            "backgroundcolor": "#E5ECF6",
            "gridcolor": "white",
            "gridwidth": 2,
            "linecolor": "white",
            "showbackground": true,
            "ticks": "",
            "zerolinecolor": "white"
           },
           "yaxis": {
            "backgroundcolor": "#E5ECF6",
            "gridcolor": "white",
            "gridwidth": 2,
            "linecolor": "white",
            "showbackground": true,
            "ticks": "",
            "zerolinecolor": "white"
           },
           "zaxis": {
            "backgroundcolor": "#E5ECF6",
            "gridcolor": "white",
            "gridwidth": 2,
            "linecolor": "white",
            "showbackground": true,
            "ticks": "",
            "zerolinecolor": "white"
           }
          },
          "shapedefaults": {
           "line": {
            "color": "#2a3f5f"
           }
          },
          "ternary": {
           "aaxis": {
            "gridcolor": "white",
            "linecolor": "white",
            "ticks": ""
           },
           "baxis": {
            "gridcolor": "white",
            "linecolor": "white",
            "ticks": ""
           },
           "bgcolor": "#E5ECF6",
           "caxis": {
            "gridcolor": "white",
            "linecolor": "white",
            "ticks": ""
           }
          },
          "title": {
           "x": 0.05
          },
          "xaxis": {
           "automargin": true,
           "gridcolor": "white",
           "linecolor": "white",
           "ticks": "",
           "title": {
            "standoff": 15
           },
           "zerolinecolor": "white",
           "zerolinewidth": 2
          },
          "yaxis": {
           "automargin": true,
           "gridcolor": "white",
           "linecolor": "white",
           "ticks": "",
           "title": {
            "standoff": 15
           },
           "zerolinecolor": "white",
           "zerolinewidth": 2
          }
         }
        }
       }
      }
     },
     "metadata": {},
     "output_type": "display_data"
    }
   ],
   "source": [
    "zebra_fill = [\"#ffffff\" if idx % 2 == 0 else \"#f1f5f9\" for idx in range(len(headline_metrics))]\n",
    "\n",
    "\n",
    "\n",
    "headline_table = go.Figure(\n",
    "\n",
    "    data=[\n",
    "\n",
    "        go.Table(\n",
    "\n",
    "            columnorder=[1, 2],\n",
    "\n",
    "            header=dict(\n",
    "\n",
    "                values=[\"Indicador\", \"Valor\"],\n",
    "\n",
    "                fill_color=\"#005f73\",\n",
    "\n",
    "                font=dict(color=\"white\", family=ECONOMIST_FONT, size=16),\n",
    "\n",
    "                align=\"left\",\n",
    "\n",
    "                height=36,\n",
    "\n",
    "            ),\n",
    "\n",
    "            cells=dict(\n",
    "\n",
    "                values=[headline_metrics[\"Indicador\"].tolist(), headline_metrics[\"Valor\"].tolist()],\n",
    "\n",
    "                fill_color=[zebra_fill, zebra_fill],\n",
    "\n",
    "                font=dict(color=\"#1e293b\", family=ECONOMIST_FONT, size=15),\n",
    "\n",
    "                align=\"left\",\n",
    "\n",
    "                height=30,\n",
    "\n",
    "            ),\n",
    "\n",
    "        )\n",
    "\n",
    "    ]\n",
    "\n",
    ")\n",
    "\n",
    "headline_table.update_layout(margin=dict(l=0, r=0, t=10, b=0), height=240)\n",
    "\n",
    "headline_table"
   ]
  },
  {
   "cell_type": "markdown",
   "id": "9a2c1e7f",
   "metadata": {},
   "source": [
    "## Panorama nacional\n",
    "\n",
    "\n",
    "\n",
    "Antes de contrastar las regiones foco, revisamos la distribución global para identificar el peso relativo de cada territorio dentro del sistema RNP 2023."
   ]
  },
  {
   "cell_type": "code",
   "execution_count": null,
   "id": "90f624e6",
   "metadata": {},
   "outputs": [
    {
     "data": {
      "application/vnd.plotly.v1+json": {
       "config": {
        "plotlyServerURL": "https://plot.ly"
       },
       "data": [
        {
         "hoverinfo": "skip",
         "line": {
          "color": "#0a9396",
          "width": 2.2
         },
         "mode": "lines",
         "showlegend": false,
         "textfont": {
          "color": "#1e1b18",
          "family": "Georgia, serif",
          "size": 12
         },
         "type": "scatter",
         "x": [
          0,
          72599.662145
         ],
         "y": [
          "Aysén Del Gral. Carlos Ibañez Del Campo",
          "Aysén Del Gral. Carlos Ibañez Del Campo"
         ]
        },
        {
         "cliponaxis": false,
         "customdata": [
          [
           "Aysén Del Gral. Carlos Ibañez Del Campo",
           72599.662145
          ]
         ],
         "hovertemplate": "<b>%{customdata[0]}</b><br>Toneladas: %{customdata[1]:,.0f}<extra></extra>",
         "marker": {
          "color": "#0a9396",
          "line": {
           "color": "#ffffff",
           "width": 1.2
          },
          "size": 12
         },
         "mode": "markers+text",
         "showlegend": false,
         "text": [
          "72.6 mil t"
         ],
         "textfont": {
          "color": "#1e1b18",
          "family": "Georgia, serif",
          "size": 12
         },
         "textposition": "middle right",
         "type": "scatter",
         "x": [
          72599.662145
         ],
         "y": [
          "Aysén Del Gral. Carlos Ibañez Del Campo"
         ]
        },
        {
         "hoverinfo": "skip",
         "line": {
          "color": "#0a9396",
          "width": 2.2
         },
         "mode": "lines",
         "showlegend": false,
         "textfont": {
          "color": "#1e1b18",
          "family": "Georgia, serif",
          "size": 12
         },
         "type": "scatter",
         "x": [
          0,
          89206.803686
         ],
         "y": [
          "Tarapacá",
          "Tarapacá"
         ]
        },
        {
         "cliponaxis": false,
         "customdata": [
          [
           "Tarapacá",
           89206.803686
          ]
         ],
         "hovertemplate": "<b>%{customdata[0]}</b><br>Toneladas: %{customdata[1]:,.0f}<extra></extra>",
         "marker": {
          "color": "#0a9396",
          "line": {
           "color": "#ffffff",
           "width": 1.2
          },
          "size": 12
         },
         "mode": "markers+text",
         "showlegend": false,
         "text": [
          "89.2 mil t"
         ],
         "textfont": {
          "color": "#1e1b18",
          "family": "Georgia, serif",
          "size": 12
         },
         "textposition": "middle right",
         "type": "scatter",
         "x": [
          89206.803686
         ],
         "y": [
          "Tarapacá"
         ]
        },
        {
         "hoverinfo": "skip",
         "line": {
          "color": "#0a9396",
          "width": 2.2
         },
         "mode": "lines",
         "showlegend": false,
         "textfont": {
          "color": "#1e1b18",
          "family": "Georgia, serif",
          "size": 12
         },
         "type": "scatter",
         "x": [
          0,
          93966.3574693
         ],
         "y": [
          "Magallanes Y De La Antártica Chilena",
          "Magallanes Y De La Antártica Chilena"
         ]
        },
        {
         "cliponaxis": false,
         "customdata": [
          [
           "Magallanes Y De La Antártica Chilena",
           93966.3574693
          ]
         ],
         "hovertemplate": "<b>%{customdata[0]}</b><br>Toneladas: %{customdata[1]:,.0f}<extra></extra>",
         "marker": {
          "color": "#0a9396",
          "line": {
           "color": "#ffffff",
           "width": 1.2
          },
          "size": 12
         },
         "mode": "markers+text",
         "showlegend": false,
         "text": [
          "94.0 mil t"
         ],
         "textfont": {
          "color": "#1e1b18",
          "family": "Georgia, serif",
          "size": 12
         },
         "textposition": "middle right",
         "type": "scatter",
         "x": [
          93966.3574693
         ],
         "y": [
          "Magallanes Y De La Antártica Chilena"
         ]
        },
        {
         "hoverinfo": "skip",
         "line": {
          "color": "#0a9396",
          "width": 2.2
         },
         "mode": "lines",
         "showlegend": false,
         "textfont": {
          "color": "#1e1b18",
          "family": "Georgia, serif",
          "size": 12
         },
         "type": "scatter",
         "x": [
          0,
          99040.56568
         ],
         "y": [
          "Coquimbo",
          "Coquimbo"
         ]
        },
        {
         "cliponaxis": false,
         "customdata": [
          [
           "Coquimbo",
           99040.56568
          ]
         ],
         "hovertemplate": "<b>%{customdata[0]}</b><br>Toneladas: %{customdata[1]:,.0f}<extra></extra>",
         "marker": {
          "color": "#0a9396",
          "line": {
           "color": "#ffffff",
           "width": 1.2
          },
          "size": 12
         },
         "mode": "markers+text",
         "showlegend": false,
         "text": [
          "99.0 mil t"
         ],
         "textfont": {
          "color": "#1e1b18",
          "family": "Georgia, serif",
          "size": 12
         },
         "textposition": "middle right",
         "type": "scatter",
         "x": [
          99040.56568
         ],
         "y": [
          "Coquimbo"
         ]
        },
        {
         "hoverinfo": "skip",
         "line": {
          "color": "#0a9396",
          "width": 2.2
         },
         "mode": "lines",
         "showlegend": false,
         "textfont": {
          "color": "#1e1b18",
          "family": "Georgia, serif",
          "size": 12
         },
         "type": "scatter",
         "x": [
          0,
          226883.152421
         ],
         "y": [
          "Ñuble",
          "Ñuble"
         ]
        },
        {
         "cliponaxis": false,
         "customdata": [
          [
           "Ñuble",
           226883.152421
          ]
         ],
         "hovertemplate": "<b>%{customdata[0]}</b><br>Toneladas: %{customdata[1]:,.0f}<extra></extra>",
         "marker": {
          "color": "#0a9396",
          "line": {
           "color": "#ffffff",
           "width": 1.2
          },
          "size": 12
         },
         "mode": "markers+text",
         "showlegend": false,
         "text": [
          "226.9 mil t"
         ],
         "textfont": {
          "color": "#1e1b18",
          "family": "Georgia, serif",
          "size": 12
         },
         "textposition": "middle right",
         "type": "scatter",
         "x": [
          226883.152421
         ],
         "y": [
          "Ñuble"
         ]
        },
        {
         "hoverinfo": "skip",
         "line": {
          "color": "#d62828",
          "width": 2.2
         },
         "mode": "lines",
         "showlegend": false,
         "textfont": {
          "color": "#1e1b18",
          "family": "Georgia, serif",
          "size": 12
         },
         "type": "scatter",
         "x": [
          0,
          241895.6876
         ],
         "y": [
          "Los Ríos",
          "Los Ríos"
         ]
        },
        {
         "cliponaxis": false,
         "customdata": [
          [
           "Los Ríos",
           241895.6876
          ]
         ],
         "hovertemplate": "<b>%{customdata[0]}</b><br>Toneladas: %{customdata[1]:,.0f}<extra></extra>",
         "marker": {
          "color": "#d62828",
          "line": {
           "color": "#ffffff",
           "width": 1.2
          },
          "size": 12
         },
         "mode": "markers+text",
         "showlegend": false,
         "text": [
          "241.9 mil t"
         ],
         "textfont": {
          "color": "#1e1b18",
          "family": "Georgia, serif",
          "size": 12
         },
         "textposition": "middle right",
         "type": "scatter",
         "x": [
          241895.6876
         ],
         "y": [
          "Los Ríos"
         ]
        },
        {
         "hoverinfo": "skip",
         "line": {
          "color": "#0a9396",
          "width": 2.2
         },
         "mode": "lines",
         "showlegend": false,
         "textfont": {
          "color": "#1e1b18",
          "family": "Georgia, serif",
          "size": 12
         },
         "type": "scatter",
         "x": [
          0,
          273386.05124999996
         ],
         "y": [
          "Arica Y Parinacota",
          "Arica Y Parinacota"
         ]
        },
        {
         "cliponaxis": false,
         "customdata": [
          [
           "Arica Y Parinacota",
           273386.05124999996
          ]
         ],
         "hovertemplate": "<b>%{customdata[0]}</b><br>Toneladas: %{customdata[1]:,.0f}<extra></extra>",
         "marker": {
          "color": "#0a9396",
          "line": {
           "color": "#ffffff",
           "width": 1.2
          },
          "size": 12
         },
         "mode": "markers+text",
         "showlegend": false,
         "text": [
          "273.4 mil t"
         ],
         "textfont": {
          "color": "#1e1b18",
          "family": "Georgia, serif",
          "size": 12
         },
         "textposition": "middle right",
         "type": "scatter",
         "x": [
          273386.05124999996
         ],
         "y": [
          "Arica Y Parinacota"
         ]
        },
        {
         "hoverinfo": "skip",
         "line": {
          "color": "#0a9396",
          "width": 2.2
         },
         "mode": "lines",
         "showlegend": false,
         "textfont": {
          "color": "#1e1b18",
          "family": "Georgia, serif",
          "size": 12
         },
         "type": "scatter",
         "x": [
          0,
          334056.545019
         ],
         "y": [
          "Atacama",
          "Atacama"
         ]
        },
        {
         "cliponaxis": false,
         "customdata": [
          [
           "Atacama",
           334056.545019
          ]
         ],
         "hovertemplate": "<b>%{customdata[0]}</b><br>Toneladas: %{customdata[1]:,.0f}<extra></extra>",
         "marker": {
          "color": "#0a9396",
          "line": {
           "color": "#ffffff",
           "width": 1.2
          },
          "size": 12
         },
         "mode": "markers+text",
         "showlegend": false,
         "text": [
          "334.1 mil t"
         ],
         "textfont": {
          "color": "#1e1b18",
          "family": "Georgia, serif",
          "size": 12
         },
         "textposition": "middle right",
         "type": "scatter",
         "x": [
          334056.545019
         ],
         "y": [
          "Atacama"
         ]
        },
        {
         "hoverinfo": "skip",
         "line": {
          "color": "#0a9396",
          "width": 2.2
         },
         "mode": "lines",
         "showlegend": false,
         "textfont": {
          "color": "#1e1b18",
          "family": "Georgia, serif",
          "size": 12
         },
         "type": "scatter",
         "x": [
          0,
          423147.5632019
         ],
         "y": [
          "Maule",
          "Maule"
         ]
        },
        {
         "cliponaxis": false,
         "customdata": [
          [
           "Maule",
           423147.5632019
          ]
         ],
         "hovertemplate": "<b>%{customdata[0]}</b><br>Toneladas: %{customdata[1]:,.0f}<extra></extra>",
         "marker": {
          "color": "#0a9396",
          "line": {
           "color": "#ffffff",
           "width": 1.2
          },
          "size": 12
         },
         "mode": "markers+text",
         "showlegend": false,
         "text": [
          "423.1 mil t"
         ],
         "textfont": {
          "color": "#1e1b18",
          "family": "Georgia, serif",
          "size": 12
         },
         "textposition": "middle right",
         "type": "scatter",
         "x": [
          423147.5632019
         ],
         "y": [
          "Maule"
         ]
        },
        {
         "hoverinfo": "skip",
         "line": {
          "color": "#0a9396",
          "width": 2.2
         },
         "mode": "lines",
         "showlegend": false,
         "textfont": {
          "color": "#1e1b18",
          "family": "Georgia, serif",
          "size": 12
         },
         "type": "scatter",
         "x": [
          0,
          436916.481247
         ],
         "y": [
          "Valparaíso",
          "Valparaíso"
         ]
        },
        {
         "cliponaxis": false,
         "customdata": [
          [
           "Valparaíso",
           436916.481247
          ]
         ],
         "hovertemplate": "<b>%{customdata[0]}</b><br>Toneladas: %{customdata[1]:,.0f}<extra></extra>",
         "marker": {
          "color": "#0a9396",
          "line": {
           "color": "#ffffff",
           "width": 1.2
          },
          "size": 12
         },
         "mode": "markers+text",
         "showlegend": false,
         "text": [
          "436.9 mil t"
         ],
         "textfont": {
          "color": "#1e1b18",
          "family": "Georgia, serif",
          "size": 12
         },
         "textposition": "middle right",
         "type": "scatter",
         "x": [
          436916.481247
         ],
         "y": [
          "Valparaíso"
         ]
        },
        {
         "hoverinfo": "skip",
         "line": {
          "color": "#0a9396",
          "width": 2.2
         },
         "mode": "lines",
         "showlegend": false,
         "textfont": {
          "color": "#1e1b18",
          "family": "Georgia, serif",
          "size": 12
         },
         "type": "scatter",
         "x": [
          0,
          615331.380841
         ],
         "y": [
          "Araucanía",
          "Araucanía"
         ]
        },
        {
         "cliponaxis": false,
         "customdata": [
          [
           "Araucanía",
           615331.380841
          ]
         ],
         "hovertemplate": "<b>%{customdata[0]}</b><br>Toneladas: %{customdata[1]:,.0f}<extra></extra>",
         "marker": {
          "color": "#0a9396",
          "line": {
           "color": "#ffffff",
           "width": 1.2
          },
          "size": 12
         },
         "mode": "markers+text",
         "showlegend": false,
         "text": [
          "615.3 mil t"
         ],
         "textfont": {
          "color": "#1e1b18",
          "family": "Georgia, serif",
          "size": 12
         },
         "textposition": "middle right",
         "type": "scatter",
         "x": [
          615331.380841
         ],
         "y": [
          "Araucanía"
         ]
        },
        {
         "hoverinfo": "skip",
         "line": {
          "color": "#0a9396",
          "width": 2.2
         },
         "mode": "lines",
         "showlegend": false,
         "textfont": {
          "color": "#1e1b18",
          "family": "Georgia, serif",
          "size": 12
         },
         "type": "scatter",
         "x": [
          0,
          747730.01708301
         ],
         "y": [
          "Los Lagos",
          "Los Lagos"
         ]
        },
        {
         "cliponaxis": false,
         "customdata": [
          [
           "Los Lagos",
           747730.01708301
          ]
         ],
         "hovertemplate": "<b>%{customdata[0]}</b><br>Toneladas: %{customdata[1]:,.0f}<extra></extra>",
         "marker": {
          "color": "#0a9396",
          "line": {
           "color": "#ffffff",
           "width": 1.2
          },
          "size": 12
         },
         "mode": "markers+text",
         "showlegend": false,
         "text": [
          "747.7 mil t"
         ],
         "textfont": {
          "color": "#1e1b18",
          "family": "Georgia, serif",
          "size": 12
         },
         "textposition": "middle right",
         "type": "scatter",
         "x": [
          747730.01708301
         ],
         "y": [
          "Los Lagos"
         ]
        },
        {
         "hoverinfo": "skip",
         "line": {
          "color": "#0a9396",
          "width": 2.2
         },
         "mode": "lines",
         "showlegend": false,
         "textfont": {
          "color": "#1e1b18",
          "family": "Georgia, serif",
          "size": 12
         },
         "type": "scatter",
         "x": [
          0,
          788716.049854
         ],
         "y": [
          "Libertador Gral. Bernardo O'Higgins",
          "Libertador Gral. Bernardo O'Higgins"
         ]
        },
        {
         "cliponaxis": false,
         "customdata": [
          [
           "Libertador Gral. Bernardo O'Higgins",
           788716.049854
          ]
         ],
         "hovertemplate": "<b>%{customdata[0]}</b><br>Toneladas: %{customdata[1]:,.0f}<extra></extra>",
         "marker": {
          "color": "#0a9396",
          "line": {
           "color": "#ffffff",
           "width": 1.2
          },
          "size": 12
         },
         "mode": "markers+text",
         "showlegend": false,
         "text": [
          "788.7 mil t"
         ],
         "textfont": {
          "color": "#1e1b18",
          "family": "Georgia, serif",
          "size": 12
         },
         "textposition": "middle right",
         "type": "scatter",
         "x": [
          788716.049854
         ],
         "y": [
          "Libertador Gral. Bernardo O'Higgins"
         ]
        },
        {
         "hoverinfo": "skip",
         "line": {
          "color": "#0a9396",
          "width": 2.2
         },
         "mode": "lines",
         "showlegend": false,
         "textfont": {
          "color": "#1e1b18",
          "family": "Georgia, serif",
          "size": 12
         },
         "type": "scatter",
         "x": [
          0,
          1272967.67979
         ],
         "y": [
          "Biobío",
          "Biobío"
         ]
        },
        {
         "cliponaxis": false,
         "customdata": [
          [
           "Biobío",
           1272967.67979
          ]
         ],
         "hovertemplate": "<b>%{customdata[0]}</b><br>Toneladas: %{customdata[1]:,.0f}<extra></extra>",
         "marker": {
          "color": "#0a9396",
          "line": {
           "color": "#ffffff",
           "width": 1.2
          },
          "size": 12
         },
         "mode": "markers+text",
         "showlegend": false,
         "text": [
          "1.3 millones t"
         ],
         "textfont": {
          "color": "#1e1b18",
          "family": "Georgia, serif",
          "size": 12
         },
         "textposition": "middle right",
         "type": "scatter",
         "x": [
          1272967.67979
         ],
         "y": [
          "Biobío"
         ]
        },
        {
         "hoverinfo": "skip",
         "line": {
          "color": "#0a9396",
          "width": 2.2
         },
         "mode": "lines",
         "showlegend": false,
         "textfont": {
          "color": "#1e1b18",
          "family": "Georgia, serif",
          "size": 12
         },
         "type": "scatter",
         "x": [
          0,
          1708948.31545536
         ],
         "y": [
          "Antofagasta",
          "Antofagasta"
         ]
        },
        {
         "cliponaxis": false,
         "customdata": [
          [
           "Antofagasta",
           1708948.31545536
          ]
         ],
         "hovertemplate": "<b>%{customdata[0]}</b><br>Toneladas: %{customdata[1]:,.0f}<extra></extra>",
         "marker": {
          "color": "#0a9396",
          "line": {
           "color": "#ffffff",
           "width": 1.2
          },
          "size": 12
         },
         "mode": "markers+text",
         "showlegend": false,
         "text": [
          "1.7 millones t"
         ],
         "textfont": {
          "color": "#1e1b18",
          "family": "Georgia, serif",
          "size": 12
         },
         "textposition": "middle right",
         "type": "scatter",
         "x": [
          1708948.31545536
         ],
         "y": [
          "Antofagasta"
         ]
        },
        {
         "hoverinfo": "skip",
         "line": {
          "color": "#0a9396",
          "width": 2.2
         },
         "mode": "lines",
         "showlegend": false,
         "textfont": {
          "color": "#1e1b18",
          "family": "Georgia, serif",
          "size": 12
         },
         "type": "scatter",
         "x": [
          0,
          2945986.601587146
         ],
         "y": [
          "Metropolitana De Santiago",
          "Metropolitana De Santiago"
         ]
        },
        {
         "cliponaxis": false,
         "customdata": [
          [
           "Metropolitana De Santiago",
           2945986.601587146
          ]
         ],
         "hovertemplate": "<b>%{customdata[0]}</b><br>Toneladas: %{customdata[1]:,.0f}<extra></extra>",
         "marker": {
          "color": "#0a9396",
          "line": {
           "color": "#ffffff",
           "width": 1.2
          },
          "size": 12
         },
         "mode": "markers+text",
         "showlegend": false,
         "text": [
          "2.9 millones t"
         ],
         "textfont": {
          "color": "#1e1b18",
          "family": "Georgia, serif",
          "size": 12
         },
         "textposition": "middle right",
         "type": "scatter",
         "x": [
          2945986.601587146
         ],
         "y": [
          "Metropolitana De Santiago"
         ]
        }
       ],
       "layout": {
        "font": {
         "color": "#1e1b18",
         "family": "Georgia, serif",
         "size": 15
        },
        "height": 720,
        "hoverlabel": {
         "bgcolor": "#ffffff",
         "font": {
          "color": "#1e1b18",
          "family": "Georgia, serif"
         }
        },
        "margin": {
         "b": 60,
         "l": 180,
         "r": 140,
         "t": 120
        },
        "paper_bgcolor": "#f7f2ea",
        "plot_bgcolor": "#f7f2ea",
        "shapes": [
         {
          "line": {
           "color": "#c9c1b4",
           "width": 1.2
          },
          "type": "line",
          "x0": 0,
          "x1": 0,
          "xref": "x",
          "y0": -0.08,
          "y1": 1.05,
          "yref": "paper"
         },
         {
          "line": {
           "color": "#d62828",
           "width": 4
          },
          "type": "line",
          "x0": -0.3,
          "x1": 0.82,
          "xref": "paper",
          "y0": 1.08,
          "y1": 1.08,
          "yref": "paper"
         }
        ],
        "template": {
         "data": {
          "bar": [
           {
            "error_x": {
             "color": "#2a3f5f"
            },
            "error_y": {
             "color": "#2a3f5f"
            },
            "marker": {
             "line": {
              "color": "white",
              "width": 0.5
             },
             "pattern": {
              "fillmode": "overlay",
              "size": 10,
              "solidity": 0.2
             }
            },
            "type": "bar"
           }
          ],
          "barpolar": [
           {
            "marker": {
             "line": {
              "color": "white",
              "width": 0.5
             },
             "pattern": {
              "fillmode": "overlay",
              "size": 10,
              "solidity": 0.2
             }
            },
            "type": "barpolar"
           }
          ],
          "carpet": [
           {
            "aaxis": {
             "endlinecolor": "#2a3f5f",
             "gridcolor": "#C8D4E3",
             "linecolor": "#C8D4E3",
             "minorgridcolor": "#C8D4E3",
             "startlinecolor": "#2a3f5f"
            },
            "baxis": {
             "endlinecolor": "#2a3f5f",
             "gridcolor": "#C8D4E3",
             "linecolor": "#C8D4E3",
             "minorgridcolor": "#C8D4E3",
             "startlinecolor": "#2a3f5f"
            },
            "type": "carpet"
           }
          ],
          "choropleth": [
           {
            "colorbar": {
             "outlinewidth": 0,
             "ticks": ""
            },
            "type": "choropleth"
           }
          ],
          "contour": [
           {
            "colorbar": {
             "outlinewidth": 0,
             "ticks": ""
            },
            "colorscale": [
             [
              0,
              "#0d0887"
             ],
             [
              0.1111111111111111,
              "#46039f"
             ],
             [
              0.2222222222222222,
              "#7201a8"
             ],
             [
              0.3333333333333333,
              "#9c179e"
             ],
             [
              0.4444444444444444,
              "#bd3786"
             ],
             [
              0.5555555555555556,
              "#d8576b"
             ],
             [
              0.6666666666666666,
              "#ed7953"
             ],
             [
              0.7777777777777778,
              "#fb9f3a"
             ],
             [
              0.8888888888888888,
              "#fdca26"
             ],
             [
              1,
              "#f0f921"
             ]
            ],
            "type": "contour"
           }
          ],
          "contourcarpet": [
           {
            "colorbar": {
             "outlinewidth": 0,
             "ticks": ""
            },
            "type": "contourcarpet"
           }
          ],
          "heatmap": [
           {
            "colorbar": {
             "outlinewidth": 0,
             "ticks": ""
            },
            "colorscale": [
             [
              0,
              "#0d0887"
             ],
             [
              0.1111111111111111,
              "#46039f"
             ],
             [
              0.2222222222222222,
              "#7201a8"
             ],
             [
              0.3333333333333333,
              "#9c179e"
             ],
             [
              0.4444444444444444,
              "#bd3786"
             ],
             [
              0.5555555555555556,
              "#d8576b"
             ],
             [
              0.6666666666666666,
              "#ed7953"
             ],
             [
              0.7777777777777778,
              "#fb9f3a"
             ],
             [
              0.8888888888888888,
              "#fdca26"
             ],
             [
              1,
              "#f0f921"
             ]
            ],
            "type": "heatmap"
           }
          ],
          "heatmapgl": [
           {
            "colorbar": {
             "outlinewidth": 0,
             "ticks": ""
            },
            "colorscale": [
             [
              0,
              "#0d0887"
             ],
             [
              0.1111111111111111,
              "#46039f"
             ],
             [
              0.2222222222222222,
              "#7201a8"
             ],
             [
              0.3333333333333333,
              "#9c179e"
             ],
             [
              0.4444444444444444,
              "#bd3786"
             ],
             [
              0.5555555555555556,
              "#d8576b"
             ],
             [
              0.6666666666666666,
              "#ed7953"
             ],
             [
              0.7777777777777778,
              "#fb9f3a"
             ],
             [
              0.8888888888888888,
              "#fdca26"
             ],
             [
              1,
              "#f0f921"
             ]
            ],
            "type": "heatmapgl"
           }
          ],
          "histogram": [
           {
            "marker": {
             "pattern": {
              "fillmode": "overlay",
              "size": 10,
              "solidity": 0.2
             }
            },
            "type": "histogram"
           }
          ],
          "histogram2d": [
           {
            "colorbar": {
             "outlinewidth": 0,
             "ticks": ""
            },
            "colorscale": [
             [
              0,
              "#0d0887"
             ],
             [
              0.1111111111111111,
              "#46039f"
             ],
             [
              0.2222222222222222,
              "#7201a8"
             ],
             [
              0.3333333333333333,
              "#9c179e"
             ],
             [
              0.4444444444444444,
              "#bd3786"
             ],
             [
              0.5555555555555556,
              "#d8576b"
             ],
             [
              0.6666666666666666,
              "#ed7953"
             ],
             [
              0.7777777777777778,
              "#fb9f3a"
             ],
             [
              0.8888888888888888,
              "#fdca26"
             ],
             [
              1,
              "#f0f921"
             ]
            ],
            "type": "histogram2d"
           }
          ],
          "histogram2dcontour": [
           {
            "colorbar": {
             "outlinewidth": 0,
             "ticks": ""
            },
            "colorscale": [
             [
              0,
              "#0d0887"
             ],
             [
              0.1111111111111111,
              "#46039f"
             ],
             [
              0.2222222222222222,
              "#7201a8"
             ],
             [
              0.3333333333333333,
              "#9c179e"
             ],
             [
              0.4444444444444444,
              "#bd3786"
             ],
             [
              0.5555555555555556,
              "#d8576b"
             ],
             [
              0.6666666666666666,
              "#ed7953"
             ],
             [
              0.7777777777777778,
              "#fb9f3a"
             ],
             [
              0.8888888888888888,
              "#fdca26"
             ],
             [
              1,
              "#f0f921"
             ]
            ],
            "type": "histogram2dcontour"
           }
          ],
          "mesh3d": [
           {
            "colorbar": {
             "outlinewidth": 0,
             "ticks": ""
            },
            "type": "mesh3d"
           }
          ],
          "parcoords": [
           {
            "line": {
             "colorbar": {
              "outlinewidth": 0,
              "ticks": ""
             }
            },
            "type": "parcoords"
           }
          ],
          "pie": [
           {
            "automargin": true,
            "type": "pie"
           }
          ],
          "scatter": [
           {
            "fillpattern": {
             "fillmode": "overlay",
             "size": 10,
             "solidity": 0.2
            },
            "type": "scatter"
           }
          ],
          "scatter3d": [
           {
            "line": {
             "colorbar": {
              "outlinewidth": 0,
              "ticks": ""
             }
            },
            "marker": {
             "colorbar": {
              "outlinewidth": 0,
              "ticks": ""
             }
            },
            "type": "scatter3d"
           }
          ],
          "scattercarpet": [
           {
            "marker": {
             "colorbar": {
              "outlinewidth": 0,
              "ticks": ""
             }
            },
            "type": "scattercarpet"
           }
          ],
          "scattergeo": [
           {
            "marker": {
             "colorbar": {
              "outlinewidth": 0,
              "ticks": ""
             }
            },
            "type": "scattergeo"
           }
          ],
          "scattergl": [
           {
            "marker": {
             "colorbar": {
              "outlinewidth": 0,
              "ticks": ""
             }
            },
            "type": "scattergl"
           }
          ],
          "scattermapbox": [
           {
            "marker": {
             "colorbar": {
              "outlinewidth": 0,
              "ticks": ""
             }
            },
            "type": "scattermapbox"
           }
          ],
          "scatterpolar": [
           {
            "marker": {
             "colorbar": {
              "outlinewidth": 0,
              "ticks": ""
             }
            },
            "type": "scatterpolar"
           }
          ],
          "scatterpolargl": [
           {
            "marker": {
             "colorbar": {
              "outlinewidth": 0,
              "ticks": ""
             }
            },
            "type": "scatterpolargl"
           }
          ],
          "scatterternary": [
           {
            "marker": {
             "colorbar": {
              "outlinewidth": 0,
              "ticks": ""
             }
            },
            "type": "scatterternary"
           }
          ],
          "surface": [
           {
            "colorbar": {
             "outlinewidth": 0,
             "ticks": ""
            },
            "colorscale": [
             [
              0,
              "#0d0887"
             ],
             [
              0.1111111111111111,
              "#46039f"
             ],
             [
              0.2222222222222222,
              "#7201a8"
             ],
             [
              0.3333333333333333,
              "#9c179e"
             ],
             [
              0.4444444444444444,
              "#bd3786"
             ],
             [
              0.5555555555555556,
              "#d8576b"
             ],
             [
              0.6666666666666666,
              "#ed7953"
             ],
             [
              0.7777777777777778,
              "#fb9f3a"
             ],
             [
              0.8888888888888888,
              "#fdca26"
             ],
             [
              1,
              "#f0f921"
             ]
            ],
            "type": "surface"
           }
          ],
          "table": [
           {
            "cells": {
             "fill": {
              "color": "#EBF0F8"
             },
             "line": {
              "color": "white"
             }
            },
            "header": {
             "fill": {
              "color": "#C8D4E3"
             },
             "line": {
              "color": "white"
             }
            },
            "type": "table"
           }
          ]
         },
         "layout": {
          "annotationdefaults": {
           "arrowcolor": "#2a3f5f",
           "arrowhead": 0,
           "arrowwidth": 1
          },
          "autotypenumbers": "strict",
          "coloraxis": {
           "colorbar": {
            "outlinewidth": 0,
            "ticks": ""
           }
          },
          "colorscale": {
           "diverging": [
            [
             0,
             "#8e0152"
            ],
            [
             0.1,
             "#c51b7d"
            ],
            [
             0.2,
             "#de77ae"
            ],
            [
             0.3,
             "#f1b6da"
            ],
            [
             0.4,
             "#fde0ef"
            ],
            [
             0.5,
             "#f7f7f7"
            ],
            [
             0.6,
             "#e6f5d0"
            ],
            [
             0.7,
             "#b8e186"
            ],
            [
             0.8,
             "#7fbc41"
            ],
            [
             0.9,
             "#4d9221"
            ],
            [
             1,
             "#276419"
            ]
           ],
           "sequential": [
            [
             0,
             "#0d0887"
            ],
            [
             0.1111111111111111,
             "#46039f"
            ],
            [
             0.2222222222222222,
             "#7201a8"
            ],
            [
             0.3333333333333333,
             "#9c179e"
            ],
            [
             0.4444444444444444,
             "#bd3786"
            ],
            [
             0.5555555555555556,
             "#d8576b"
            ],
            [
             0.6666666666666666,
             "#ed7953"
            ],
            [
             0.7777777777777778,
             "#fb9f3a"
            ],
            [
             0.8888888888888888,
             "#fdca26"
            ],
            [
             1,
             "#f0f921"
            ]
           ],
           "sequentialminus": [
            [
             0,
             "#0d0887"
            ],
            [
             0.1111111111111111,
             "#46039f"
            ],
            [
             0.2222222222222222,
             "#7201a8"
            ],
            [
             0.3333333333333333,
             "#9c179e"
            ],
            [
             0.4444444444444444,
             "#bd3786"
            ],
            [
             0.5555555555555556,
             "#d8576b"
            ],
            [
             0.6666666666666666,
             "#ed7953"
            ],
            [
             0.7777777777777778,
             "#fb9f3a"
            ],
            [
             0.8888888888888888,
             "#fdca26"
            ],
            [
             1,
             "#f0f921"
            ]
           ]
          },
          "colorway": [
           "#636efa",
           "#EF553B",
           "#00cc96",
           "#ab63fa",
           "#FFA15A",
           "#19d3f3",
           "#FF6692",
           "#B6E880",
           "#FF97FF",
           "#FECB52"
          ],
          "font": {
           "color": "#2a3f5f"
          },
          "geo": {
           "bgcolor": "white",
           "lakecolor": "white",
           "landcolor": "white",
           "showlakes": true,
           "showland": true,
           "subunitcolor": "#C8D4E3"
          },
          "hoverlabel": {
           "align": "left"
          },
          "hovermode": "closest",
          "mapbox": {
           "style": "light"
          },
          "paper_bgcolor": "white",
          "plot_bgcolor": "white",
          "polar": {
           "angularaxis": {
            "gridcolor": "#EBF0F8",
            "linecolor": "#EBF0F8",
            "ticks": ""
           },
           "bgcolor": "white",
           "radialaxis": {
            "gridcolor": "#EBF0F8",
            "linecolor": "#EBF0F8",
            "ticks": ""
           }
          },
          "scene": {
           "xaxis": {
            "backgroundcolor": "white",
            "gridcolor": "#DFE8F3",
            "gridwidth": 2,
            "linecolor": "#EBF0F8",
            "showbackground": true,
            "ticks": "",
            "zerolinecolor": "#EBF0F8"
           },
           "yaxis": {
            "backgroundcolor": "white",
            "gridcolor": "#DFE8F3",
            "gridwidth": 2,
            "linecolor": "#EBF0F8",
            "showbackground": true,
            "ticks": "",
            "zerolinecolor": "#EBF0F8"
           },
           "zaxis": {
            "backgroundcolor": "white",
            "gridcolor": "#DFE8F3",
            "gridwidth": 2,
            "linecolor": "#EBF0F8",
            "showbackground": true,
            "ticks": "",
            "zerolinecolor": "#EBF0F8"
           }
          },
          "shapedefaults": {
           "line": {
            "color": "#2a3f5f"
           }
          },
          "ternary": {
           "aaxis": {
            "gridcolor": "#DFE8F3",
            "linecolor": "#A2B1C6",
            "ticks": ""
           },
           "baxis": {
            "gridcolor": "#DFE8F3",
            "linecolor": "#A2B1C6",
            "ticks": ""
           },
           "bgcolor": "white",
           "caxis": {
            "gridcolor": "#DFE8F3",
            "linecolor": "#A2B1C6",
            "ticks": ""
           }
          },
          "title": {
           "x": 0.05
          },
          "xaxis": {
           "automargin": true,
           "gridcolor": "#EBF0F8",
           "linecolor": "#EBF0F8",
           "ticks": "",
           "title": {
            "standoff": 15
           },
           "zerolinecolor": "#EBF0F8",
           "zerolinewidth": 2
          },
          "yaxis": {
           "automargin": true,
           "gridcolor": "#EBF0F8",
           "linecolor": "#EBF0F8",
           "ticks": "",
           "title": {
            "standoff": 15
           },
           "zerolinecolor": "#EBF0F8",
           "zerolinewidth": 2
          }
         }
        },
        "title": {
         "font": {
          "color": "#1e1b18",
          "family": "Georgia, serif",
          "size": 24
         },
         "text": "Toneladas declaradas por región",
         "x": 0.02,
         "y": 0.94
        },
        "width": 1200,
        "xaxis": {
         "gridcolor": "#d9d3c5",
         "griddash": "dot",
         "range": [
          0,
          3240585.261745861
         ],
         "showgrid": true,
         "tickfont": {
          "color": "#1e1b18",
          "family": "Georgia, serif",
          "size": 12
         },
         "title": {
          "font": {
           "color": "#1e1b18",
           "family": "Georgia, serif",
           "size": 14
          },
          "text": "Toneladas"
         },
         "zeroline": false
        },
        "yaxis": {
         "categoryarray": [
          "Aysén Del Gral. Carlos Ibañez Del Campo",
          "Tarapacá",
          "Magallanes Y De La Antártica Chilena",
          "Coquimbo",
          "Ñuble",
          "Los Ríos",
          "Arica Y Parinacota",
          "Atacama",
          "Maule",
          "Valparaíso",
          "Araucanía",
          "Los Lagos",
          "Libertador Gral. Bernardo O'Higgins",
          "Biobío",
          "Antofagasta",
          "Metropolitana De Santiago"
         ],
         "categoryorder": "array",
         "showgrid": false,
         "tickfont": {
          "color": "#1e1b18",
          "family": "Georgia, serif",
          "size": 12
         },
         "title": {
          "text": ""
         },
         "zeroline": false
        }
       }
      }
     },
     "metadata": {},
     "output_type": "display_data"
    }
   ],
   "source": [
    "national_region_plot = (\n",
    "    region_df.copy().sort_values(\"toneladas_sum\", ascending=True).reset_index(drop=True)\n",
    ")\n",
    "\n",
    "national_region_plot[\"label\"] = national_region_plot[\"toneladas_sum\"].apply(humanize_tonnes)\n",
    "\n",
    "highlight_region = \"Los Ríos\" if \"Los Ríos\" in national_region_plot[\"region\"].values else None\n",
    "highlight_color = \"#d62828\"\n",
    "neutral_color = \"#0a9396\"\n",
    "\n",
    "national_fig = go.Figure()\n",
    "\n",
    "for _, row in national_region_plot.iterrows():\n",
    "    color = highlight_color if row[\"region\"] == highlight_region else neutral_color\n",
    "    national_fig.add_trace(\n",
    "        go.Scatter(\n",
    "            x=[0, row[\"toneladas_sum\"]],\n",
    "            y=[row[\"region\"], row[\"region\"]],\n",
    "            mode=\"lines\",\n",
    "            line=dict(color=color, width=2.2),\n",
    "            hoverinfo=\"skip\",\n",
    "            showlegend=False,\n",
    "        )\n",
    "    )\n",
    "    national_fig.add_trace(\n",
    "        go.Scatter(\n",
    "            x=[row[\"toneladas_sum\"]],\n",
    "            y=[row[\"region\"]],\n",
    "            mode=\"markers+text\",\n",
    "            marker=dict(color=color, size=12, line=dict(color=\"#ffffff\", width=1.2)),\n",
    "            text=[row[\"label\"]],\n",
    "            textposition=\"middle right\",\n",
    "            textfont=dict(family=ECONOMIST_FONT, size=12, color=\"#1e1b18\"),\n",
    "            hovertemplate=(\"<b>%{customdata[0]}</b><br>Toneladas: %{customdata[1]:,.0f}<extra></extra>\"),\n",
    "            customdata=[[row[\"region\"], row[\"toneladas_sum\"]]],\n",
    "            cliponaxis=False,\n",
    "            showlegend=False,\n",
    "        )\n",
    "    )\n",
    "\n",
    "background_color = \"#f7f2ea\"\n",
    "grid_color = \"#d9d3c5\"\n",
    "text_color = \"#1e1b18\"\n",
    "\n",
    "max_value = national_region_plot[\"toneladas_sum\"].max()\n",
    "x_padding = max_value * 0.1 if max_value else 1\n",
    "\n",
    "underline_x0 = -0.30  # Extiende el subrayado hacia la izquierda\n",
    "underline_x1 = 0.82   # Ajusta este valor para el final del subrayado\n",
    "underline_y = 1.08    # Ajusta este valor para acercar o alejar la línea del título\n",
    "\n",
    "national_fig.update_layout(\n",
    "    template=\"plotly_white\",\n",
    "    title=dict(\n",
    "        text=\"Toneladas declaradas por región\",\n",
    "        font=dict(family=ECONOMIST_FONT, size=24, color=text_color),\n",
    "        x=0.02,\n",
    "        y=0.94,\n",
    "    ),\n",
    "    font=dict(family=ECONOMIST_FONT, size=15, color=text_color),\n",
    "    plot_bgcolor=background_color,\n",
    "    paper_bgcolor=background_color,\n",
    "    margin=dict(l=180, r=140, t=120, b=60),\n",
    "    hoverlabel=dict(bgcolor=\"#ffffff\", font=dict(family=ECONOMIST_FONT, color=text_color)),\n",
    "    width=1200,\n",
    "    height=720,\n",
    "    shapes=[\n",
    "        dict(\n",
    "            type=\"line\",\n",
    "            x0=0,\n",
    "            x1=0,\n",
    "            y0=-0.08,\n",
    "            y1=1.05,\n",
    "            xref=\"x\",\n",
    "            yref=\"paper\",\n",
    "            line=dict(color=\"#c9c1b4\", width=1.2)\n",
    "        ),\n",
    "        dict(\n",
    "            type=\"line\",\n",
    "            x0=underline_x0,\n",
    "            x1=underline_x1,\n",
    "            y0=underline_y,\n",
    "            y1=underline_y,\n",
    "            xref=\"paper\",\n",
    "            yref=\"paper\",\n",
    "            line=dict(color=highlight_color, width=4)\n",
    "        ),\n",
    "    ],\n",
    ")\n",
    "\n",
    "national_fig.update_layout(\n",
    "    xaxis=dict(\n",
    "        title=dict(text=\"Toneladas\", font=dict(family=ECONOMIST_FONT, size=14, color=text_color)),\n",
    "        showgrid=True,\n",
    "        gridcolor=grid_color,\n",
    "        griddash=\"dot\",\n",
    "        zeroline=False,\n",
    "        tickfont=dict(family=ECONOMIST_FONT, size=12, color=text_color),\n",
    "        range=[0, max_value + x_padding],\n",
    "    ),\n",
    "    yaxis=dict(\n",
    "        title=\"\",\n",
    "        tickfont=dict(family=ECONOMIST_FONT, size=12, color=text_color),\n",
    "        showgrid=False,\n",
    "        zeroline=False,\n",
    "        categoryorder=\"array\",\n",
    "        categoryarray=national_region_plot[\"region\"].tolist(),\n",
    "    ),\n",
    ")\n",
    "\n",
    "national_fig.update_traces(textfont=dict(family=ECONOMIST_FONT, size=12, color=text_color))\n",
    "\n",
    "national_fig"
   ]
  },
  {
   "cell_type": "code",
   "execution_count": null,
   "id": "73b78d26",
   "metadata": {},
   "outputs": [
    {
     "data": {
      "text/markdown": [
       "\n",
       "\n",
       "Metropolitana lidera con **2.9 millones t**, seguida por Biobío (**1.7 millones t**).\n",
       "\n",
       "Los Ríos se ubica en el lugar 11 del ranking nacional, con **241.9 mil t**.\n",
       "\n"
      ],
      "text/plain": [
       "<IPython.core.display.Markdown object>"
      ]
     },
     "metadata": {},
     "output_type": "display_data"
    }
   ],
   "source": [
    "top_national_regions = national_region_plot.sort_values(\"toneladas_sum\", ascending=False).reset_index(drop=True)\n",
    "\n",
    "los_rios_rank = (\n",
    "\n",
    "    top_national_regions.index[top_national_regions[\"region\"] == \"Los Ríos\"].tolist()[0] + 1\n",
    "\n",
    ")\n",
    "\n",
    "los_rios_value = top_national_regions.loc[\n",
    "\n",
    "    top_national_regions[\"region\"] == \"Los Ríos\", \"toneladas_sum\"\n",
    "\n",
    "].iloc[0]\n",
    "\n",
    "\n",
    "\n",
    "Markdown(\n",
    "\n",
    "    f\"\"\"\n",
    "\n",
    "Metropolitana lidera con **{humanize_tonnes(top_national_regions.iloc[0]['toneladas_sum'])}**, seguida por Biobío (**{humanize_tonnes(top_national_regions.iloc[1]['toneladas_sum'])}**).\n",
    "\n",
    "Los Ríos se ubica en el lugar {los_rios_rank} del ranking nacional, con **{humanize_tonnes(los_rios_value)}**.\n",
    "\n",
    "\"\"\"\n",
    "\n",
    ")"
   ]
  },
  {
   "cell_type": "markdown",
   "id": "9f0bfaff",
   "metadata": {},
   "source": [
    "## Geografía de la generación\n",
    "\n",
    "\n",
    "\n",
    "Contrastamos las cinco regiones prioritarias (Los Ríos, Biobío, Metropolitana, Los Lagos y Araucanía) para dimensionar la posición relativa de Los Ríos dentro del bloque sur-centro."
   ]
  },
  {
   "cell_type": "code",
   "execution_count": null,
   "id": "16073522",
   "metadata": {},
   "outputs": [
    {
     "data": {
      "text/markdown": [
       "\n",
       "\n",
       "Los Ríos declara **241.9 mil t**, muy por debajo de Biobío (**1.3 millones t**) y de Metropolitana (**2.9 millones t**),\n",
       "\n",
       "pero sigue siendo un actor regional relevante cuyo crecimiento podría cerrar parcialmente la brecha con Araucanía (**615.3 mil t**) y Los Lagos (**747.7 mil t**).\n",
       "\n"
      ],
      "text/plain": [
       "<IPython.core.display.Markdown object>"
      ]
     },
     "metadata": {},
     "output_type": "display_data"
    }
   ],
   "source": [
    "focus_region_stats = (\n",
    "\n",
    "    focus_region_df.set_index(\"region\")[\"toneladas_sum\"].apply(humanize_tonnes)\n",
    "\n",
    ")\n",
    "\n",
    "\n",
    "\n",
    "Markdown(\n",
    "\n",
    "    f\"\"\"\n",
    "\n",
    "Los Ríos declara **{focus_region_stats['Los Ríos']}**, muy por debajo de Biobío (**{focus_region_stats['Biobío']}**) y de Metropolitana (**{focus_region_stats['Metropolitana De Santiago']}**),\n",
    "\n",
    "pero sigue siendo un actor regional relevante cuyo crecimiento podría cerrar parcialmente la brecha con Araucanía (**{focus_region_stats['Araucanía']}**) y Los Lagos (**{focus_region_stats['Los Lagos']}**).\n",
    "\n",
    "\"\"\"\n",
    "\n",
    ")"
   ]
  },
  {
   "cell_type": "markdown",
   "id": "0780de5e",
   "metadata": {},
   "source": [
    "## Mezcla de tratamientos\n",
    "\n",
    "\n",
    "\n",
    "El bloque comparativo permite evaluar si Los Ríos mantiene un patrón de gestión similar a Biobío, Metropolitana, Los Lagos y Araucanía o si abre espacio para estrategias diferenciadas."
   ]
  },
  {
   "cell_type": "code",
   "execution_count": 49,
   "id": "7e58de66",
   "metadata": {},
   "outputs": [
    {
     "data": {
      "application/vnd.plotly.v1+json": {
       "config": {
        "plotlyServerURL": "https://plot.ly"
       },
       "data": [
        {
         "hovertemplate": "tratamiento_nivel_1=%{y}<br>share_pct=%{x}<br>label=%{text}<extra></extra>",
         "legendgroup": "Recolección",
         "marker": {
          "color": "#005f73",
          "line": {
           "color": "#0f172a",
           "width": 0.4
          },
          "pattern": {
           "shape": ""
          }
         },
         "name": "Recolección",
         "orientation": "h",
         "showlegend": true,
         "text": [
          "3.7%"
         ],
         "textposition": "outside",
         "type": "bar",
         "x": {
          "bdata": "bVjpZp/NDUA=",
          "dtype": "f8"
         },
         "xaxis": "x",
         "y": [
          "Recolección"
         ],
         "yaxis": "y"
        },
        {
         "hovertemplate": "tratamiento_nivel_1=%{y}<br>share_pct=%{x}<br>label=%{text}<extra></extra>",
         "legendgroup": "Valorización",
         "marker": {
          "color": "#0a9396",
          "line": {
           "color": "#0f172a",
           "width": 0.4
          },
          "pattern": {
           "shape": ""
          }
         },
         "name": "Valorización",
         "orientation": "h",
         "showlegend": true,
         "text": [
          "39.0%"
         ],
         "textposition": "outside",
         "type": "bar",
         "x": {
          "bdata": "RO3ghNZ7Q0A=",
          "dtype": "f8"
         },
         "xaxis": "x",
         "y": [
          "Valorización"
         ],
         "yaxis": "y"
        },
        {
         "hovertemplate": "tratamiento_nivel_1=%{y}<br>share_pct=%{x}<br>label=%{text}<extra></extra>",
         "legendgroup": "Eliminación",
         "marker": {
          "color": "#94d2bd",
          "line": {
           "color": "#0f172a",
           "width": 0.4
          },
          "pattern": {
           "shape": ""
          }
         },
         "name": "Eliminación",
         "orientation": "h",
         "showlegend": true,
         "text": [
          "57.3%"
         ],
         "textposition": "outside",
         "type": "bar",
         "x": {
          "bdata": "Mn2whE+nTEA=",
          "dtype": "f8"
         },
         "xaxis": "x",
         "y": [
          "Eliminación"
         ],
         "yaxis": "y"
        }
       ],
       "layout": {
        "bargap": 0.25,
        "barmode": "relative",
        "font": {
         "color": "#1e293b",
         "family": "Georgia, serif"
        },
        "legend": {
         "font": {
          "color": "#1e293b",
          "family": "Georgia, serif"
         },
         "title": {
          "text": "tratamiento_nivel_1"
         },
         "tracegroupgap": 0
        },
        "margin": {
         "b": 60,
         "l": 80,
         "r": 40,
         "t": 80
        },
        "paper_bgcolor": "#ffffff",
        "plot_bgcolor": "#ffffff",
        "showlegend": false,
        "template": {
         "data": {
          "bar": [
           {
            "error_x": {
             "color": "#2a3f5f"
            },
            "error_y": {
             "color": "#2a3f5f"
            },
            "marker": {
             "line": {
              "color": "white",
              "width": 0.5
             },
             "pattern": {
              "fillmode": "overlay",
              "size": 10,
              "solidity": 0.2
             }
            },
            "type": "bar"
           }
          ],
          "barpolar": [
           {
            "marker": {
             "line": {
              "color": "white",
              "width": 0.5
             },
             "pattern": {
              "fillmode": "overlay",
              "size": 10,
              "solidity": 0.2
             }
            },
            "type": "barpolar"
           }
          ],
          "carpet": [
           {
            "aaxis": {
             "endlinecolor": "#2a3f5f",
             "gridcolor": "#C8D4E3",
             "linecolor": "#C8D4E3",
             "minorgridcolor": "#C8D4E3",
             "startlinecolor": "#2a3f5f"
            },
            "baxis": {
             "endlinecolor": "#2a3f5f",
             "gridcolor": "#C8D4E3",
             "linecolor": "#C8D4E3",
             "minorgridcolor": "#C8D4E3",
             "startlinecolor": "#2a3f5f"
            },
            "type": "carpet"
           }
          ],
          "choropleth": [
           {
            "colorbar": {
             "outlinewidth": 0,
             "ticks": ""
            },
            "type": "choropleth"
           }
          ],
          "contour": [
           {
            "colorbar": {
             "outlinewidth": 0,
             "ticks": ""
            },
            "colorscale": [
             [
              0,
              "#0d0887"
             ],
             [
              0.1111111111111111,
              "#46039f"
             ],
             [
              0.2222222222222222,
              "#7201a8"
             ],
             [
              0.3333333333333333,
              "#9c179e"
             ],
             [
              0.4444444444444444,
              "#bd3786"
             ],
             [
              0.5555555555555556,
              "#d8576b"
             ],
             [
              0.6666666666666666,
              "#ed7953"
             ],
             [
              0.7777777777777778,
              "#fb9f3a"
             ],
             [
              0.8888888888888888,
              "#fdca26"
             ],
             [
              1,
              "#f0f921"
             ]
            ],
            "type": "contour"
           }
          ],
          "contourcarpet": [
           {
            "colorbar": {
             "outlinewidth": 0,
             "ticks": ""
            },
            "type": "contourcarpet"
           }
          ],
          "heatmap": [
           {
            "colorbar": {
             "outlinewidth": 0,
             "ticks": ""
            },
            "colorscale": [
             [
              0,
              "#0d0887"
             ],
             [
              0.1111111111111111,
              "#46039f"
             ],
             [
              0.2222222222222222,
              "#7201a8"
             ],
             [
              0.3333333333333333,
              "#9c179e"
             ],
             [
              0.4444444444444444,
              "#bd3786"
             ],
             [
              0.5555555555555556,
              "#d8576b"
             ],
             [
              0.6666666666666666,
              "#ed7953"
             ],
             [
              0.7777777777777778,
              "#fb9f3a"
             ],
             [
              0.8888888888888888,
              "#fdca26"
             ],
             [
              1,
              "#f0f921"
             ]
            ],
            "type": "heatmap"
           }
          ],
          "histogram": [
           {
            "marker": {
             "pattern": {
              "fillmode": "overlay",
              "size": 10,
              "solidity": 0.2
             }
            },
            "type": "histogram"
           }
          ],
          "histogram2d": [
           {
            "colorbar": {
             "outlinewidth": 0,
             "ticks": ""
            },
            "colorscale": [
             [
              0,
              "#0d0887"
             ],
             [
              0.1111111111111111,
              "#46039f"
             ],
             [
              0.2222222222222222,
              "#7201a8"
             ],
             [
              0.3333333333333333,
              "#9c179e"
             ],
             [
              0.4444444444444444,
              "#bd3786"
             ],
             [
              0.5555555555555556,
              "#d8576b"
             ],
             [
              0.6666666666666666,
              "#ed7953"
             ],
             [
              0.7777777777777778,
              "#fb9f3a"
             ],
             [
              0.8888888888888888,
              "#fdca26"
             ],
             [
              1,
              "#f0f921"
             ]
            ],
            "type": "histogram2d"
           }
          ],
          "histogram2dcontour": [
           {
            "colorbar": {
             "outlinewidth": 0,
             "ticks": ""
            },
            "colorscale": [
             [
              0,
              "#0d0887"
             ],
             [
              0.1111111111111111,
              "#46039f"
             ],
             [
              0.2222222222222222,
              "#7201a8"
             ],
             [
              0.3333333333333333,
              "#9c179e"
             ],
             [
              0.4444444444444444,
              "#bd3786"
             ],
             [
              0.5555555555555556,
              "#d8576b"
             ],
             [
              0.6666666666666666,
              "#ed7953"
             ],
             [
              0.7777777777777778,
              "#fb9f3a"
             ],
             [
              0.8888888888888888,
              "#fdca26"
             ],
             [
              1,
              "#f0f921"
             ]
            ],
            "type": "histogram2dcontour"
           }
          ],
          "mesh3d": [
           {
            "colorbar": {
             "outlinewidth": 0,
             "ticks": ""
            },
            "type": "mesh3d"
           }
          ],
          "parcoords": [
           {
            "line": {
             "colorbar": {
              "outlinewidth": 0,
              "ticks": ""
             }
            },
            "type": "parcoords"
           }
          ],
          "pie": [
           {
            "automargin": true,
            "type": "pie"
           }
          ],
          "scatter": [
           {
            "fillpattern": {
             "fillmode": "overlay",
             "size": 10,
             "solidity": 0.2
            },
            "type": "scatter"
           }
          ],
          "scatter3d": [
           {
            "line": {
             "colorbar": {
              "outlinewidth": 0,
              "ticks": ""
             }
            },
            "marker": {
             "colorbar": {
              "outlinewidth": 0,
              "ticks": ""
             }
            },
            "type": "scatter3d"
           }
          ],
          "scattercarpet": [
           {
            "marker": {
             "colorbar": {
              "outlinewidth": 0,
              "ticks": ""
             }
            },
            "type": "scattercarpet"
           }
          ],
          "scattergeo": [
           {
            "marker": {
             "colorbar": {
              "outlinewidth": 0,
              "ticks": ""
             }
            },
            "type": "scattergeo"
           }
          ],
          "scattergl": [
           {
            "marker": {
             "colorbar": {
              "outlinewidth": 0,
              "ticks": ""
             }
            },
            "type": "scattergl"
           }
          ],
          "scattermap": [
           {
            "marker": {
             "colorbar": {
              "outlinewidth": 0,
              "ticks": ""
             }
            },
            "type": "scattermap"
           }
          ],
          "scattermapbox": [
           {
            "marker": {
             "colorbar": {
              "outlinewidth": 0,
              "ticks": ""
             }
            },
            "type": "scattermapbox"
           }
          ],
          "scatterpolar": [
           {
            "marker": {
             "colorbar": {
              "outlinewidth": 0,
              "ticks": ""
             }
            },
            "type": "scatterpolar"
           }
          ],
          "scatterpolargl": [
           {
            "marker": {
             "colorbar": {
              "outlinewidth": 0,
              "ticks": ""
             }
            },
            "type": "scatterpolargl"
           }
          ],
          "scatterternary": [
           {
            "marker": {
             "colorbar": {
              "outlinewidth": 0,
              "ticks": ""
             }
            },
            "type": "scatterternary"
           }
          ],
          "surface": [
           {
            "colorbar": {
             "outlinewidth": 0,
             "ticks": ""
            },
            "colorscale": [
             [
              0,
              "#0d0887"
             ],
             [
              0.1111111111111111,
              "#46039f"
             ],
             [
              0.2222222222222222,
              "#7201a8"
             ],
             [
              0.3333333333333333,
              "#9c179e"
             ],
             [
              0.4444444444444444,
              "#bd3786"
             ],
             [
              0.5555555555555556,
              "#d8576b"
             ],
             [
              0.6666666666666666,
              "#ed7953"
             ],
             [
              0.7777777777777778,
              "#fb9f3a"
             ],
             [
              0.8888888888888888,
              "#fdca26"
             ],
             [
              1,
              "#f0f921"
             ]
            ],
            "type": "surface"
           }
          ],
          "table": [
           {
            "cells": {
             "fill": {
              "color": "#EBF0F8"
             },
             "line": {
              "color": "white"
             }
            },
            "header": {
             "fill": {
              "color": "#C8D4E3"
             },
             "line": {
              "color": "white"
             }
            },
            "type": "table"
           }
          ]
         },
         "layout": {
          "annotationdefaults": {
           "arrowcolor": "#2a3f5f",
           "arrowhead": 0,
           "arrowwidth": 1
          },
          "autotypenumbers": "strict",
          "coloraxis": {
           "colorbar": {
            "outlinewidth": 0,
            "ticks": ""
           }
          },
          "colorscale": {
           "diverging": [
            [
             0,
             "#8e0152"
            ],
            [
             0.1,
             "#c51b7d"
            ],
            [
             0.2,
             "#de77ae"
            ],
            [
             0.3,
             "#f1b6da"
            ],
            [
             0.4,
             "#fde0ef"
            ],
            [
             0.5,
             "#f7f7f7"
            ],
            [
             0.6,
             "#e6f5d0"
            ],
            [
             0.7,
             "#b8e186"
            ],
            [
             0.8,
             "#7fbc41"
            ],
            [
             0.9,
             "#4d9221"
            ],
            [
             1,
             "#276419"
            ]
           ],
           "sequential": [
            [
             0,
             "#0d0887"
            ],
            [
             0.1111111111111111,
             "#46039f"
            ],
            [
             0.2222222222222222,
             "#7201a8"
            ],
            [
             0.3333333333333333,
             "#9c179e"
            ],
            [
             0.4444444444444444,
             "#bd3786"
            ],
            [
             0.5555555555555556,
             "#d8576b"
            ],
            [
             0.6666666666666666,
             "#ed7953"
            ],
            [
             0.7777777777777778,
             "#fb9f3a"
            ],
            [
             0.8888888888888888,
             "#fdca26"
            ],
            [
             1,
             "#f0f921"
            ]
           ],
           "sequentialminus": [
            [
             0,
             "#0d0887"
            ],
            [
             0.1111111111111111,
             "#46039f"
            ],
            [
             0.2222222222222222,
             "#7201a8"
            ],
            [
             0.3333333333333333,
             "#9c179e"
            ],
            [
             0.4444444444444444,
             "#bd3786"
            ],
            [
             0.5555555555555556,
             "#d8576b"
            ],
            [
             0.6666666666666666,
             "#ed7953"
            ],
            [
             0.7777777777777778,
             "#fb9f3a"
            ],
            [
             0.8888888888888888,
             "#fdca26"
            ],
            [
             1,
             "#f0f921"
            ]
           ]
          },
          "colorway": [
           "#636efa",
           "#EF553B",
           "#00cc96",
           "#ab63fa",
           "#FFA15A",
           "#19d3f3",
           "#FF6692",
           "#B6E880",
           "#FF97FF",
           "#FECB52"
          ],
          "font": {
           "color": "#2a3f5f"
          },
          "geo": {
           "bgcolor": "white",
           "lakecolor": "white",
           "landcolor": "white",
           "showlakes": true,
           "showland": true,
           "subunitcolor": "#C8D4E3"
          },
          "hoverlabel": {
           "align": "left"
          },
          "hovermode": "closest",
          "mapbox": {
           "style": "light"
          },
          "paper_bgcolor": "white",
          "plot_bgcolor": "white",
          "polar": {
           "angularaxis": {
            "gridcolor": "#EBF0F8",
            "linecolor": "#EBF0F8",
            "ticks": ""
           },
           "bgcolor": "white",
           "radialaxis": {
            "gridcolor": "#EBF0F8",
            "linecolor": "#EBF0F8",
            "ticks": ""
           }
          },
          "scene": {
           "xaxis": {
            "backgroundcolor": "white",
            "gridcolor": "#DFE8F3",
            "gridwidth": 2,
            "linecolor": "#EBF0F8",
            "showbackground": true,
            "ticks": "",
            "zerolinecolor": "#EBF0F8"
           },
           "yaxis": {
            "backgroundcolor": "white",
            "gridcolor": "#DFE8F3",
            "gridwidth": 2,
            "linecolor": "#EBF0F8",
            "showbackground": true,
            "ticks": "",
            "zerolinecolor": "#EBF0F8"
           },
           "zaxis": {
            "backgroundcolor": "white",
            "gridcolor": "#DFE8F3",
            "gridwidth": 2,
            "linecolor": "#EBF0F8",
            "showbackground": true,
            "ticks": "",
            "zerolinecolor": "#EBF0F8"
           }
          },
          "shapedefaults": {
           "line": {
            "color": "#2a3f5f"
           }
          },
          "ternary": {
           "aaxis": {
            "gridcolor": "#DFE8F3",
            "linecolor": "#A2B1C6",
            "ticks": ""
           },
           "baxis": {
            "gridcolor": "#DFE8F3",
            "linecolor": "#A2B1C6",
            "ticks": ""
           },
           "bgcolor": "white",
           "caxis": {
            "gridcolor": "#DFE8F3",
            "linecolor": "#A2B1C6",
            "ticks": ""
           }
          },
          "title": {
           "x": 0.05
          },
          "xaxis": {
           "automargin": true,
           "gridcolor": "#EBF0F8",
           "linecolor": "#EBF0F8",
           "ticks": "",
           "title": {
            "standoff": 15
           },
           "zerolinecolor": "#EBF0F8",
           "zerolinewidth": 2
          },
          "yaxis": {
           "automargin": true,
           "gridcolor": "#EBF0F8",
           "linecolor": "#EBF0F8",
           "ticks": "",
           "title": {
            "standoff": 15
           },
           "zerolinecolor": "#EBF0F8",
           "zerolinewidth": 2
          }
         }
        },
        "title": {
         "font": {
          "color": "#1e293b",
          "family": "Georgia, serif",
          "size": 18
         },
         "text": "Participación nacional por tipo de tratamiento"
        },
        "xaxis": {
         "anchor": "y",
         "domain": [
          0,
          1
         ],
         "gridcolor": "#cbd5e1",
         "range": [
          0,
          62.30711420648221
         ],
         "showgrid": true,
         "tickfont": {
          "color": "#1e293b",
          "family": "Georgia, serif"
         },
         "ticksuffix": "%",
         "title": {
          "text": "Participación (%)"
         },
         "zeroline": false
        },
        "yaxis": {
         "anchor": "x",
         "categoryarray": [
          "Eliminación",
          "Valorización",
          "Recolección"
         ],
         "categoryorder": "array",
         "domain": [
          0,
          1
         ],
         "gridcolor": "#cbd5e1",
         "showgrid": true,
         "tickfont": {
          "color": "#1e293b",
          "family": "Georgia, serif"
         },
         "title": {
          "text": ""
         },
         "zeroline": false
        }
       }
      }
     },
     "metadata": {},
     "output_type": "display_data"
    }
   ],
   "source": [
    "overall_mix_plot = overall_mix.copy().sort_values(\"share\", ascending=True)\n",
    "\n",
    "overall_mix_plot[\"share_pct\"] = overall_mix_plot[\"share\"] * 100\n",
    "\n",
    "overall_mix_plot[\"label\"] = overall_mix_plot[\"share_pct\"].map(lambda v: f\"{v:.1f}%\")\n",
    "\n",
    "\n",
    "\n",
    "overall_mix_fig = px.bar(\n",
    "\n",
    "    overall_mix_plot,\n",
    "\n",
    "    x=\"share_pct\",\n",
    "\n",
    "    y=\"tratamiento_nivel_1\",\n",
    "\n",
    "    orientation=\"h\",\n",
    "\n",
    "    text=\"label\",\n",
    "\n",
    "    color=\"tratamiento_nivel_1\",\n",
    "\n",
    "    color_discrete_sequence=ECONOMIST_COLORS,\n",
    "\n",
    "    title=\"Participación nacional por tipo de tratamiento\",\n",
    "\n",
    ")\n",
    "\n",
    "overall_mix_fig = apply_economist_style(overall_mix_fig)\n",
    "\n",
    "overall_mix_fig.update_traces(textposition=\"outside\")\n",
    "\n",
    "overall_mix_fig.update_layout(\n",
    "\n",
    "    showlegend=False,\n",
    "\n",
    "    xaxis_title=\"Participación (%)\",\n",
    "\n",
    "    yaxis_title=\"\",\n",
    "\n",
    "    xaxis_ticksuffix=\"%\",\n",
    "\n",
    "    xaxis_range=[0, max(35, overall_mix_plot[\"share_pct\"].max() + 5)],\n",
    "\n",
    ")\n",
    "\n",
    "overall_mix_fig"
   ]
  },
  {
   "cell_type": "code",
   "execution_count": 62,
   "id": "9e0690af",
   "metadata": {},
   "outputs": [
    {
     "data": {
      "application/vnd.plotly.v1+json": {
       "config": {
        "plotlyServerURL": "https://plot.ly"
       },
       "data": [
        {
         "hoverinfo": "skip",
         "line": {
          "color": "#9ca3af",
          "width": 3
         },
         "mode": "lines",
         "showlegend": false,
         "textfont": {
          "family": "Georgia, serif",
          "size": 12
         },
         "type": "scatter",
         "x": [
          0,
          0.00044076
         ],
         "y": [
          "Plantas De Tratamiento De Aguas Servidas",
          "Plantas De Tratamiento De Aguas Servidas"
         ]
        },
        {
         "customdata": [
          [
           "Plantas De Tratamiento De Aguas Servidas",
           440.76,
           0.0018236490068385001
          ]
         ],
         "hovertemplate": "<b>%{customdata[0]}</b><br>Toneladas: %{customdata[1]:,.0f}<br>Participación regional: %{customdata[2]:.1%}<extra></extra>",
         "marker": {
          "color": "#9ca3af",
          "line": {
           "color": "#ffffff",
           "width": 1.5
          },
          "size": 14
         },
         "mode": "markers+text",
         "showlegend": false,
         "text": [
          "0,0 M t · 0,2%"
         ],
         "textfont": {
          "color": "#1e1b18",
          "family": "Georgia, serif",
          "size": 12
         },
         "textposition": "middle right",
         "type": "scatter",
         "x": [
          0.00044076
         ],
         "y": [
          "Plantas De Tratamiento De Aguas Servidas"
         ]
        },
        {
         "hoverinfo": "skip",
         "line": {
          "color": "#9ca3af",
          "width": 3
         },
         "mode": "lines",
         "showlegend": false,
         "textfont": {
          "family": "Georgia, serif",
          "size": 12
         },
         "type": "scatter",
         "x": [
          0,
          0.00047651299999999997
         ],
         "y": [
          "Producción Agropecuaria",
          "Producción Agropecuaria"
         ]
        },
        {
         "customdata": [
          [
           "Producción Agropecuaria",
           476.513,
           0.0019715774099184004
          ]
         ],
         "hovertemplate": "<b>%{customdata[0]}</b><br>Toneladas: %{customdata[1]:,.0f}<br>Participación regional: %{customdata[2]:.1%}<extra></extra>",
         "marker": {
          "color": "#9ca3af",
          "line": {
           "color": "#ffffff",
           "width": 1.5
          },
          "size": 14
         },
         "mode": "markers+text",
         "showlegend": false,
         "text": [
          "0,0 M t · 0,2%"
         ],
         "textfont": {
          "color": "#1e1b18",
          "family": "Georgia, serif",
          "size": 12
         },
         "textposition": "middle right",
         "type": "scatter",
         "x": [
          0.00047651299999999997
         ],
         "y": [
          "Producción Agropecuaria"
         ]
        },
        {
         "hoverinfo": "skip",
         "line": {
          "color": "#9ca3af",
          "width": 3
         },
         "mode": "lines",
         "showlegend": false,
         "textfont": {
          "family": "Georgia, serif",
          "size": 12
         },
         "type": "scatter",
         "x": [
          0,
          0.000658923
         ],
         "y": [
          "Comercio Mayorista",
          "Comercio Mayorista"
         ]
        },
        {
         "customdata": [
          [
           "Comercio Mayorista",
           658.923,
           0.0027263006500885855
          ]
         ],
         "hovertemplate": "<b>%{customdata[0]}</b><br>Toneladas: %{customdata[1]:,.0f}<br>Participación regional: %{customdata[2]:.1%}<extra></extra>",
         "marker": {
          "color": "#9ca3af",
          "line": {
           "color": "#ffffff",
           "width": 1.5
          },
          "size": 14
         },
         "mode": "markers+text",
         "showlegend": false,
         "text": [
          "0,0 M t · 0,3%"
         ],
         "textfont": {
          "color": "#1e1b18",
          "family": "Georgia, serif",
          "size": 12
         },
         "textposition": "middle right",
         "type": "scatter",
         "x": [
          0.000658923
         ],
         "y": [
          "Comercio Mayorista"
         ]
        },
        {
         "hoverinfo": "skip",
         "line": {
          "color": "#9ca3af",
          "width": 3
         },
         "mode": "lines",
         "showlegend": false,
         "textfont": {
          "family": "Georgia, serif",
          "size": 12
         },
         "type": "scatter",
         "x": [
          0,
          0.00338058952
         ],
         "y": [
          "Comercio Minorista",
          "Comercio Minorista"
         ]
        },
        {
         "customdata": [
          [
           "Comercio Minorista",
           3380.58952,
           0.013987223706045562
          ]
         ],
         "hovertemplate": "<b>%{customdata[0]}</b><br>Toneladas: %{customdata[1]:,.0f}<br>Participación regional: %{customdata[2]:.1%}<extra></extra>",
         "marker": {
          "color": "#9ca3af",
          "line": {
           "color": "#ffffff",
           "width": 1.5
          },
          "size": 14
         },
         "mode": "markers+text",
         "showlegend": false,
         "text": [
          "0,0 M t · 1,4%"
         ],
         "textfont": {
          "color": "#1e1b18",
          "family": "Georgia, serif",
          "size": 12
         },
         "textposition": "middle right",
         "type": "scatter",
         "x": [
          0.00338058952
         ],
         "y": [
          "Comercio Minorista"
         ]
        },
        {
         "hoverinfo": "skip",
         "line": {
          "color": "#9ca3af",
          "width": 3
         },
         "mode": "lines",
         "showlegend": false,
         "textfont": {
          "family": "Georgia, serif",
          "size": 12
         },
         "type": "scatter",
         "x": [
          0,
          0.0044454709999999995
         ],
         "y": [
          "Pesca Y Acuicultura",
          "Pesca Y Acuicultura"
         ]
        },
        {
         "customdata": [
          [
           "Pesca Y Acuicultura",
           4445.471,
           0.018393181718121775
          ]
         ],
         "hovertemplate": "<b>%{customdata[0]}</b><br>Toneladas: %{customdata[1]:,.0f}<br>Participación regional: %{customdata[2]:.1%}<extra></extra>",
         "marker": {
          "color": "#9ca3af",
          "line": {
           "color": "#ffffff",
           "width": 1.5
          },
          "size": 14
         },
         "mode": "markers+text",
         "showlegend": false,
         "text": [
          "0,0 M t · 1,8%"
         ],
         "textfont": {
          "color": "#1e1b18",
          "family": "Georgia, serif",
          "size": 12
         },
         "textposition": "middle right",
         "type": "scatter",
         "x": [
          0.0044454709999999995
         ],
         "y": [
          "Pesca Y Acuicultura"
         ]
        },
        {
         "hoverinfo": "skip",
         "line": {
          "color": "#9ca3af",
          "width": 3
         },
         "mode": "lines",
         "showlegend": false,
         "textfont": {
          "family": "Georgia, serif",
          "size": 12
         },
         "type": "scatter",
         "x": [
          0,
          0.0060024200000000005
         ],
         "y": [
          "Captación, Tratamiento Y Distribución De Agua",
          "Captación, Tratamiento Y Distribución De Agua"
         ]
        },
        {
         "customdata": [
          [
           "Captación, Tratamiento Y Distribución De Agua",
           6002.42,
           0.02483507412566374
          ]
         ],
         "hovertemplate": "<b>%{customdata[0]}</b><br>Toneladas: %{customdata[1]:,.0f}<br>Participación regional: %{customdata[2]:.1%}<extra></extra>",
         "marker": {
          "color": "#9ca3af",
          "line": {
           "color": "#ffffff",
           "width": 1.5
          },
          "size": 14
         },
         "mode": "markers+text",
         "showlegend": false,
         "text": [
          "0,0 M t · 2,5%"
         ],
         "textfont": {
          "color": "#1e1b18",
          "family": "Georgia, serif",
          "size": 12
         },
         "textposition": "middle right",
         "type": "scatter",
         "x": [
          0.0060024200000000005
         ],
         "y": [
          "Captación, Tratamiento Y Distribución De Agua"
         ]
        },
        {
         "hoverinfo": "skip",
         "line": {
          "color": "#9ca3af",
          "width": 3
         },
         "mode": "lines",
         "showlegend": false,
         "textfont": {
          "family": "Georgia, serif",
          "size": 12
         },
         "type": "scatter",
         "x": [
          0,
          0.00663437001
         ],
         "y": [
          "Otras Actividades",
          "Otras Actividades"
         ]
        },
        {
         "customdata": [
          [
           "Otras Actividades",
           6634.37001,
           0.02744977375382437
          ]
         ],
         "hovertemplate": "<b>%{customdata[0]}</b><br>Toneladas: %{customdata[1]:,.0f}<br>Participación regional: %{customdata[2]:.1%}<extra></extra>",
         "marker": {
          "color": "#9ca3af",
          "line": {
           "color": "#ffffff",
           "width": 1.5
          },
          "size": 14
         },
         "mode": "markers+text",
         "showlegend": false,
         "text": [
          "0,0 M t · 2,7%"
         ],
         "textfont": {
          "color": "#1e1b18",
          "family": "Georgia, serif",
          "size": 12
         },
         "textposition": "middle right",
         "type": "scatter",
         "x": [
          0.00663437001
         ],
         "y": [
          "Otras Actividades"
         ]
        },
        {
         "hoverinfo": "skip",
         "line": {
          "color": "#9ca3af",
          "width": 3
         },
         "mode": "lines",
         "showlegend": false,
         "textfont": {
          "family": "Georgia, serif",
          "size": 12
         },
         "type": "scatter",
         "x": [
          0,
          0.01471537707
         ],
         "y": [
          "Industria De La Madera Y Silvicultura",
          "Industria De La Madera Y Silvicultura"
         ]
        },
        {
         "customdata": [
          [
           "Industria De La Madera Y Silvicultura",
           14715.37707,
           0.06088502309410913
          ]
         ],
         "hovertemplate": "<b>%{customdata[0]}</b><br>Toneladas: %{customdata[1]:,.0f}<br>Participación regional: %{customdata[2]:.1%}<extra></extra>",
         "marker": {
          "color": "#9ca3af",
          "line": {
           "color": "#ffffff",
           "width": 1.5
          },
          "size": 14
         },
         "mode": "markers+text",
         "showlegend": false,
         "text": [
          "0,0 M t · 6,1%"
         ],
         "textfont": {
          "color": "#1e1b18",
          "family": "Georgia, serif",
          "size": 12
         },
         "textposition": "middle right",
         "type": "scatter",
         "x": [
          0.01471537707
         ],
         "y": [
          "Industria De La Madera Y Silvicultura"
         ]
        },
        {
         "hoverinfo": "skip",
         "line": {
          "color": "#9ca3af",
          "width": 3
         },
         "mode": "lines",
         "showlegend": false,
         "textfont": {
          "family": "Georgia, serif",
          "size": 12
         },
         "type": "scatter",
         "x": [
          0,
          0.051870333
         ],
         "y": [
          "Industria Del Papel Y Celulosa",
          "Industria Del Papel Y Celulosa"
         ]
        },
        {
         "customdata": [
          [
           "Industria Del Papel Y Celulosa",
           51870.333,
           0.2146140331695986
          ]
         ],
         "hovertemplate": "<b>%{customdata[0]}</b><br>Toneladas: %{customdata[1]:,.0f}<br>Participación regional: %{customdata[2]:.1%}<extra></extra>",
         "marker": {
          "color": "#9ca3af",
          "line": {
           "color": "#ffffff",
           "width": 1.5
          },
          "size": 14
         },
         "mode": "markers+text",
         "showlegend": false,
         "text": [
          "0,1 M t · 21,5%"
         ],
         "textfont": {
          "color": "#1e1b18",
          "family": "Georgia, serif",
          "size": 12
         },
         "textposition": "middle right",
         "type": "scatter",
         "x": [
          0.051870333
         ],
         "y": [
          "Industria Del Papel Y Celulosa"
         ]
        },
        {
         "hoverinfo": "skip",
         "line": {
          "color": "#d62828",
          "width": 3
         },
         "mode": "lines",
         "showlegend": false,
         "textfont": {
          "family": "Georgia, serif",
          "size": 12
         },
         "type": "scatter",
         "x": [
          0,
          0.153066489
         ],
         "y": [
          "Otras Industrias Manufactureras",
          "Otras Industrias Manufactureras"
         ]
        },
        {
         "customdata": [
          [
           "Otras Industrias Manufactureras",
           153066.489,
           0.6333141633657914
          ]
         ],
         "hovertemplate": "<b>%{customdata[0]}</b><br>Toneladas: %{customdata[1]:,.0f}<br>Participación regional: %{customdata[2]:.1%}<extra></extra>",
         "marker": {
          "color": "#d62828",
          "line": {
           "color": "#ffffff",
           "width": 1.5
          },
          "size": 14
         },
         "mode": "markers+text",
         "showlegend": false,
         "text": [
          "0,2 M t · 63,3%"
         ],
         "textfont": {
          "color": "#1e1b18",
          "family": "Georgia, serif",
          "size": 12
         },
         "textposition": "middle right",
         "type": "scatter",
         "x": [
          0.153066489
         ],
         "y": [
          "Otras Industrias Manufactureras"
         ]
        }
       ],
       "layout": {
        "annotations": [
         {
          "font": {
           "color": "#4a4338",
           "family": "Georgia, serif",
           "size": 14
          },
          "showarrow": false,
          "text": "Los Ríos, RNP 2023",
          "x": 0,
          "xref": "paper",
          "y": 1.06,
          "yref": "paper"
         },
         {
          "font": {
           "color": "#6e6252",
           "family": "Georgia, serif",
           "size": 11
          },
          "showarrow": false,
          "text": "Fuente: Registro Nacional de Emisiones y Transferencias de Residuos (RNP) 2023",
          "x": 0,
          "xref": "paper",
          "y": -0.22,
          "yref": "paper"
         }
        ],
        "font": {
         "color": "#1e1b18",
         "family": "Georgia, serif",
         "size": 15
        },
        "height": 760,
        "hoverlabel": {
         "bgcolor": "#ffffff",
         "font": {
          "color": "#1e1b18",
          "family": "Georgia, serif"
         }
        },
        "margin": {
         "b": 130,
         "l": 200,
         "r": 170,
         "t": 140
        },
        "paper_bgcolor": "#f7f2ea",
        "plot_bgcolor": "#f7f2ea",
        "shapes": [
         {
          "line": {
           "color": "#d62828",
           "width": 4
          },
          "type": "line",
          "x0": -0.26,
          "x1": 0.84,
          "xref": "paper",
          "y0": 1.12,
          "y1": 1.12,
          "yref": "paper"
         }
        ],
        "template": {
         "data": {
          "bar": [
           {
            "error_x": {
             "color": "#2a3f5f"
            },
            "error_y": {
             "color": "#2a3f5f"
            },
            "marker": {
             "line": {
              "color": "white",
              "width": 0.5
             },
             "pattern": {
              "fillmode": "overlay",
              "size": 10,
              "solidity": 0.2
             }
            },
            "type": "bar"
           }
          ],
          "barpolar": [
           {
            "marker": {
             "line": {
              "color": "white",
              "width": 0.5
             },
             "pattern": {
              "fillmode": "overlay",
              "size": 10,
              "solidity": 0.2
             }
            },
            "type": "barpolar"
           }
          ],
          "carpet": [
           {
            "aaxis": {
             "endlinecolor": "#2a3f5f",
             "gridcolor": "#C8D4E3",
             "linecolor": "#C8D4E3",
             "minorgridcolor": "#C8D4E3",
             "startlinecolor": "#2a3f5f"
            },
            "baxis": {
             "endlinecolor": "#2a3f5f",
             "gridcolor": "#C8D4E3",
             "linecolor": "#C8D4E3",
             "minorgridcolor": "#C8D4E3",
             "startlinecolor": "#2a3f5f"
            },
            "type": "carpet"
           }
          ],
          "choropleth": [
           {
            "colorbar": {
             "outlinewidth": 0,
             "ticks": ""
            },
            "type": "choropleth"
           }
          ],
          "contour": [
           {
            "colorbar": {
             "outlinewidth": 0,
             "ticks": ""
            },
            "colorscale": [
             [
              0,
              "#0d0887"
             ],
             [
              0.1111111111111111,
              "#46039f"
             ],
             [
              0.2222222222222222,
              "#7201a8"
             ],
             [
              0.3333333333333333,
              "#9c179e"
             ],
             [
              0.4444444444444444,
              "#bd3786"
             ],
             [
              0.5555555555555556,
              "#d8576b"
             ],
             [
              0.6666666666666666,
              "#ed7953"
             ],
             [
              0.7777777777777778,
              "#fb9f3a"
             ],
             [
              0.8888888888888888,
              "#fdca26"
             ],
             [
              1,
              "#f0f921"
             ]
            ],
            "type": "contour"
           }
          ],
          "contourcarpet": [
           {
            "colorbar": {
             "outlinewidth": 0,
             "ticks": ""
            },
            "type": "contourcarpet"
           }
          ],
          "heatmap": [
           {
            "colorbar": {
             "outlinewidth": 0,
             "ticks": ""
            },
            "colorscale": [
             [
              0,
              "#0d0887"
             ],
             [
              0.1111111111111111,
              "#46039f"
             ],
             [
              0.2222222222222222,
              "#7201a8"
             ],
             [
              0.3333333333333333,
              "#9c179e"
             ],
             [
              0.4444444444444444,
              "#bd3786"
             ],
             [
              0.5555555555555556,
              "#d8576b"
             ],
             [
              0.6666666666666666,
              "#ed7953"
             ],
             [
              0.7777777777777778,
              "#fb9f3a"
             ],
             [
              0.8888888888888888,
              "#fdca26"
             ],
             [
              1,
              "#f0f921"
             ]
            ],
            "type": "heatmap"
           }
          ],
          "histogram": [
           {
            "marker": {
             "pattern": {
              "fillmode": "overlay",
              "size": 10,
              "solidity": 0.2
             }
            },
            "type": "histogram"
           }
          ],
          "histogram2d": [
           {
            "colorbar": {
             "outlinewidth": 0,
             "ticks": ""
            },
            "colorscale": [
             [
              0,
              "#0d0887"
             ],
             [
              0.1111111111111111,
              "#46039f"
             ],
             [
              0.2222222222222222,
              "#7201a8"
             ],
             [
              0.3333333333333333,
              "#9c179e"
             ],
             [
              0.4444444444444444,
              "#bd3786"
             ],
             [
              0.5555555555555556,
              "#d8576b"
             ],
             [
              0.6666666666666666,
              "#ed7953"
             ],
             [
              0.7777777777777778,
              "#fb9f3a"
             ],
             [
              0.8888888888888888,
              "#fdca26"
             ],
             [
              1,
              "#f0f921"
             ]
            ],
            "type": "histogram2d"
           }
          ],
          "histogram2dcontour": [
           {
            "colorbar": {
             "outlinewidth": 0,
             "ticks": ""
            },
            "colorscale": [
             [
              0,
              "#0d0887"
             ],
             [
              0.1111111111111111,
              "#46039f"
             ],
             [
              0.2222222222222222,
              "#7201a8"
             ],
             [
              0.3333333333333333,
              "#9c179e"
             ],
             [
              0.4444444444444444,
              "#bd3786"
             ],
             [
              0.5555555555555556,
              "#d8576b"
             ],
             [
              0.6666666666666666,
              "#ed7953"
             ],
             [
              0.7777777777777778,
              "#fb9f3a"
             ],
             [
              0.8888888888888888,
              "#fdca26"
             ],
             [
              1,
              "#f0f921"
             ]
            ],
            "type": "histogram2dcontour"
           }
          ],
          "mesh3d": [
           {
            "colorbar": {
             "outlinewidth": 0,
             "ticks": ""
            },
            "type": "mesh3d"
           }
          ],
          "parcoords": [
           {
            "line": {
             "colorbar": {
              "outlinewidth": 0,
              "ticks": ""
             }
            },
            "type": "parcoords"
           }
          ],
          "pie": [
           {
            "automargin": true,
            "type": "pie"
           }
          ],
          "scatter": [
           {
            "fillpattern": {
             "fillmode": "overlay",
             "size": 10,
             "solidity": 0.2
            },
            "type": "scatter"
           }
          ],
          "scatter3d": [
           {
            "line": {
             "colorbar": {
              "outlinewidth": 0,
              "ticks": ""
             }
            },
            "marker": {
             "colorbar": {
              "outlinewidth": 0,
              "ticks": ""
             }
            },
            "type": "scatter3d"
           }
          ],
          "scattercarpet": [
           {
            "marker": {
             "colorbar": {
              "outlinewidth": 0,
              "ticks": ""
             }
            },
            "type": "scattercarpet"
           }
          ],
          "scattergeo": [
           {
            "marker": {
             "colorbar": {
              "outlinewidth": 0,
              "ticks": ""
             }
            },
            "type": "scattergeo"
           }
          ],
          "scattergl": [
           {
            "marker": {
             "colorbar": {
              "outlinewidth": 0,
              "ticks": ""
             }
            },
            "type": "scattergl"
           }
          ],
          "scattermap": [
           {
            "marker": {
             "colorbar": {
              "outlinewidth": 0,
              "ticks": ""
             }
            },
            "type": "scattermap"
           }
          ],
          "scattermapbox": [
           {
            "marker": {
             "colorbar": {
              "outlinewidth": 0,
              "ticks": ""
             }
            },
            "type": "scattermapbox"
           }
          ],
          "scatterpolar": [
           {
            "marker": {
             "colorbar": {
              "outlinewidth": 0,
              "ticks": ""
             }
            },
            "type": "scatterpolar"
           }
          ],
          "scatterpolargl": [
           {
            "marker": {
             "colorbar": {
              "outlinewidth": 0,
              "ticks": ""
             }
            },
            "type": "scatterpolargl"
           }
          ],
          "scatterternary": [
           {
            "marker": {
             "colorbar": {
              "outlinewidth": 0,
              "ticks": ""
             }
            },
            "type": "scatterternary"
           }
          ],
          "surface": [
           {
            "colorbar": {
             "outlinewidth": 0,
             "ticks": ""
            },
            "colorscale": [
             [
              0,
              "#0d0887"
             ],
             [
              0.1111111111111111,
              "#46039f"
             ],
             [
              0.2222222222222222,
              "#7201a8"
             ],
             [
              0.3333333333333333,
              "#9c179e"
             ],
             [
              0.4444444444444444,
              "#bd3786"
             ],
             [
              0.5555555555555556,
              "#d8576b"
             ],
             [
              0.6666666666666666,
              "#ed7953"
             ],
             [
              0.7777777777777778,
              "#fb9f3a"
             ],
             [
              0.8888888888888888,
              "#fdca26"
             ],
             [
              1,
              "#f0f921"
             ]
            ],
            "type": "surface"
           }
          ],
          "table": [
           {
            "cells": {
             "fill": {
              "color": "#EBF0F8"
             },
             "line": {
              "color": "white"
             }
            },
            "header": {
             "fill": {
              "color": "#C8D4E3"
             },
             "line": {
              "color": "white"
             }
            },
            "type": "table"
           }
          ]
         },
         "layout": {
          "annotationdefaults": {
           "arrowcolor": "#2a3f5f",
           "arrowhead": 0,
           "arrowwidth": 1
          },
          "autotypenumbers": "strict",
          "coloraxis": {
           "colorbar": {
            "outlinewidth": 0,
            "ticks": ""
           }
          },
          "colorscale": {
           "diverging": [
            [
             0,
             "#8e0152"
            ],
            [
             0.1,
             "#c51b7d"
            ],
            [
             0.2,
             "#de77ae"
            ],
            [
             0.3,
             "#f1b6da"
            ],
            [
             0.4,
             "#fde0ef"
            ],
            [
             0.5,
             "#f7f7f7"
            ],
            [
             0.6,
             "#e6f5d0"
            ],
            [
             0.7,
             "#b8e186"
            ],
            [
             0.8,
             "#7fbc41"
            ],
            [
             0.9,
             "#4d9221"
            ],
            [
             1,
             "#276419"
            ]
           ],
           "sequential": [
            [
             0,
             "#0d0887"
            ],
            [
             0.1111111111111111,
             "#46039f"
            ],
            [
             0.2222222222222222,
             "#7201a8"
            ],
            [
             0.3333333333333333,
             "#9c179e"
            ],
            [
             0.4444444444444444,
             "#bd3786"
            ],
            [
             0.5555555555555556,
             "#d8576b"
            ],
            [
             0.6666666666666666,
             "#ed7953"
            ],
            [
             0.7777777777777778,
             "#fb9f3a"
            ],
            [
             0.8888888888888888,
             "#fdca26"
            ],
            [
             1,
             "#f0f921"
            ]
           ],
           "sequentialminus": [
            [
             0,
             "#0d0887"
            ],
            [
             0.1111111111111111,
             "#46039f"
            ],
            [
             0.2222222222222222,
             "#7201a8"
            ],
            [
             0.3333333333333333,
             "#9c179e"
            ],
            [
             0.4444444444444444,
             "#bd3786"
            ],
            [
             0.5555555555555556,
             "#d8576b"
            ],
            [
             0.6666666666666666,
             "#ed7953"
            ],
            [
             0.7777777777777778,
             "#fb9f3a"
            ],
            [
             0.8888888888888888,
             "#fdca26"
            ],
            [
             1,
             "#f0f921"
            ]
           ]
          },
          "colorway": [
           "#636efa",
           "#EF553B",
           "#00cc96",
           "#ab63fa",
           "#FFA15A",
           "#19d3f3",
           "#FF6692",
           "#B6E880",
           "#FF97FF",
           "#FECB52"
          ],
          "font": {
           "color": "#2a3f5f"
          },
          "geo": {
           "bgcolor": "white",
           "lakecolor": "white",
           "landcolor": "white",
           "showlakes": true,
           "showland": true,
           "subunitcolor": "#C8D4E3"
          },
          "hoverlabel": {
           "align": "left"
          },
          "hovermode": "closest",
          "mapbox": {
           "style": "light"
          },
          "paper_bgcolor": "white",
          "plot_bgcolor": "white",
          "polar": {
           "angularaxis": {
            "gridcolor": "#EBF0F8",
            "linecolor": "#EBF0F8",
            "ticks": ""
           },
           "bgcolor": "white",
           "radialaxis": {
            "gridcolor": "#EBF0F8",
            "linecolor": "#EBF0F8",
            "ticks": ""
           }
          },
          "scene": {
           "xaxis": {
            "backgroundcolor": "white",
            "gridcolor": "#DFE8F3",
            "gridwidth": 2,
            "linecolor": "#EBF0F8",
            "showbackground": true,
            "ticks": "",
            "zerolinecolor": "#EBF0F8"
           },
           "yaxis": {
            "backgroundcolor": "white",
            "gridcolor": "#DFE8F3",
            "gridwidth": 2,
            "linecolor": "#EBF0F8",
            "showbackground": true,
            "ticks": "",
            "zerolinecolor": "#EBF0F8"
           },
           "zaxis": {
            "backgroundcolor": "white",
            "gridcolor": "#DFE8F3",
            "gridwidth": 2,
            "linecolor": "#EBF0F8",
            "showbackground": true,
            "ticks": "",
            "zerolinecolor": "#EBF0F8"
           }
          },
          "shapedefaults": {
           "line": {
            "color": "#2a3f5f"
           }
          },
          "ternary": {
           "aaxis": {
            "gridcolor": "#DFE8F3",
            "linecolor": "#A2B1C6",
            "ticks": ""
           },
           "baxis": {
            "gridcolor": "#DFE8F3",
            "linecolor": "#A2B1C6",
            "ticks": ""
           },
           "bgcolor": "white",
           "caxis": {
            "gridcolor": "#DFE8F3",
            "linecolor": "#A2B1C6",
            "ticks": ""
           }
          },
          "title": {
           "x": 0.05
          },
          "xaxis": {
           "automargin": true,
           "gridcolor": "#EBF0F8",
           "linecolor": "#EBF0F8",
           "ticks": "",
           "title": {
            "standoff": 15
           },
           "zerolinecolor": "#EBF0F8",
           "zerolinewidth": 2
          },
          "yaxis": {
           "automargin": true,
           "gridcolor": "#EBF0F8",
           "linecolor": "#EBF0F8",
           "ticks": "",
           "title": {
            "standoff": 15
           },
           "zerolinecolor": "#EBF0F8",
           "zerolinewidth": 2
          }
         }
        },
        "title": {
         "font": {
          "color": "#1e1b18",
          "size": 24
         },
         "text": "Principales rubros en Los Ríos por volumen generado",
         "x": 0.05,
         "y": 0.94
        },
        "width": 1380,
        "xaxis": {
         "gridcolor": "#d9d3c5",
         "griddash": "dot",
         "linecolor": "#d9d3c5",
         "range": [
          0,
          0.4
         ],
         "rangemode": "tozero",
         "showgrid": true,
         "tickfont": {
          "color": "#1e1b18",
          "family": "Georgia, serif",
          "size": 12
         },
         "ticktext": [
          "0,0 M",
          "0,2 M"
         ],
         "tickvals": [
          0,
          0.2
         ],
         "title": {
          "font": {
           "color": "#1e1b18",
           "family": "Georgia, serif",
           "size": 14
          },
          "text": "Toneladas"
         },
         "zeroline": false
        },
        "yaxis": {
         "categoryarray": [
          "Plantas De Tratamiento De Aguas Servidas",
          "Producción Agropecuaria",
          "Comercio Mayorista",
          "Comercio Minorista",
          "Pesca Y Acuicultura",
          "Captación, Tratamiento Y Distribución De Agua",
          "Otras Actividades",
          "Industria De La Madera Y Silvicultura",
          "Industria Del Papel Y Celulosa",
          "Otras Industrias Manufactureras"
         ],
         "categoryorder": "array",
         "linecolor": "#d9d3c5",
         "showgrid": false,
         "tickfont": {
          "color": "#1e1b18",
          "family": "Georgia, serif",
          "size": 12
         },
         "title": {
          "text": ""
         },
         "zeroline": false
        }
       }
      }
     },
     "metadata": {},
     "output_type": "display_data"
    }
   ],
   "source": [
    "import math\n",
    "\n",
    "rubro_plot = (\n",
    "    los_rios_rubro_df.copy()\n",
    "    .fillna(\"Sin clasificar\")\n",
    "    .sort_values(\"toneladas\", ascending=True)\n",
    "    )\n",
    "\n",
    "if rubro_plot.empty:\n",
    "    rubro_fig = go.Figure()\n",
    "    rubro_fig.update_layout(title=\"Principales rubros en Los Ríos por volumen generado\")\n",
    "    rubro_fig.show()\n",
    "else:\n",
    "    rubro_plot[\"tonnes_millions\"] = rubro_plot[\"toneladas\"] / 1_000_000\n",
    "    rubro_plot[\"share\"] = rubro_plot[\"toneladas\"] / rubro_plot[\"toneladas\"].sum()\n",
    "\n",
    "    def format_spanish(number: float) -> str:\n",
    "        formatted = f\"{number:,.1f}\"\n",
    "        return formatted.replace(\",\", \"X\").replace(\".\", \",\").replace(\"X\", \".\")\n",
    "\n",
    "    rubro_plot[\"label\"] = rubro_plot.apply(\n",
    "        lambda row: f\"{format_spanish(row['tonnes_millions'])} M t · {format_spanish(row['share'] * 100)}%\",\n",
    "        axis=1,\n",
    "    )\n",
    "\n",
    "    highlight_color = \"#d62828\"\n",
    "    neutral_color = \"#9ca3af\"\n",
    "    highlight_category = rubro_plot.iloc[-1][\"rubro_vu\"]\n",
    "\n",
    "    rubro_fig = go.Figure()\n",
    "\n",
    "    for _, row in rubro_plot.iterrows():\n",
    "        color = highlight_color if row[\"rubro_vu\"] == highlight_category else neutral_color\n",
    "\n",
    "        rubro_fig.add_trace(\n",
    "            go.Scatter(\n",
    "                x=[0, row[\"tonnes_millions\"]],\n",
    "                y=[row[\"rubro_vu\"], row[\"rubro_vu\"]],\n",
    "                mode=\"lines\",\n",
    "                line=dict(color=color, width=3),\n",
    "                hoverinfo=\"skip\",\n",
    "                showlegend=False,\n",
    "            )\n",
    "        )\n",
    "\n",
    "        rubro_fig.add_trace(\n",
    "            go.Scatter(\n",
    "                x=[row[\"tonnes_millions\"]],\n",
    "                y=[row[\"rubro_vu\"]],\n",
    "                mode=\"markers+text\",\n",
    "                marker=dict(color=color, size=14, line=dict(color=\"#ffffff\", width=1.5)),\n",
    "                text=[row[\"label\"]],\n",
    "                textposition=\"middle right\",\n",
    "                textfont=dict(family=\"Georgia, serif\", color=\"#1e1b18\", size=12),\n",
    "                hovertemplate=(\n",
    "                    \"<b>%{customdata[0]}</b><br>Toneladas: %{customdata[1]:,.0f}<br>Participación regional: %{customdata[2]:.1%}<extra></extra>\"\n",
    "                ),\n",
    "                customdata=[[row[\"rubro_vu\"], row[\"toneladas\"], row[\"share\"]]],\n",
    "                showlegend=False,\n",
    "            )\n",
    "        )\n",
    "\n",
    "    text_color = \"#1e1b18\"\n",
    "    background_color = \"#f7f2ea\"\n",
    "    grid_color = \"#d9d3c5\"\n",
    "\n",
    "    rubro_fig.update_layout(\n",
    "        template=\"plotly_white\",\n",
    "        font=dict(family=\"Georgia, serif\", color=text_color, size=15),\n",
    "        title=dict(text=\"Principales rubros en Los Ríos por volumen generado\", font=dict(size=24, color=text_color), x=0.05, y=0.94),\n",
    "        xaxis=dict(\n",
    "            title=dict(text=\"Toneladas\", font=dict(family=\"Georgia, serif\", color=text_color, size=14)),\n",
    "            tickfont=dict(family=\"Georgia, serif\", color=text_color, size=12),\n",
    "            showgrid=True,\n",
    "            gridcolor=grid_color,\n",
    "            griddash=\"dot\",\n",
    "            zeroline=False,\n",
    "            linecolor=grid_color,\n",
    "        ),\n",
    "        yaxis=dict(\n",
    "            title=\"\",\n",
    "            tickfont=dict(family=\"Georgia, serif\", color=text_color, size=12),\n",
    "            showgrid=False,\n",
    "            zeroline=False,\n",
    "            linecolor=grid_color,\n",
    "        ),\n",
    "        plot_bgcolor=background_color,\n",
    "        paper_bgcolor=background_color,\n",
    "        hoverlabel=dict(bgcolor=\"#ffffff\", font=dict(family=\"Georgia, serif\", color=text_color)),\n",
    "        margin=dict(l=200, r=170, t=140, b=130),\n",
    "        width=1380,\n",
    "        height=760,\n",
    "    )\n",
    "\n",
    "    underline_start = -0.26  # move left/right\n",
    "    underline_end = 0.84    # adjust length towards right\n",
    "    underline_height = 1.12  # raise/lower relative to title\n",
    "\n",
    "    underline_shape = dict(\n",
    "        type=\"line\",\n",
    "        x0=underline_start,\n",
    "        x1=underline_end,\n",
    "        y0=underline_height,\n",
    "        y1=underline_height,\n",
    "        xref=\"paper\",\n",
    "        yref=\"paper\",\n",
    "        line=dict(color=highlight_color, width=4),\n",
    "    )\n",
    "    existing_shapes = list(rubro_fig.layout.shapes) if rubro_fig.layout.shapes else []\n",
    "    rubro_fig.update_layout(shapes=[underline_shape, *existing_shapes])\n",
    "\n",
    "    max_millions = rubro_plot[\"tonnes_millions\"].max()\n",
    "    tick_max = math.ceil(max_millions * 10) / 10 if max_millions > 0 else 0.5\n",
    "    tick_step = max(0.2, tick_max / 6)\n",
    "    tick_values = [round(i * tick_step, 1) for i in range(int(tick_max / tick_step) + 1)]\n",
    "    if tick_values[-1] < tick_max:\n",
    "        tick_values.append(round(tick_max, 1))\n",
    "    tick_values = sorted(set(tick_values))\n",
    "    tick_text = [f\"{format_spanish(val)} M\" for val in tick_values]\n",
    "\n",
    "    x_upper_padding = tick_step if tick_step > 0 else 0.2\n",
    "    xaxis_range = [0, tick_max + x_upper_padding]\n",
    "\n",
    "    rubro_fig.update_traces(textfont=dict(size=12, family=\"Georgia, serif\"))\n",
    "\n",
    "    rubro_fig.update_layout(\n",
    "        xaxis=dict(\n",
    "            tickvals=tick_values,\n",
    "            ticktext=tick_text,\n",
    "            rangemode=\"tozero\",\n",
    "            range=xaxis_range,\n",
    "        ),\n",
    "        yaxis=dict(\n",
    "            categoryorder=\"array\",\n",
    "            categoryarray=rubro_plot[\"rubro_vu\"].tolist(),\n",
    "        ),\n",
    "        annotations=[\n",
    "            dict(\n",
    "                text=\"Los Ríos, RNP 2023\",\n",
    "                x=0,\n",
    "                y=1.06,\n",
    "                xref=\"paper\",\n",
    "                yref=\"paper\",\n",
    "                showarrow=False,\n",
    "                font=dict(family=\"Georgia, serif\", size=14, color=\"#4a4338\"),\n",
    "            ),\n",
    "            dict(\n",
    "                text=\"Fuente: Registro Nacional de Emisiones y Transferencias de Residuos (RNP) 2023\",\n",
    "                x=0,\n",
    "                y=-0.22,\n",
    "                xref=\"paper\",\n",
    "                yref=\"paper\",\n",
    "                showarrow=False,\n",
    "                font=dict(family=\"Georgia, serif\", size=11, color=\"#6e6252\"),\n",
    "            ),\n",
    "        ],\n",
    "    )\n",
    "\n",
    "    rubro_fig.show()"
   ]
  },
  {
   "cell_type": "markdown",
   "id": "2dc94a45",
   "metadata": {},
   "source": [
    "## Actores líderes y rubros dominantes\n",
    "\n",
    "\n",
    "\n",
    "Centramos la lupa en los generadores y rubros de Los Ríos para detectar empresas ancla y cadenas productivas que explican su peso relativo frente al resto del bloque comparativo."
   ]
  },
  {
   "cell_type": "code",
   "execution_count": null,
   "id": "7241206a",
   "metadata": {},
   "outputs": [
    {
     "data": {
      "text/markdown": [
       "\n",
       "\n",
       "## Cierre estratégico\n",
       "\n",
       "\n",
       "\n",
       "- Los Ríos concentra aproximadamente **2.3%** del bloque sur-centro comparado (Biobío, Metropolitana, Los Lagos y Araucanía), situándose por detrás de los polos más industrializados pero ofreciendo margen de crecimiento controlado.\n",
       "\n",
       "- En el panorama nacional ocupa el **puesto 11** en volumen declarado, lo que refuerza la necesidad de políticas focalizadas para escalar su contribución.\n",
       "\n",
       "- El mix local combina valorización y eliminación en proporciones similares a Biobío, lo que sugiere priorizar inversiones en valorización y captura energética para mover la aguja.\n",
       "\n",
       "- Las empresas y rubros líderes de la región ofrecen un punto de entrada para pactos de economía circular y fiscalización diferenciada.\n",
       "\n"
      ],
      "text/plain": [
       "<IPython.core.display.Markdown object>"
      ]
     },
     "metadata": {},
     "output_type": "display_data"
    }
   ],
   "source": [
    "los_rios_share_pct = los_rios_share * 100\n",
    "\n",
    "national_rank_df = (\n",
    "\n",
    "    region_df.copy()\n",
    "\n",
    "    .sort_values(\"toneladas_sum\", ascending=False)\n",
    "\n",
    "    .reset_index(drop=True)\n",
    "\n",
    ")\n",
    "\n",
    "los_rios_rank = (\n",
    "\n",
    "    national_rank_df.index[national_rank_df[\"region\"] == \"Los Ríos\"].tolist()[0] + 1\n",
    "\n",
    ")\n",
    "\n",
    "\n",
    "\n",
    "Markdown(\n",
    "\n",
    "    f\"\"\"\n",
    "\n",
    "## Cierre estratégico\n",
    "\n",
    "\n",
    "\n",
    "- Los Ríos concentra aproximadamente **{los_rios_share_pct:.1f}%** del bloque sur-centro comparado (Biobío, Metropolitana, Los Lagos y Araucanía), situándose por detrás de los polos más industrializados pero ofreciendo margen de crecimiento controlado.\n",
    "\n",
    "- En el panorama nacional ocupa el **puesto {los_rios_rank}** en volumen declarado, lo que refuerza la necesidad de políticas focalizadas para escalar su contribución.\n",
    "\n",
    "- El mix local combina valorización y eliminación en proporciones similares a Biobío, lo que sugiere priorizar inversiones en valorización y captura energética para mover la aguja.\n",
    "\n",
    "- Las empresas y rubros líderes de la región ofrecen un punto de entrada para pactos de economía circular y fiscalización diferenciada.\n",
    "\n",
    "\"\"\"\n",
    "\n",
    ")"
   ]
  }
 ],
 "metadata": {
  "kernelspec": {
   "display_name": ".venv",
   "language": "python",
   "name": "python3"
  },
  "language_info": {
   "codemirror_mode": {
    "name": "ipython",
    "version": 3
   },
   "file_extension": ".py",
   "mimetype": "text/x-python",
   "name": "python",
   "nbconvert_exporter": "python",
   "pygments_lexer": "ipython3",
   "version": "3.13.7"
  }
 },
 "nbformat": 4,
 "nbformat_minor": 5
}
